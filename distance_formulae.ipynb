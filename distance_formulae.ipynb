{
 "cells": [
  {
   "cell_type": "markdown",
   "metadata": {},
   "source": [
    "## Distance formula"
   ]
  },
  {
   "cell_type": "code",
   "execution_count": 2,
   "metadata": {},
   "outputs": [
    {
     "name": "stdout",
     "output_type": "stream",
     "text": [
      "\u001b[33mDEPRECATION: Configuring installation scheme with distutils config files is deprecated and will no longer work in the near future. If you are using a Homebrew or Linuxbrew Python, please see discussion at https://github.com/Homebrew/homebrew-core/issues/76621\u001b[0m\u001b[33m\n",
      "\u001b[0mRequirement already satisfied: haversine in /usr/local/lib/python3.9/site-packages (2.6.0)\n",
      "\u001b[33mDEPRECATION: Configuring installation scheme with distutils config files is deprecated and will no longer work in the near future. If you are using a Homebrew or Linuxbrew Python, please see discussion at https://github.com/Homebrew/homebrew-core/issues/76621\u001b[0m\u001b[33m\n",
      "\u001b[0m\u001b[33mWARNING: There was an error checking the latest version of pip.\u001b[0m\u001b[33m\n",
      "\u001b[0m\u001b[33mDEPRECATION: Configuring installation scheme with distutils config files is deprecated and will no longer work in the near future. If you are using a Homebrew or Linuxbrew Python, please see discussion at https://github.com/Homebrew/homebrew-core/issues/76621\u001b[0m\u001b[33m\n",
      "\u001b[0mRequirement already satisfied: vincenty in /usr/local/lib/python3.9/site-packages (0.1.4)\n",
      "\u001b[33mDEPRECATION: Configuring installation scheme with distutils config files is deprecated and will no longer work in the near future. If you are using a Homebrew or Linuxbrew Python, please see discussion at https://github.com/Homebrew/homebrew-core/issues/76621\u001b[0m\u001b[33m\n",
      "\u001b[0m\u001b[33mWARNING: There was an error checking the latest version of pip.\u001b[0m\u001b[33m\n",
      "\u001b[0m"
     ]
    }
   ],
   "source": [
    "! pip install haversine\n",
    "! pip install vincenty"
   ]
  },
  {
   "cell_type": "code",
   "execution_count": 3,
   "metadata": {},
   "outputs": [],
   "source": [
    "from haversine import *\n",
    "from vincenty import *"
   ]
  },
  {
   "cell_type": "code",
   "execution_count": null,
   "metadata": {},
   "outputs": [],
   "source": [
    "# Bounding box over london\n",
    "bottom_left = (51.251246, -0.621715)\n",
    "top_right = (51.715616, 0.369802)\n",
    "\n",
    "top_left = (51.715616, -0.621715)\n",
    "bottom_right = (51.251246, 0.369802)"
   ]
  },
  {
   "cell_type": "markdown",
   "metadata": {},
   "source": [
    "### haversine"
   ]
  },
  {
   "cell_type": "code",
   "execution_count": 4,
   "metadata": {},
   "outputs": [
    {
     "ename": "NameError",
     "evalue": "name 'bottom_left' is not defined",
     "output_type": "error",
     "traceback": [
      "\u001b[0;31m---------------------------------------------------------------------------\u001b[0m",
      "\u001b[0;31mNameError\u001b[0m                                 Traceback (most recent call last)",
      "\u001b[0;32m/var/folders/ch/jwpnj5993lz4b97krkqwl04m0000gn/T/ipykernel_3159/1000281717.py\u001b[0m in \u001b[0;36m<module>\u001b[0;34m\u001b[0m\n\u001b[1;32m      1\u001b[0m \u001b[0;31m# Diaglonal distances\u001b[0m\u001b[0;34m\u001b[0m\u001b[0;34m\u001b[0m\u001b[0m\n\u001b[0;32m----> 2\u001b[0;31m \u001b[0mhaversine_diagonal\u001b[0m \u001b[0;34m=\u001b[0m \u001b[0mhaversine\u001b[0m\u001b[0;34m(\u001b[0m\u001b[0mbottom_left\u001b[0m\u001b[0;34m,\u001b[0m \u001b[0mtop_right\u001b[0m\u001b[0;34m)\u001b[0m\u001b[0;34m\u001b[0m\u001b[0;34m\u001b[0m\u001b[0m\n\u001b[0m\u001b[1;32m      3\u001b[0m \u001b[0mprint\u001b[0m\u001b[0;34m(\u001b[0m\u001b[0mhaversine_diagonal\u001b[0m\u001b[0;34m)\u001b[0m\u001b[0;34m\u001b[0m\u001b[0;34m\u001b[0m\u001b[0m\n\u001b[1;32m      4\u001b[0m \u001b[0mprint\u001b[0m\u001b[0;34m(\u001b[0m\u001b[0mhaversine\u001b[0m\u001b[0;34m(\u001b[0m\u001b[0mtop_left\u001b[0m\u001b[0;34m,\u001b[0m \u001b[0mbottom_right\u001b[0m\u001b[0;34m)\u001b[0m\u001b[0;34m)\u001b[0m\u001b[0;34m\u001b[0m\u001b[0;34m\u001b[0m\u001b[0m\n",
      "\u001b[0;31mNameError\u001b[0m: name 'bottom_left' is not defined"
     ]
    }
   ],
   "source": [
    "# Diaglonal distances\n",
    "haversine_diagonal = haversine(bottom_left, top_right)\n",
    "print(haversine_diagonal)\n",
    "print(haversine(top_left, bottom_right))\n"
   ]
  },
  {
   "cell_type": "code",
   "execution_count": null,
   "metadata": {},
   "outputs": [
    {
     "name": "stdout",
     "output_type": "stream",
     "text": [
      "68.3076519145317\n",
      "69.00680358178303\n",
      "0.6991516672513285\n"
     ]
    }
   ],
   "source": [
    "# Widths\n",
    "haversine_top_width = haversine(top_left, top_right)\n",
    "print(haversine_top_width)\n",
    "haversine_bottom_width = haversine(bottom_left, bottom_right)\n",
    "print(haversine_bottom_width)\n",
    "\n",
    "haversine_width_difference_km = haversine_bottom_width - haversine_top_width\n",
    "print(haversine_width_difference_km)\n"
   ]
  },
  {
   "cell_type": "code",
   "execution_count": null,
   "metadata": {},
   "outputs": [
    {
     "name": "stdout",
     "output_type": "stream",
     "text": [
      "51.63565940804486\n",
      "51.63565940804486\n",
      "0.0\n"
     ]
    }
   ],
   "source": [
    "# Lengths\n",
    "haversine_left_length = haversine(top_left, bottom_left)\n",
    "print(haversine_left_length)\n",
    "haversine_right_length = haversine(top_right, bottom_right)\n",
    "print(haversine_right_length)\n",
    "\n",
    "haversine_length_difference_km = haversine_left_length - haversine_right_length\n",
    "print(haversine_length_difference_km)"
   ]
  },
  {
   "cell_type": "code",
   "execution_count": null,
   "metadata": {},
   "outputs": [
    {
     "name": "stdout",
     "output_type": "stream",
     "text": [
      "(51.714572959156484, -0.12596793402052547)\n",
      "(51.25019905843609, -0.1259677874576408)\n",
      "(51.483430999999996, -0.621715)\n"
     ]
    }
   ],
   "source": [
    "# midpoint calculations\n",
    "\n",
    "haversine_top_width_midpoint = inverse_haversine(top_left, haversine_top_width/2, Direction.EAST)\n",
    "print(haversine_top_width_midpoint)\n",
    "\n",
    "haversine_bottom_width_midpoint = inverse_haversine(bottom_left, haversine_bottom_width/2, Direction.EAST)\n",
    "print(haversine_bottom_width_midpoint)\n",
    "\n",
    "haversin_left_length_midpoint = inverse_haversine(top_left, haversine_left_length/2, Direction.SOUTH)\n",
    "print(haversin_left_length_midpoint)"
   ]
  },
  {
   "cell_type": "markdown",
   "metadata": {},
   "source": [
    "### Vincenty"
   ]
  },
  {
   "cell_type": "code",
   "execution_count": null,
   "metadata": {},
   "outputs": [
    {
     "name": "stdout",
     "output_type": "stream",
     "text": [
      "86.098637\n",
      "86.098637\n"
     ]
    }
   ],
   "source": [
    "vincenty_diagonal = vincenty(bottom_left, top_right)\n",
    "print(vincenty_diagonal)\n",
    "print(vincenty(top_right, bottom_left))"
   ]
  },
  {
   "cell_type": "code",
   "execution_count": null,
   "metadata": {},
   "outputs": [
    {
     "name": "stdout",
     "output_type": "stream",
     "text": [
      "68.525547\n"
     ]
    }
   ],
   "source": [
    "# top width:\n",
    "vincenty_top_width = vincenty(top_left, top_right)\n",
    "print(vincenty_top_width)"
   ]
  },
  {
   "cell_type": "code",
   "execution_count": null,
   "metadata": {},
   "outputs": [
    {
     "name": "stdout",
     "output_type": "stream",
     "text": [
      "69.225091\n"
     ]
    }
   ],
   "source": [
    "# bottom width:\n",
    "vincenty_bottom_width = vincenty(bottom_left, bottom_right)\n",
    "print(vincenty_bottom_width)"
   ]
  },
  {
   "cell_type": "code",
   "execution_count": null,
   "metadata": {},
   "outputs": [
    {
     "name": "stdout",
     "output_type": "stream",
     "text": [
      "51.664653\n"
     ]
    }
   ],
   "source": [
    "# left length\n",
    "vincenty_left_length = vincenty(top_left, bottom_left)\n",
    "print(vincenty_left_length)"
   ]
  },
  {
   "cell_type": "markdown",
   "metadata": {},
   "source": [
    "### Formula comparison:"
   ]
  },
  {
   "cell_type": "code",
   "execution_count": null,
   "metadata": {},
   "outputs": [
    {
     "name": "stdout",
     "output_type": "stream",
     "text": [
      "191.79416903571678 m\n",
      "0.2227609817281042 %\n"
     ]
    }
   ],
   "source": [
    "# Diagonal difference:\n",
    "diagonal_difference = vincenty_diagonal - haversine_diagonal\n",
    "print(diagonal_difference * 1000, \"m\")\n",
    "diagonal_percentage_difference = (vincenty_diagonal - haversine_diagonal) / vincenty_diagonal * 100\n",
    "print(diagonal_percentage_difference,\"%\")\n"
   ]
  },
  {
   "cell_type": "code",
   "execution_count": null,
   "metadata": {},
   "outputs": [
    {
     "name": "stdout",
     "output_type": "stream",
     "text": [
      "217.8950854682995 m\n",
      "0.31797642632214157 %\n"
     ]
    }
   ],
   "source": [
    "# Top width difference:\n",
    "top_width_difference = vincenty_top_width - haversine_top_width\n",
    "print(top_width_difference * 1000, \"m\")\n",
    "top_width_percentage_difference = top_width_difference / vincenty_top_width * 100\n",
    "print(top_width_percentage_difference,\"%\")"
   ]
  },
  {
   "cell_type": "code",
   "execution_count": null,
   "metadata": {},
   "outputs": [
    {
     "name": "stdout",
     "output_type": "stream",
     "text": [
      "218.28741821697406 m\n",
      "0.3153299115446075 %\n"
     ]
    }
   ],
   "source": [
    "# Bottom width difference:\n",
    "bottom_width_difference = vincenty_bottom_width - haversine_bottom_width\n",
    "print(bottom_width_difference * 1000, \"m\")\n",
    "bottom_width_percentage_difference = bottom_width_difference / vincenty_bottom_width * 100\n",
    "print(bottom_width_percentage_difference,\"%\") # This is the max amount of error using the haversine formula given our bounding box"
   ]
  },
  {
   "cell_type": "code",
   "execution_count": null,
   "metadata": {},
   "outputs": [
    {
     "name": "stdout",
     "output_type": "stream",
     "text": [
      "28.993591955142506 m\n",
      "0.056118816776225135 %\n"
     ]
    }
   ],
   "source": [
    "# Length difference\n",
    "left_length_difference = vincenty_left_length - haversine_left_length\n",
    "print(left_length_difference *1000, \"m\")\n",
    "left_length_percentage_difference = left_length_difference / vincenty_left_length * 100\n",
    "print(left_length_percentage_difference,\"%\")"
   ]
  },
  {
   "cell_type": "code",
   "execution_count": 5,
   "metadata": {},
   "outputs": [],
   "source": [
    "# NOTE:\n",
    "# Would expect the greatest error difference to come from a diagonal line given there's error along the width and length\n",
    "# so combining this error should results in a great error?"
   ]
  },
  {
   "cell_type": "code",
   "execution_count": null,
   "metadata": {},
   "outputs": [],
   "source": []
  }
 ],
 "metadata": {
  "kernelspec": {
   "display_name": "Python 3.9.13 64-bit",
   "language": "python",
   "name": "python3"
  },
  "language_info": {
   "codemirror_mode": {
    "name": "ipython",
    "version": 3
   },
   "file_extension": ".py",
   "mimetype": "text/x-python",
   "name": "python",
   "nbconvert_exporter": "python",
   "pygments_lexer": "ipython3",
   "version": "3.9.13"
  },
  "orig_nbformat": 4,
  "vscode": {
   "interpreter": {
    "hash": "aee8b7b246df8f9039afb4144a1f6fd8d2ca17a180786b69acc140d282b71a49"
   }
  }
 },
 "nbformat": 4,
 "nbformat_minor": 2
}
