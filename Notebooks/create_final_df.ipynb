{
 "cells": [
  {
   "cell_type": "code",
   "execution_count": 1,
   "metadata": {},
   "outputs": [],
   "source": [
    "import sys\n",
    "import pathlib\n",
    "import pandas as pd\n",
    "\n",
    "ROOT = pathlib.Path().absolute().parent.as_posix()\n",
    "if ROOT not in sys.path:\n",
    "    sys.path.append(ROOT)\n",
    "    \n",
    "from helpers import *"
   ]
  },
  {
   "cell_type": "code",
   "execution_count": 2,
   "metadata": {},
   "outputs": [
    {
     "ename": "KeyboardInterrupt",
     "evalue": "",
     "output_type": "error",
     "traceback": [
      "\u001b[0;31m---------------------------------------------------------------------------\u001b[0m",
      "\u001b[0;31mKeyboardInterrupt\u001b[0m                         Traceback (most recent call last)",
      "\u001b[1;32m/Users/joshua.grefte/Projects/ASDI/Local_Repo/ASDI-Hackathon/Notebooks/create_final_df.ipynb Cell 2\u001b[0m in \u001b[0;36m<cell line: 5>\u001b[0;34m()\u001b[0m\n\u001b[1;32m      <a href='vscode-notebook-cell:/Users/joshua.grefte/Projects/ASDI/Local_Repo/ASDI-Hackathon/Notebooks/create_final_df.ipynb#ch0000001?line=0'>1</a>\u001b[0m \u001b[39m#use local land_type_025.csv\u001b[39;00m\n\u001b[1;32m      <a href='vscode-notebook-cell:/Users/joshua.grefte/Projects/ASDI/Local_Repo/ASDI-Hackathon/Notebooks/create_final_df.ipynb#ch0000001?line=1'>2</a>\u001b[0m \u001b[39m#penultimate_df = fill_points_land_type_df()\u001b[39;00m\n\u001b[1;32m      <a href='vscode-notebook-cell:/Users/joshua.grefte/Projects/ASDI/Local_Repo/ASDI-Hackathon/Notebooks/create_final_df.ipynb#ch0000001?line=2'>3</a>\u001b[0m \n\u001b[1;32m      <a href='vscode-notebook-cell:/Users/joshua.grefte/Projects/ASDI/Local_Repo/ASDI-Hackathon/Notebooks/create_final_df.ipynb#ch0000001?line=3'>4</a>\u001b[0m \u001b[39m#use cloud s3 bucket land_type_025.csv\u001b[39;00m\n\u001b[0;32m----> <a href='vscode-notebook-cell:/Users/joshua.grefte/Projects/ASDI/Local_Repo/ASDI-Hackathon/Notebooks/create_final_df.ipynb#ch0000001?line=4'>5</a>\u001b[0m penultimate_df \u001b[39m=\u001b[39m fill_points_land_type_df(\u001b[39m'\u001b[39;49m\u001b[39masdi-hackathon\u001b[39;49m\u001b[39m'\u001b[39;49m, \u001b[39m'\u001b[39;49m\u001b[39mland_type_025.csv\u001b[39;49m\u001b[39m'\u001b[39;49m)\n",
      "File \u001b[0;32m~/Projects/ASDI/Local_Repo/ASDI-Hackathon/helpers.py:532\u001b[0m, in \u001b[0;36mfill_points_land_type_df\u001b[0;34m(bucket, key)\u001b[0m\n\u001b[1;32m    529\u001b[0m \u001b[39mfor\u001b[39;00m i \u001b[39min\u001b[39;00m [\u001b[39m'\u001b[39m\u001b[39mAirport\u001b[39m\u001b[39m'\u001b[39m, \u001b[39m'\u001b[39m\u001b[39mWater\u001b[39m\u001b[39m'\u001b[39m, \u001b[39m'\u001b[39m\u001b[39mBuilding\u001b[39m\u001b[39m'\u001b[39m, \u001b[39m'\u001b[39m\u001b[39mGreen_Space\u001b[39m\u001b[39m'\u001b[39m, \u001b[39m'\u001b[39m\u001b[39mRailway_Station\u001b[39m\u001b[39m'\u001b[39m, \u001b[39m'\u001b[39m\u001b[39mUrban_Area\u001b[39m\u001b[39m'\u001b[39m]:\n\u001b[1;32m    530\u001b[0m     df[i] \u001b[39m=\u001b[39m df[i]\u001b[39m.\u001b[39mastype(\u001b[39mint\u001b[39m)\n\u001b[0;32m--> 532\u001b[0m start \u001b[39m=\u001b[39m time()\n\u001b[1;32m    533\u001b[0m df \u001b[39m=\u001b[39m parallelise(df, apply_aq_metric_functions)\n\u001b[1;32m    534\u001b[0m end \u001b[39m=\u001b[39m time()\n",
      "File \u001b[0;32m~/Projects/ASDI/Local_Repo/ASDI-Hackathon/helpers.py:375\u001b[0m, in \u001b[0;36mparallelise\u001b[0;34m(df, func)\u001b[0m\n\u001b[1;32m    373\u001b[0m n_cores \u001b[39m=\u001b[39m cpu_count()\n\u001b[1;32m    374\u001b[0m df_splits \u001b[39m=\u001b[39m np\u001b[39m.\u001b[39marray_split(df, n_cores)\n\u001b[0;32m--> 375\u001b[0m pool \u001b[39m=\u001b[39m Pool(n_cores)\n\u001b[1;32m    376\u001b[0m results \u001b[39m=\u001b[39m pool\u001b[39m.\u001b[39mmap(func, df_splits)\n\u001b[1;32m    377\u001b[0m pool\u001b[39m.\u001b[39mclose()\n",
      "File \u001b[0;32m~/Library/Python/3.10/lib/python/site-packages/multiprocess/pool.py:364\u001b[0m, in \u001b[0;36mPool.map\u001b[0;34m(self, func, iterable, chunksize)\u001b[0m\n\u001b[1;32m    359\u001b[0m \u001b[39mdef\u001b[39;00m \u001b[39mmap\u001b[39m(\u001b[39mself\u001b[39m, func, iterable, chunksize\u001b[39m=\u001b[39m\u001b[39mNone\u001b[39;00m):\n\u001b[1;32m    360\u001b[0m     \u001b[39m'''\u001b[39;00m\n\u001b[1;32m    361\u001b[0m \u001b[39m    Apply `func` to each element in `iterable`, collecting the results\u001b[39;00m\n\u001b[1;32m    362\u001b[0m \u001b[39m    in a list that is returned.\u001b[39;00m\n\u001b[1;32m    363\u001b[0m \u001b[39m    '''\u001b[39;00m\n\u001b[0;32m--> 364\u001b[0m     \u001b[39mreturn\u001b[39;00m \u001b[39mself\u001b[39;49m\u001b[39m.\u001b[39;49m_map_async(func, iterable, mapstar, chunksize)\u001b[39m.\u001b[39;49mget()\n",
      "File \u001b[0;32m~/Library/Python/3.10/lib/python/site-packages/multiprocess/pool.py:765\u001b[0m, in \u001b[0;36mApplyResult.get\u001b[0;34m(self, timeout)\u001b[0m\n\u001b[1;32m    764\u001b[0m \u001b[39mdef\u001b[39;00m \u001b[39mget\u001b[39m(\u001b[39mself\u001b[39m, timeout\u001b[39m=\u001b[39m\u001b[39mNone\u001b[39;00m):\n\u001b[0;32m--> 765\u001b[0m     \u001b[39mself\u001b[39;49m\u001b[39m.\u001b[39;49mwait(timeout)\n\u001b[1;32m    766\u001b[0m     \u001b[39mif\u001b[39;00m \u001b[39mnot\u001b[39;00m \u001b[39mself\u001b[39m\u001b[39m.\u001b[39mready():\n\u001b[1;32m    767\u001b[0m         \u001b[39mraise\u001b[39;00m \u001b[39mTimeoutError\u001b[39;00m\n",
      "File \u001b[0;32m~/Library/Python/3.10/lib/python/site-packages/multiprocess/pool.py:762\u001b[0m, in \u001b[0;36mApplyResult.wait\u001b[0;34m(self, timeout)\u001b[0m\n\u001b[1;32m    761\u001b[0m \u001b[39mdef\u001b[39;00m \u001b[39mwait\u001b[39m(\u001b[39mself\u001b[39m, timeout\u001b[39m=\u001b[39m\u001b[39mNone\u001b[39;00m):\n\u001b[0;32m--> 762\u001b[0m     \u001b[39mself\u001b[39;49m\u001b[39m.\u001b[39;49m_event\u001b[39m.\u001b[39;49mwait(timeout)\n",
      "File \u001b[0;32m/Library/Frameworks/Python.framework/Versions/3.10/lib/python3.10/threading.py:607\u001b[0m, in \u001b[0;36mEvent.wait\u001b[0;34m(self, timeout)\u001b[0m\n\u001b[1;32m    605\u001b[0m signaled \u001b[39m=\u001b[39m \u001b[39mself\u001b[39m\u001b[39m.\u001b[39m_flag\n\u001b[1;32m    606\u001b[0m \u001b[39mif\u001b[39;00m \u001b[39mnot\u001b[39;00m signaled:\n\u001b[0;32m--> 607\u001b[0m     signaled \u001b[39m=\u001b[39m \u001b[39mself\u001b[39;49m\u001b[39m.\u001b[39;49m_cond\u001b[39m.\u001b[39;49mwait(timeout)\n\u001b[1;32m    608\u001b[0m \u001b[39mreturn\u001b[39;00m signaled\n",
      "File \u001b[0;32m/Library/Frameworks/Python.framework/Versions/3.10/lib/python3.10/threading.py:320\u001b[0m, in \u001b[0;36mCondition.wait\u001b[0;34m(self, timeout)\u001b[0m\n\u001b[1;32m    318\u001b[0m \u001b[39mtry\u001b[39;00m:    \u001b[39m# restore state no matter what (e.g., KeyboardInterrupt)\u001b[39;00m\n\u001b[1;32m    319\u001b[0m     \u001b[39mif\u001b[39;00m timeout \u001b[39mis\u001b[39;00m \u001b[39mNone\u001b[39;00m:\n\u001b[0;32m--> 320\u001b[0m         waiter\u001b[39m.\u001b[39;49macquire()\n\u001b[1;32m    321\u001b[0m         gotit \u001b[39m=\u001b[39m \u001b[39mTrue\u001b[39;00m\n\u001b[1;32m    322\u001b[0m     \u001b[39melse\u001b[39;00m:\n",
      "\u001b[0;31mKeyboardInterrupt\u001b[0m: "
     ]
    }
   ],
   "source": [
    "#use local land_type_025.csv\n",
    "penultimate_df = fill_points_land_type_df()\n",
    "\n",
    "#use cloud s3 bucket land_type_025.csv\n",
    "#penultimate_df = fill_points_land_type_df('asdi-hackathon', 'land_type_025.csv')"
   ]
  },
  {
   "cell_type": "code",
   "execution_count": 10,
   "metadata": {},
   "outputs": [],
   "source": [
    "#save dataframe to csv\n",
    "penultimate_df.to_csv(ROOT_FOLDER_PATH + 'penultimate_df.csv', index = True)\n",
    "    \n",
    "#save dataframe to parquet\n",
    "#final_df.to_parquet(ROOT_FOLDER_PATH + 'penultimate_df.parquet', engine = 'auto', compression = None, index = False)"
   ]
  },
  {
   "cell_type": "code",
   "execution_count": 11,
   "metadata": {},
   "outputs": [
    {
     "data": {
      "text/plain": [
       "Index(['Latitude', 'Longitude', 'Airport', 'Water', 'Building', 'Green_Space',\n",
       "       'Railway_Station', 'Urban_Area', 'Value_co', 'Value_no2', 'Value_o3',\n",
       "       'Value_so2', 'Value_ai', 'AQ_score', 'Pop_density'],\n",
       "      dtype='object')"
      ]
     },
     "execution_count": 11,
     "metadata": {},
     "output_type": "execute_result"
    }
   ],
   "source": [
    "penultimate_df.columns"
   ]
  },
  {
   "cell_type": "code",
   "execution_count": 12,
   "metadata": {},
   "outputs": [
    {
     "name": "stdout",
     "output_type": "stream",
     "text": [
      "Successful upload\n"
     ]
    }
   ],
   "source": [
    "upload_df_to_s3(bucket = 'asdi-hackathon', df = penultimate_df, key = 'final-data/penultimate_df.csv')"
   ]
  },
  {
   "cell_type": "code",
   "execution_count": 13,
   "metadata": {},
   "outputs": [
    {
     "name": "stdout",
     "output_type": "stream",
     "text": [
      "popd_weight =  0.7516089956952361\n",
      "apply_greenspace_score_function complete\n",
      "Time taken: 3.18\n"
     ]
    }
   ],
   "source": [
    "#use local penultimate_df.csv\n",
    "final_df = fill_penultimate_df()\n",
    "\n",
    "#use cloud s3 bucket penultimate_df.csv\n",
    "#penultimate_df = fill_points_land_type_df('asdi-hackathon', 'final-data/penultimate_df.csv')"
   ]
  },
  {
   "cell_type": "code",
   "execution_count": 14,
   "metadata": {},
   "outputs": [],
   "source": [
    "#save dataframe to csv\n",
    "final_df.to_csv(ROOT_FOLDER_PATH + 'final_df.csv', index = True)"
   ]
  },
  {
   "cell_type": "code",
   "execution_count": 15,
   "metadata": {},
   "outputs": [
    {
     "data": {
      "text/plain": [
       "Index(['Latitude', 'Longitude', 'Airport', 'Water', 'Building', 'Green_Space',\n",
       "       'Railway_Station', 'Urban_Area', 'Value_co', 'Value_no2', 'Value_o3',\n",
       "       'Value_so2', 'Value_ai', 'AQ_score', 'Pop_density', 'Greenspace_score',\n",
       "       'avg_penalty_reward'],\n",
       "      dtype='object')"
      ]
     },
     "execution_count": 15,
     "metadata": {},
     "output_type": "execute_result"
    }
   ],
   "source": [
    "final_df.columns"
   ]
  },
  {
   "cell_type": "code",
   "execution_count": 16,
   "metadata": {},
   "outputs": [
    {
     "name": "stdout",
     "output_type": "stream",
     "text": [
      "Successful upload\n"
     ]
    }
   ],
   "source": [
    "upload_df_to_s3(bucket = 'asdi-hackathon', df = final_df, key = 'final-data/final_df.csv')"
   ]
  },
  {
   "cell_type": "code",
   "execution_count": null,
   "metadata": {},
   "outputs": [],
   "source": []
  }
 ],
 "metadata": {
  "kernelspec": {
   "display_name": "Python 3.10.5 64-bit",
   "language": "python",
   "name": "python3"
  },
  "language_info": {
   "codemirror_mode": {
    "name": "ipython",
    "version": 3
   },
   "file_extension": ".py",
   "mimetype": "text/x-python",
   "name": "python",
   "nbconvert_exporter": "python",
   "pygments_lexer": "ipython3",
   "version": "3.10.5"
  },
  "orig_nbformat": 4,
  "vscode": {
   "interpreter": {
    "hash": "aee8b7b246df8f9039afb4144a1f6fd8d2ca17a180786b69acc140d282b71a49"
   }
  }
 },
 "nbformat": 4,
 "nbformat_minor": 2
}
