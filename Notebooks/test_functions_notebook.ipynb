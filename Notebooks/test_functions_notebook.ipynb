{
 "cells": [
  {
   "cell_type": "code",
   "execution_count": 1,
   "metadata": {},
   "outputs": [],
   "source": [
    "import sys\n",
    "import pathlib\n",
    "\n",
    "ROOT = pathlib.Path().absolute().parent.as_posix()\n",
    "if ROOT not in sys.path:\n",
    "    sys.path.append(ROOT)\n",
    "    \n",
    "from helpers import *"
   ]
  },
  {
   "cell_type": "code",
   "execution_count": null,
   "metadata": {},
   "outputs": [],
   "source": [
    "#Nitrogen Dioxide\n",
    "pred = no2_function(lat = 55.9490, lon = 3.1908)\n",
    "pred"
   ]
  },
  {
   "cell_type": "code",
   "execution_count": null,
   "metadata": {},
   "outputs": [],
   "source": [
    "#Sulphur Dioxide\n",
    "pred = so2_function(lat = 55.9490, lon = 3.1908)\n",
    "pred"
   ]
  },
  {
   "cell_type": "code",
   "execution_count": null,
   "metadata": {},
   "outputs": [],
   "source": [
    "#Ozone\n",
    "pred = o3_function(lat = 55.9490, lon = 3.1908)\n",
    "pred"
   ]
  },
  {
   "cell_type": "code",
   "execution_count": null,
   "metadata": {},
   "outputs": [],
   "source": [
    "#Carbon Monoxide\n",
    "pred = co_function(lat = 55.9490, lon = 3.1908)\n",
    "pred"
   ]
  },
  {
   "cell_type": "code",
   "execution_count": null,
   "metadata": {},
   "outputs": [],
   "source": [
    "#Population Density\n",
    "#new data point\n",
    "pred1 = popdensity_function(lat = 55.9490, lon = 3.1908)\n",
    "print(pred1)\n",
    "\n",
    "import pandas as pd\n",
    "test_df = pd.DataFrame({'Latitude': [51.560139, 51.554583], 'Longitude': [0.227083, -0.208472], 'Population': [5.406240, 33.506246]})\n",
    "\n",
    "pred2 = []\n",
    "for i in [0, 1]:\n",
    "    pred2.append(popdensity_function(test_df['Latitude'][i], test_df['Longitude'][i]))\n",
    "\n",
    "print(pred2)\n",
    "test_df.insert(3, 'Predicted Population', pred2)\n",
    "test_df['Error'] = abs(test_df['Population'] - test_df['Predicted Population'])\n",
    "test_df"
   ]
  },
  {
   "cell_type": "code",
   "execution_count": 2,
   "metadata": {},
   "outputs": [
    {
     "name": "stdout",
     "output_type": "stream",
     "text": [
      "Values out of bounds\n",
      "50 0 Value Out of bounds Value Out of bounds\n"
     ]
    },
    {
     "ename": "UnboundLocalError",
     "evalue": "local variable 'aq_index' referenced before assignment",
     "output_type": "error",
     "traceback": [
      "\u001b[0;31m---------------------------------------------------------------------------\u001b[0m",
      "\u001b[0;31mUnboundLocalError\u001b[0m                         Traceback (most recent call last)",
      "\u001b[1;32m/Users/joshua.grefte/Projects/ASDI/Local_Repo/ASDI-Hackathon/Notebooks/test_functions_notebook.ipynb Cell 7\u001b[0m in \u001b[0;36m<cell line: 1>\u001b[0;34m()\u001b[0m\n\u001b[0;32m----> <a href='vscode-notebook-cell:/Users/joshua.grefte/Projects/ASDI/Local_Repo/ASDI-Hackathon/Notebooks/test_functions_notebook.ipynb#ch0000006?line=0'>1</a>\u001b[0m aqi \u001b[39m=\u001b[39m aqi_function(lat \u001b[39m=\u001b[39;49m \u001b[39m55.9490\u001b[39;49m, lon \u001b[39m=\u001b[39;49m \u001b[39m3.1908\u001b[39;49m)\n\u001b[1;32m      <a href='vscode-notebook-cell:/Users/joshua.grefte/Projects/ASDI/Local_Repo/ASDI-Hackathon/Notebooks/test_functions_notebook.ipynb#ch0000006?line=1'>2</a>\u001b[0m aqi\n",
      "File \u001b[0;32m~/Projects/ASDI/Local_Repo/ASDI-Hackathon/helpers.py:188\u001b[0m, in \u001b[0;36maqi_function\u001b[0;34m(lat, lon)\u001b[0m\n\u001b[1;32m    186\u001b[0m aqi_category \u001b[39m=\u001b[39m \u001b[39m'\u001b[39m\u001b[39m'\u001b[39m\n\u001b[1;32m    187\u001b[0m \u001b[39mfor\u001b[39;00m key \u001b[39min\u001b[39;00m aqi_category_dict:\n\u001b[0;32m--> 188\u001b[0m         \u001b[39mif\u001b[39;00m (aq_index \u001b[39m<\u001b[39m \u001b[39mmax\u001b[39m(aqi_category_dict[key])) \u001b[39mand\u001b[39;00m (aq_index \u001b[39m>\u001b[39m \u001b[39mmin\u001b[39m(aqi_category_dict[key])):\n\u001b[1;32m    189\u001b[0m             aqi_category \u001b[39m=\u001b[39m key\n\u001b[1;32m    190\u001b[0m \u001b[39mif\u001b[39;00m aqi_category \u001b[39m==\u001b[39m \u001b[39m'\u001b[39m\u001b[39m'\u001b[39m:\n",
      "\u001b[0;31mUnboundLocalError\u001b[0m: local variable 'aq_index' referenced before assignment"
     ]
    }
   ],
   "source": [
    "aqi = aqi_function(lat = 55.9490, lon = 3.1908)\n",
    "aqi"
   ]
  },
  {
   "cell_type": "code",
   "execution_count": null,
   "metadata": {},
   "outputs": [],
   "source": []
  }
 ],
 "metadata": {
  "kernelspec": {
   "display_name": "Python 3.10.5 64-bit",
   "language": "python",
   "name": "python3"
  },
  "language_info": {
   "codemirror_mode": {
    "name": "ipython",
    "version": 3
   },
   "file_extension": ".py",
   "mimetype": "text/x-python",
   "name": "python",
   "nbconvert_exporter": "python",
   "pygments_lexer": "ipython3",
   "version": "3.10.5"
  },
  "orig_nbformat": 4,
  "vscode": {
   "interpreter": {
    "hash": "aee8b7b246df8f9039afb4144a1f6fd8d2ca17a180786b69acc140d282b71a49"
   }
  }
 },
 "nbformat": 4,
 "nbformat_minor": 2
}
