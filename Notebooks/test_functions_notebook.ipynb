{
 "cells": [
  {
   "cell_type": "code",
   "execution_count": 1,
   "metadata": {},
   "outputs": [],
   "source": [
    "import sys\n",
    "import pathlib\n",
    "\n",
    "ROOT = pathlib.Path().absolute().parent.as_posix()\n",
    "if ROOT not in sys.path:\n",
    "    sys.path.append(ROOT)\n",
    "    \n",
    "from helpers import *"
   ]
  },
  {
   "cell_type": "code",
   "execution_count": 2,
   "metadata": {},
   "outputs": [
    {
     "data": {
      "text/plain": [
       "6.963238638279608e-05"
      ]
     },
     "execution_count": 2,
     "metadata": {},
     "output_type": "execute_result"
    }
   ],
   "source": [
    "#Nitrogen Dioxide\n",
    "pred = no2_function(lat = 55.9490, lon = 3.1908)\n",
    "pred"
   ]
  },
  {
   "cell_type": "code",
   "execution_count": 3,
   "metadata": {},
   "outputs": [
    {
     "data": {
      "text/plain": [
       "0.00043008250168151727"
      ]
     },
     "execution_count": 3,
     "metadata": {},
     "output_type": "execute_result"
    }
   ],
   "source": [
    "#Sulphur Dioxide\n",
    "pred = so2_function(lat = 55.9490, lon = 3.1908)\n",
    "pred"
   ]
  },
  {
   "cell_type": "code",
   "execution_count": 4,
   "metadata": {},
   "outputs": [
    {
     "data": {
      "text/plain": [
       "0.15143730987114343"
      ]
     },
     "execution_count": 4,
     "metadata": {},
     "output_type": "execute_result"
    }
   ],
   "source": [
    "#Ozone\n",
    "pred = o3_function(lat = 55.9490, lon = 3.1908)\n",
    "pred"
   ]
  },
  {
   "cell_type": "code",
   "execution_count": 5,
   "metadata": {},
   "outputs": [
    {
     "data": {
      "text/plain": [
       "0.027687363838977415"
      ]
     },
     "execution_count": 5,
     "metadata": {},
     "output_type": "execute_result"
    }
   ],
   "source": [
    "#Carbon Monoxide\n",
    "pred = co_function(lat = 55.9490, lon = 3.1908)\n",
    "pred"
   ]
  },
  {
   "cell_type": "code",
   "execution_count": 2,
   "metadata": {},
   "outputs": [
    {
     "name": "stdout",
     "output_type": "stream",
     "text": [
      "4.266364362328641\n",
      "[5.4062395397265, 33.50624635390489]\n"
     ]
    },
    {
     "data": {
      "text/html": [
       "<div>\n",
       "<style scoped>\n",
       "    .dataframe tbody tr th:only-of-type {\n",
       "        vertical-align: middle;\n",
       "    }\n",
       "\n",
       "    .dataframe tbody tr th {\n",
       "        vertical-align: top;\n",
       "    }\n",
       "\n",
       "    .dataframe thead th {\n",
       "        text-align: right;\n",
       "    }\n",
       "</style>\n",
       "<table border=\"1\" class=\"dataframe\">\n",
       "  <thead>\n",
       "    <tr style=\"text-align: right;\">\n",
       "      <th></th>\n",
       "      <th>Latitude</th>\n",
       "      <th>Longitude</th>\n",
       "      <th>Population</th>\n",
       "      <th>Predicted Population</th>\n",
       "      <th>Error</th>\n",
       "    </tr>\n",
       "  </thead>\n",
       "  <tbody>\n",
       "    <tr>\n",
       "      <th>0</th>\n",
       "      <td>51.560139</td>\n",
       "      <td>0.227083</td>\n",
       "      <td>5.406240</td>\n",
       "      <td>5.406240</td>\n",
       "      <td>4.602735e-07</td>\n",
       "    </tr>\n",
       "    <tr>\n",
       "      <th>1</th>\n",
       "      <td>51.554583</td>\n",
       "      <td>-0.208472</td>\n",
       "      <td>33.506246</td>\n",
       "      <td>33.506246</td>\n",
       "      <td>3.539049e-07</td>\n",
       "    </tr>\n",
       "  </tbody>\n",
       "</table>\n",
       "</div>"
      ],
      "text/plain": [
       "    Latitude  Longitude  Population  Predicted Population         Error\n",
       "0  51.560139   0.227083    5.406240              5.406240  4.602735e-07\n",
       "1  51.554583  -0.208472   33.506246             33.506246  3.539049e-07"
      ]
     },
     "execution_count": 2,
     "metadata": {},
     "output_type": "execute_result"
    }
   ],
   "source": [
    "#Population Density\n",
    "#new data point\n",
    "pred1 = popdensity_function(lat = 55.9490, lon = 3.1908)\n",
    "print(pred1)\n",
    "\n",
    "import pandas as pd\n",
    "test_df = pd.DataFrame({'Latitude': [51.560139, 51.554583], 'Longitude': [0.227083, -0.208472], 'Population': [5.406240, 33.506246]})\n",
    "\n",
    "pred2 = []\n",
    "for i in [0, 1]:\n",
    "    pred2.append(popdensity_function(test_df['Latitude'][i], test_df['Longitude'][i]))\n",
    "\n",
    "print(pred2)\n",
    "test_df.insert(3, 'Predicted Population', pred2)\n",
    "test_df['Error'] = abs(test_df['Population'] - test_df['Predicted Population'])\n",
    "test_df"
   ]
  },
  {
   "cell_type": "code",
   "execution_count": 2,
   "metadata": {},
   "outputs": [
    {
     "ename": "AttributeError",
     "evalue": "module 'aqi' has no attribute 'POLLUTANT_CO_1H'",
     "output_type": "error",
     "traceback": [
      "\u001b[0;31m---------------------------------------------------------------------------\u001b[0m",
      "\u001b[0;31mAttributeError\u001b[0m                            Traceback (most recent call last)",
      "\u001b[1;32m/Users/joshua.grefte/Projects/ASDI/Local_Repo/ASDI-Hackathon/Notebooks/test_functions_notebook.ipynb Cell 7\u001b[0m in \u001b[0;36m<cell line: 1>\u001b[0;34m()\u001b[0m\n\u001b[0;32m----> <a href='vscode-notebook-cell:/Users/joshua.grefte/Projects/ASDI/Local_Repo/ASDI-Hackathon/Notebooks/test_functions_notebook.ipynb#ch0000006?line=0'>1</a>\u001b[0m aqi \u001b[39m=\u001b[39m aqi_function(lat \u001b[39m=\u001b[39;49m \u001b[39m55.9490\u001b[39;49m, lon \u001b[39m=\u001b[39;49m \u001b[39m3.1908\u001b[39;49m)\n\u001b[1;32m      <a href='vscode-notebook-cell:/Users/joshua.grefte/Projects/ASDI/Local_Repo/ASDI-Hackathon/Notebooks/test_functions_notebook.ipynb#ch0000006?line=1'>2</a>\u001b[0m aqi\n",
      "File \u001b[0;32m~/Projects/ASDI/Local_Repo/ASDI-Hackathon/helpers.py:138\u001b[0m, in \u001b[0;36maqi_function\u001b[0;34m(lat, lon)\u001b[0m\n\u001b[1;32m    129\u001b[0m \u001b[39m#using China Ministry of Environmental Protection (MEP) as US' EPA equivalent does not support CO\u001b[39;00m\n\u001b[1;32m    130\u001b[0m \u001b[39m#calc_aqi = aqi.to_iaqi([(aqi.POLLUTANT_CO_1H, str(co_converted), algo = aqi.ALGO_MEP),\u001b[39;00m\n\u001b[1;32m    131\u001b[0m                        \u001b[39m#(aqi.POLLUTANT_NO2_1H, str(no2_converted), algo = aqi.ALGO_MEP),\u001b[39;00m\n\u001b[0;32m   (...)\u001b[0m\n\u001b[1;32m    134\u001b[0m \n\u001b[1;32m    135\u001b[0m \u001b[39m#calc_aqi = aqi.to_iaqi(aqi.POLLUTANT_CO_1H, str(co_converted), algo = aqi.ALGO_MEP)\u001b[39;00m\n\u001b[1;32m    137\u001b[0m aqi_list \u001b[39m=\u001b[39m []\n\u001b[0;32m--> 138\u001b[0m pollutant_constant_list \u001b[39m=\u001b[39m [aqi\u001b[39m.\u001b[39;49mPOLLUTANT_CO_1H, aqi\u001b[39m.\u001b[39mPOLLUTANT_NO2_1H, aqi\u001b[39m.\u001b[39mPOLLUTANT_O3_1H, aqi\u001b[39m.\u001b[39mPOLLUTANT_SO2_1H]\n\u001b[1;32m    139\u001b[0m \u001b[39mfor\u001b[39;00m i, c \u001b[39min\u001b[39;00m aq_metric_converted, pollutant_constant_list:\n\u001b[1;32m    140\u001b[0m     aq_index \u001b[39m=\u001b[39m aqi\u001b[39m.\u001b[39mto_iaqi(c, \u001b[39mstr\u001b[39m(i), algo \u001b[39m=\u001b[39m aqi\u001b[39m.\u001b[39mALGO_MEP)\n",
      "\u001b[0;31mAttributeError\u001b[0m: module 'aqi' has no attribute 'POLLUTANT_CO_1H'"
     ]
    }
   ],
   "source": [
    "aqi = aqi_function(lat = 55.9490, lon = 3.1908)\n",
    "aqi"
   ]
  },
  {
   "cell_type": "code",
   "execution_count": null,
   "metadata": {},
   "outputs": [],
   "source": []
  }
 ],
 "metadata": {
  "kernelspec": {
   "display_name": "Python 3.10.5 64-bit",
   "language": "python",
   "name": "python3"
  },
  "language_info": {
   "codemirror_mode": {
    "name": "ipython",
    "version": 3
   },
   "file_extension": ".py",
   "mimetype": "text/x-python",
   "name": "python",
   "nbconvert_exporter": "python",
   "pygments_lexer": "ipython3",
   "version": "3.10.5"
  },
  "orig_nbformat": 4,
  "vscode": {
   "interpreter": {
    "hash": "aee8b7b246df8f9039afb4144a1f6fd8d2ca17a180786b69acc140d282b71a49"
   }
  }
 },
 "nbformat": 4,
 "nbformat_minor": 2
}
