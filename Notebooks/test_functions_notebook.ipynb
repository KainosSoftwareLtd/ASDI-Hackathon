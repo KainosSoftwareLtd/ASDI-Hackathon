{
 "cells": [
  {
   "cell_type": "code",
   "execution_count": 1,
   "metadata": {},
   "outputs": [],
   "source": [
    "import sys\n",
    "import pathlib\n",
    "\n",
    "ROOT = pathlib.Path().absolute().parent.as_posix()\n",
    "if ROOT not in sys.path:\n",
    "    sys.path.append(ROOT)\n",
    "    \n",
    "from helpers import *"
   ]
  },
  {
   "cell_type": "code",
   "execution_count": null,
   "metadata": {},
   "outputs": [],
   "source": [
    "#Nitrogen Dioxide\n",
    "pred = no2_function(lat = 55.9490, lon = 3.1908)\n",
    "pred"
   ]
  },
  {
   "cell_type": "code",
   "execution_count": null,
   "metadata": {},
   "outputs": [],
   "source": [
    "#Sulphur Dioxide\n",
    "pred = so2_function(lat = 55.9490, lon = 3.1908)\n",
    "pred"
   ]
  },
  {
   "cell_type": "code",
   "execution_count": null,
   "metadata": {},
   "outputs": [],
   "source": [
    "#Ozone\n",
    "pred = o3_function(lat = 55.9490, lon = 3.1908)\n",
    "pred"
   ]
  },
  {
   "cell_type": "code",
   "execution_count": null,
   "metadata": {},
   "outputs": [],
   "source": [
    "#Carbon Monoxide\n",
    "pred = co_function(lat = 55.9490, lon = 3.1908)\n",
    "pred"
   ]
  },
  {
   "cell_type": "code",
   "execution_count": null,
   "metadata": {},
   "outputs": [],
   "source": [
    "#Population Density\n",
    "#new data point\n",
    "pred1 = popdensity_function(lat = 55.9490, lon = 3.1908)\n",
    "print(pred1)\n",
    "\n",
    "import pandas as pd\n",
    "test_df = pd.DataFrame({'Latitude': [51.560139, 51.554583], 'Longitude': [0.227083, -0.208472], 'Population': [5.406240, 33.506246]})\n",
    "\n",
    "pred2 = []\n",
    "for i in [0, 1]:\n",
    "    pred2.append(popdensity_function(test_df['Latitude'][i], test_df['Longitude'][i]))\n",
    "\n",
    "print(pred2)\n",
    "test_df.insert(3, 'Predicted Population', pred2)\n",
    "test_df['Error'] = abs(test_df['Population'] - test_df['Predicted Population'])\n",
    "test_df"
   ]
  },
  {
   "cell_type": "code",
   "execution_count": 2,
   "metadata": {},
   "outputs": [
    {
     "name": "stdout",
     "output_type": "stream",
     "text": [
      "CO AQI -> Good -> 5.766072908618789\n",
      "NO2 AQI -> NA -> 538.4991005326692\n",
      "O3 AQI -> NA -> 8920.660062700523\n",
      "SO2 AQI -> NA -> -38945.23358643483\n"
     ]
    },
    {
     "data": {
      "text/plain": [
       "8920.660062700523"
      ]
     },
     "execution_count": 2,
     "metadata": {},
     "output_type": "execute_result"
    }
   ],
   "source": [
    "aqi = aqi_function(lat = 55.9490, lon = 3.1908)\n",
    "aqi"
   ]
  },
  {
   "cell_type": "code",
   "execution_count": null,
   "metadata": {},
   "outputs": [],
   "source": []
  }
 ],
 "metadata": {
  "kernelspec": {
   "display_name": "Python 3.10.5 64-bit",
   "language": "python",
   "name": "python3"
  },
  "language_info": {
   "codemirror_mode": {
    "name": "ipython",
    "version": 3
   },
   "file_extension": ".py",
   "mimetype": "text/x-python",
   "name": "python",
   "nbconvert_exporter": "python",
   "pygments_lexer": "ipython3",
   "version": "3.10.5"
  },
  "orig_nbformat": 4,
  "vscode": {
   "interpreter": {
    "hash": "aee8b7b246df8f9039afb4144a1f6fd8d2ca17a180786b69acc140d282b71a49"
   }
  }
 },
 "nbformat": 4,
 "nbformat_minor": 2
}
