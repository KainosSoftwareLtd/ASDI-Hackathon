{
 "cells": [
  {
   "cell_type": "markdown",
   "metadata": {},
   "source": [
    "# Build point array given"
   ]
  },
  {
   "cell_type": "code",
   "execution_count": 1,
   "metadata": {},
   "outputs": [
    {
     "name": "stdout",
     "output_type": "stream",
     "text": [
      "\u001b[33mDEPRECATION: Configuring installation scheme with distutils config files is deprecated and will no longer work in the near future. If you are using a Homebrew or Linuxbrew Python, please see discussion at https://github.com/Homebrew/homebrew-core/issues/76621\u001b[0m\u001b[33m\n",
      "\u001b[0mRequirement already satisfied: haversine in /usr/local/lib/python3.9/site-packages (2.6.0)\n",
      "\u001b[33mDEPRECATION: Configuring installation scheme with distutils config files is deprecated and will no longer work in the near future. If you are using a Homebrew or Linuxbrew Python, please see discussion at https://github.com/Homebrew/homebrew-core/issues/76621\u001b[0m\u001b[33m\n",
      "\u001b[0m\u001b[33mWARNING: There was an error checking the latest version of pip.\u001b[0m\u001b[33m\n",
      "\u001b[0m\u001b[33mDEPRECATION: Configuring installation scheme with distutils config files is deprecated and will no longer work in the near future. If you are using a Homebrew or Linuxbrew Python, please see discussion at https://github.com/Homebrew/homebrew-core/issues/76621\u001b[0m\u001b[33m\n",
      "\u001b[0mRequirement already satisfied: vincenty in /usr/local/lib/python3.9/site-packages (0.1.4)\n",
      "\u001b[33mDEPRECATION: Configuring installation scheme with distutils config files is deprecated and will no longer work in the near future. If you are using a Homebrew or Linuxbrew Python, please see discussion at https://github.com/Homebrew/homebrew-core/issues/76621\u001b[0m\u001b[33m\n",
      "\u001b[0m\u001b[33mWARNING: There was an error checking the latest version of pip.\u001b[0m\u001b[33m\n",
      "\u001b[0m"
     ]
    }
   ],
   "source": [
    "! pip install haversine\n",
    "! pip install vincenty"
   ]
  },
  {
   "cell_type": "code",
   "execution_count": 2,
   "metadata": {},
   "outputs": [],
   "source": [
    "from haversine import *\n",
    "import pandas as pd\n",
    "from tqdm import tqdm\n",
    "from helpers import *"
   ]
  },
  {
   "cell_type": "code",
   "execution_count": 3,
   "metadata": {},
   "outputs": [],
   "source": [
    "# Bounding box over london\n",
    "bottom_left = (51.251246, -0.621715)\n",
    "top_right = (51.715616, 0.369802)\n",
    "\n",
    "top_left = (51.715616, -0.621715)\n",
    "bottom_right = (51.251246, 0.369802)"
   ]
  },
  {
   "cell_type": "markdown",
   "metadata": {},
   "source": [
    "Algorithm Key points:\n",
    "- Points must be evenly spaced creating circles with a chosen diameter.\n",
    "- Number of points spaced along the vertical will be consistent anywhere you move horizontally\n",
    "- However, number points spaced along the horizonal will chance as you move vertically\n",
    "\n",
    "1. Choose diameter of circle\n",
    "2. Divide vertical length by diameter to work out number of rows\n",
    "3. Now iterate through rows \n",
    "for i in range(len(rows)):\n",
    "    - i. Get row start point and row end point moving right to left by moving r*diameter down from top left and top right\n",
    "    - ii. calcualte horizontal distance to right line\n",
    "    - iii. Divide by diameter of circle to get circles on the row\n",
    "    - iv. If there's a remainder, divide by 2 and shift along to the right\n",
    "    - v. create calcuated number of circles on the row\n"
   ]
  },
  {
   "cell_type": "code",
   "execution_count": 5,
   "metadata": {},
   "outputs": [
    {
     "name": "stdout",
     "output_type": "stream",
     "text": [
      "51\n"
     ]
    },
    {
     "name": "stderr",
     "output_type": "stream",
     "text": [
      "100%|██████████| 51/51 [00:00<00:00, 3716.67it/s]"
     ]
    },
    {
     "name": "stdout",
     "output_type": "stream",
     "text": [
      "done\n"
     ]
    },
    {
     "name": "stderr",
     "output_type": "stream",
     "text": [
      "\n"
     ]
    }
   ],
   "source": [
    "# 1. Choose diameter of circle in km\n",
    "d = 1\n",
    "\n",
    "# 2. Divide vertical length by diameter to work out number of rows\n",
    "length = haversine(top_left, bottom_left)\n",
    "num_rows = int(length // d)\n",
    "print(num_rows)\n",
    "\n",
    "# 3. iterate through rows\n",
    "points = []\n",
    "for r in tqdm(range(num_rows)):\n",
    "  # i. Get row start point and row end point moving right to left by moving r*diameter down from top left and top right\n",
    "  row_start_point = inverse_haversine(top_left, r * d, Direction.SOUTH)\n",
    "  row_end_point = inverse_haversine(top_right, r * d, Direction.SOUTH)\n",
    "  \n",
    "  # ii. calcualte horizontal distance to right line\n",
    "  row_width = haversine(row_start_point, row_end_point)\n",
    "  \n",
    "  #iii. Divide by diameter of circle to get circles on the row\n",
    "  number_points_on_row = int(row_width // d)\n",
    "  \n",
    "  # iv. If there's a remainder, divide by 2 and shift along to the right\n",
    "  shift = ((row_width / d) % 1) / 2\n",
    "  row_start_point = inverse_haversine(row_start_point, shift, Direction.EAST)\n",
    "  \n",
    "  # v. create calcuated number of circles on the row\n",
    "  points_in_row_list = []\n",
    "  for i in range(number_points_on_row):\n",
    "    points_in_row_list.append(inverse_haversine(row_start_point, i*d, Direction.EAST))\n",
    "  \n",
    "  points = points + points_in_row_list\n",
    "  \n",
    "print(\"done\")"
   ]
  },
  {
   "cell_type": "markdown",
   "metadata": {},
   "source": [
    "## Using the function:"
   ]
  },
  {
   "cell_type": "code",
   "execution_count": 4,
   "metadata": {},
   "outputs": [
    {
     "name": "stdout",
     "output_type": "stream",
     "text": [
      "206\n"
     ]
    },
    {
     "name": "stderr",
     "output_type": "stream",
     "text": [
      "100%|██████████| 206/206 [00:00<00:00, 728.86it/s]\n"
     ]
    },
    {
     "data": {
      "text/html": [
       "<div>\n",
       "<style scoped>\n",
       "    .dataframe tbody tr th:only-of-type {\n",
       "        vertical-align: middle;\n",
       "    }\n",
       "\n",
       "    .dataframe tbody tr th {\n",
       "        vertical-align: top;\n",
       "    }\n",
       "\n",
       "    .dataframe thead th {\n",
       "        text-align: right;\n",
       "    }\n",
       "</style>\n",
       "<table border=\"1\" class=\"dataframe\">\n",
       "  <thead>\n",
       "    <tr style=\"text-align: right;\">\n",
       "      <th></th>\n",
       "      <th>Latitude</th>\n",
       "      <th>Longitude</th>\n",
       "      <th>Magnitude</th>\n",
       "    </tr>\n",
       "  </thead>\n",
       "  <tbody>\n",
       "    <tr>\n",
       "      <th>0</th>\n",
       "      <td>51.715616</td>\n",
       "      <td>-0.620041</td>\n",
       "      <td>1</td>\n",
       "    </tr>\n",
       "    <tr>\n",
       "      <th>1</th>\n",
       "      <td>51.715616</td>\n",
       "      <td>-0.616412</td>\n",
       "      <td>1</td>\n",
       "    </tr>\n",
       "    <tr>\n",
       "      <th>2</th>\n",
       "      <td>51.715616</td>\n",
       "      <td>-0.612784</td>\n",
       "      <td>1</td>\n",
       "    </tr>\n",
       "    <tr>\n",
       "      <th>3</th>\n",
       "      <td>51.715615</td>\n",
       "      <td>-0.609155</td>\n",
       "      <td>1</td>\n",
       "    </tr>\n",
       "    <tr>\n",
       "      <th>4</th>\n",
       "      <td>51.715615</td>\n",
       "      <td>-0.605526</td>\n",
       "      <td>1</td>\n",
       "    </tr>\n",
       "    <tr>\n",
       "      <th>...</th>\n",
       "      <td>...</td>\n",
       "      <td>...</td>\n",
       "      <td>...</td>\n",
       "    </tr>\n",
       "    <tr>\n",
       "      <th>56458</th>\n",
       "      <td>51.250677</td>\n",
       "      <td>0.351799</td>\n",
       "      <td>1</td>\n",
       "    </tr>\n",
       "    <tr>\n",
       "      <th>56459</th>\n",
       "      <td>51.250648</td>\n",
       "      <td>0.355390</td>\n",
       "      <td>1</td>\n",
       "    </tr>\n",
       "    <tr>\n",
       "      <th>56460</th>\n",
       "      <td>51.250618</td>\n",
       "      <td>0.358982</td>\n",
       "      <td>1</td>\n",
       "    </tr>\n",
       "    <tr>\n",
       "      <th>56461</th>\n",
       "      <td>51.250587</td>\n",
       "      <td>0.362574</td>\n",
       "      <td>1</td>\n",
       "    </tr>\n",
       "    <tr>\n",
       "      <th>56462</th>\n",
       "      <td>51.250557</td>\n",
       "      <td>0.366166</td>\n",
       "      <td>1</td>\n",
       "    </tr>\n",
       "  </tbody>\n",
       "</table>\n",
       "<p>56463 rows × 3 columns</p>\n",
       "</div>"
      ],
      "text/plain": [
       "        Latitude  Longitude  Magnitude\n",
       "0      51.715616  -0.620041          1\n",
       "1      51.715616  -0.616412          1\n",
       "2      51.715616  -0.612784          1\n",
       "3      51.715615  -0.609155          1\n",
       "4      51.715615  -0.605526          1\n",
       "...          ...        ...        ...\n",
       "56458  51.250677   0.351799          1\n",
       "56459  51.250648   0.355390          1\n",
       "56460  51.250618   0.358982          1\n",
       "56461  51.250587   0.362574          1\n",
       "56462  51.250557   0.366166          1\n",
       "\n",
       "[56463 rows x 3 columns]"
      ]
     },
     "execution_count": 4,
     "metadata": {},
     "output_type": "execute_result"
    }
   ],
   "source": [
    "point_set_df = get_spaced_point_set_in_bbox(0.25, bottom_left, top_right)\n",
    "\n",
    "point_set_df['Magnitude'] = pd.Series([1 for i in range(len(point_set_df))])\n",
    "point_set_df"
   ]
  },
  {
   "cell_type": "markdown",
   "metadata": {},
   "source": [
    "### Save in CSV for plotly"
   ]
  },
  {
   "cell_type": "code",
   "execution_count": 29,
   "metadata": {},
   "outputs": [],
   "source": [
    "point_set_df.to_csv('./data/point_array_025.csv')"
   ]
  },
  {
   "cell_type": "code",
   "execution_count": 20,
   "metadata": {},
   "outputs": [
    {
     "data": {
      "text/html": [
       "<div>\n",
       "<style scoped>\n",
       "    .dataframe tbody tr th:only-of-type {\n",
       "        vertical-align: middle;\n",
       "    }\n",
       "\n",
       "    .dataframe tbody tr th {\n",
       "        vertical-align: top;\n",
       "    }\n",
       "\n",
       "    .dataframe thead th {\n",
       "        text-align: right;\n",
       "    }\n",
       "</style>\n",
       "<table border=\"1\" class=\"dataframe\">\n",
       "  <thead>\n",
       "    <tr style=\"text-align: right;\">\n",
       "      <th></th>\n",
       "      <th>Latitude</th>\n",
       "      <th>Longitude</th>\n",
       "      <th>Magnitude</th>\n",
       "    </tr>\n",
       "  </thead>\n",
       "  <tbody>\n",
       "    <tr>\n",
       "      <th>0</th>\n",
       "      <td>51.715616</td>\n",
       "      <td>-0.617249</td>\n",
       "      <td>1</td>\n",
       "    </tr>\n",
       "    <tr>\n",
       "      <th>1</th>\n",
       "      <td>51.715616</td>\n",
       "      <td>-0.609992</td>\n",
       "      <td>1</td>\n",
       "    </tr>\n",
       "    <tr>\n",
       "      <th>2</th>\n",
       "      <td>51.715615</td>\n",
       "      <td>-0.602734</td>\n",
       "      <td>1</td>\n",
       "    </tr>\n",
       "    <tr>\n",
       "      <th>3</th>\n",
       "      <td>51.715614</td>\n",
       "      <td>-0.595476</td>\n",
       "      <td>1</td>\n",
       "    </tr>\n",
       "    <tr>\n",
       "      <th>4</th>\n",
       "      <td>51.715612</td>\n",
       "      <td>-0.588219</td>\n",
       "      <td>1</td>\n",
       "    </tr>\n",
       "    <tr>\n",
       "      <th>...</th>\n",
       "      <td>...</td>\n",
       "      <td>...</td>\n",
       "      <td>...</td>\n",
       "    </tr>\n",
       "    <tr>\n",
       "      <th>14077</th>\n",
       "      <td>51.253131</td>\n",
       "      <td>0.333817</td>\n",
       "      <td>1</td>\n",
       "    </tr>\n",
       "    <tr>\n",
       "      <th>14078</th>\n",
       "      <td>51.253073</td>\n",
       "      <td>0.341000</td>\n",
       "      <td>1</td>\n",
       "    </tr>\n",
       "    <tr>\n",
       "      <th>14079</th>\n",
       "      <td>51.253014</td>\n",
       "      <td>0.348184</td>\n",
       "      <td>1</td>\n",
       "    </tr>\n",
       "    <tr>\n",
       "      <th>14080</th>\n",
       "      <td>51.252955</td>\n",
       "      <td>0.355368</td>\n",
       "      <td>1</td>\n",
       "    </tr>\n",
       "    <tr>\n",
       "      <th>14081</th>\n",
       "      <td>51.252895</td>\n",
       "      <td>0.362552</td>\n",
       "      <td>1</td>\n",
       "    </tr>\n",
       "  </tbody>\n",
       "</table>\n",
       "<p>14082 rows × 3 columns</p>\n",
       "</div>"
      ],
      "text/plain": [
       "        Latitude  Longitude  Magnitude\n",
       "0      51.715616  -0.617249          1\n",
       "1      51.715616  -0.609992          1\n",
       "2      51.715615  -0.602734          1\n",
       "3      51.715614  -0.595476          1\n",
       "4      51.715612  -0.588219          1\n",
       "...          ...        ...        ...\n",
       "14077  51.253131   0.333817          1\n",
       "14078  51.253073   0.341000          1\n",
       "14079  51.253014   0.348184          1\n",
       "14080  51.252955   0.355368          1\n",
       "14081  51.252895   0.362552          1\n",
       "\n",
       "[14082 rows x 3 columns]"
      ]
     },
     "execution_count": 20,
     "metadata": {},
     "output_type": "execute_result"
    }
   ],
   "source": [
    "point_set_df = pd.read_csv('./data/point_array_01.csv', index_col=0)\n",
    "point_set_df"
   ]
  }
 ],
 "metadata": {
  "kernelspec": {
   "display_name": "Python 3.9.13 64-bit",
   "language": "python",
   "name": "python3"
  },
  "language_info": {
   "codemirror_mode": {
    "name": "ipython",
    "version": 3
   },
   "file_extension": ".py",
   "mimetype": "text/x-python",
   "name": "python",
   "nbconvert_exporter": "python",
   "pygments_lexer": "ipython3",
   "version": "3.10.5"
  },
  "orig_nbformat": 4,
  "vscode": {
   "interpreter": {
    "hash": "aee8b7b246df8f9039afb4144a1f6fd8d2ca17a180786b69acc140d282b71a49"
   }
  }
 },
 "nbformat": 4,
 "nbformat_minor": 2
}
