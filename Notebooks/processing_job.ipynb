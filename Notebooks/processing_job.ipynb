{
 "cells": [
  {
   "cell_type": "code",
   "execution_count": 1,
   "metadata": {},
   "outputs": [],
   "source": [
    "import sys\n",
    "import pathlib\n",
    "import pandas as pd\n",
    "import numpy as np\n",
    "import boto3\n",
    "\n",
    "ROOT = pathlib.Path().absolute().parent.as_posix()\n",
    "if ROOT not in sys.path:\n",
    "    sys.path.append(ROOT)"
   ]
  },
  {
   "cell_type": "code",
   "execution_count": null,
   "metadata": {},
   "outputs": [],
   "source": [
    "import boto3\n",
    "\n",
    "account_id = boto3.client('sts').get_caller_identity().get('Account')\n",
    "region = boto3.Session().region_name\n",
    "ecr_repository = 'asdi-hackathon-sagemaker-processing-container'\n",
    "tag = ':latest'\n",
    "processing_repository_uri = '{}.dkr.ecr.{}.amazonaws.com/{}'.format(account_id, region, ecr_repository + tag)\n",
    "\n",
    "# Create ECR repository and push docker image\n",
    "!docker build -t $ecr_repository docker\n",
    "!aws ecr get-login-password --region {region} | docker login --username AWS --password-stdin {account_id}.dkr.ecr.{region}.amazonaws.com\n",
    "!aws ecr create-repository --repository-name $ecr_repository\n",
    "!docker tag {ecr_repository + tag} $processing_repository_uri\n",
    "!docker push $processing_repository_uri"
   ]
  },
  {
   "cell_type": "code",
   "execution_count": 2,
   "metadata": {},
   "outputs": [
    {
     "name": "stderr",
     "output_type": "stream",
     "text": [
      "Couldn't call 'get_role' to get Role ARN from role name joshg to get Role path.\n"
     ]
    },
    {
     "ename": "ValueError",
     "evalue": "The current AWS identity is not a role: arn:aws:iam::991775080983:user/joshg, therefore it cannot be used as a SageMaker execution role",
     "output_type": "error",
     "traceback": [
      "\u001b[0;31m---------------------------------------------------------------------------\u001b[0m",
      "\u001b[0;31mValueError\u001b[0m                                Traceback (most recent call last)",
      "\u001b[1;32m/Users/joshua.grefte/Projects/ASDI/Local_Repo/ASDI-Hackathon/Notebooks/processing_job.ipynb Cell 2\u001b[0m in \u001b[0;36m<cell line: 9>\u001b[0;34m()\u001b[0m\n\u001b[1;32m      <a href='vscode-notebook-cell:/Users/joshua.grefte/Projects/ASDI/Local_Repo/ASDI-Hackathon/Notebooks/processing_job.ipynb#ch0000001?line=4'>5</a>\u001b[0m \u001b[39mfrom\u001b[39;00m \u001b[39msagemaker\u001b[39;00m\u001b[39m.\u001b[39;00m\u001b[39msklearn\u001b[39;00m\u001b[39m.\u001b[39;00m\u001b[39mprocessing\u001b[39;00m \u001b[39mimport\u001b[39;00m SKLearnProcessor\n\u001b[1;32m      <a href='vscode-notebook-cell:/Users/joshua.grefte/Projects/ASDI/Local_Repo/ASDI-Hackathon/Notebooks/processing_job.ipynb#ch0000001?line=6'>7</a>\u001b[0m region \u001b[39m=\u001b[39m boto3\u001b[39m.\u001b[39msession\u001b[39m.\u001b[39mSession()\u001b[39m.\u001b[39mregion_name\n\u001b[0;32m----> <a href='vscode-notebook-cell:/Users/joshua.grefte/Projects/ASDI/Local_Repo/ASDI-Hackathon/Notebooks/processing_job.ipynb#ch0000001?line=8'>9</a>\u001b[0m role \u001b[39m=\u001b[39m get_execution_role()\n\u001b[1;32m     <a href='vscode-notebook-cell:/Users/joshua.grefte/Projects/ASDI/Local_Repo/ASDI-Hackathon/Notebooks/processing_job.ipynb#ch0000001?line=9'>10</a>\u001b[0m sklearn_processor \u001b[39m=\u001b[39m SKLearnProcessor(\n\u001b[1;32m     <a href='vscode-notebook-cell:/Users/joshua.grefte/Projects/ASDI/Local_Repo/ASDI-Hackathon/Notebooks/processing_job.ipynb#ch0000001?line=10'>11</a>\u001b[0m     framework_version\u001b[39m=\u001b[39m\u001b[39m\"\u001b[39m\u001b[39m0.20.0\u001b[39m\u001b[39m\"\u001b[39m, role\u001b[39m=\u001b[39mrole, instance_type\u001b[39m=\u001b[39m\u001b[39m\"\u001b[39m\u001b[39mml.t3.large\u001b[39m\u001b[39m\"\u001b[39m, instance_count\u001b[39m=\u001b[39m\u001b[39m1\u001b[39m\n\u001b[1;32m     <a href='vscode-notebook-cell:/Users/joshua.grefte/Projects/ASDI/Local_Repo/ASDI-Hackathon/Notebooks/processing_job.ipynb#ch0000001?line=11'>12</a>\u001b[0m )\n",
      "File \u001b[0;32m~/Library/Python/3.10/lib/python/site-packages/sagemaker/session.py:4680\u001b[0m, in \u001b[0;36mget_execution_role\u001b[0;34m(sagemaker_session)\u001b[0m\n\u001b[1;32m   4675\u001b[0m     \u001b[39mreturn\u001b[39;00m arn\n\u001b[1;32m   4676\u001b[0m message \u001b[39m=\u001b[39m (\n\u001b[1;32m   4677\u001b[0m     \u001b[39m\"\u001b[39m\u001b[39mThe current AWS identity is not a role: \u001b[39m\u001b[39m{}\u001b[39;00m\u001b[39m, therefore it cannot be used as a \u001b[39m\u001b[39m\"\u001b[39m\n\u001b[1;32m   4678\u001b[0m     \u001b[39m\"\u001b[39m\u001b[39mSageMaker execution role\u001b[39m\u001b[39m\"\u001b[39m\n\u001b[1;32m   4679\u001b[0m )\n\u001b[0;32m-> 4680\u001b[0m \u001b[39mraise\u001b[39;00m \u001b[39mValueError\u001b[39;00m(message\u001b[39m.\u001b[39mformat(arn))\n",
      "\u001b[0;31mValueError\u001b[0m: The current AWS identity is not a role: arn:aws:iam::991775080983:user/joshg, therefore it cannot be used as a SageMaker execution role"
     ]
    }
   ],
   "source": [
    "from sagemaker import get_execution_role\n",
    "from sagemaker.processing import ScriptProcessor, ProcessingInput, ProcessingOutput\n",
    "\n",
    "#role = 'role_name_with_sagemaker_permissions' #i.e. my sagemaker role otherwise proceed inside sagemaker and will auto find\n",
    "role = get_execution_role()\n",
    "\n",
    "script_processor = ScriptProcessor(command=['python3'], \n",
    "                            image_uri=processing_repository_uri, \n",
    "                            framework_version=\"0.20.0\", role=role, \n",
    "                            instance_type=\"ml.t3.large\", instance_count=1)"
   ]
  },
  {
   "cell_type": "code",
   "execution_count": null,
   "metadata": {},
   "outputs": [],
   "source": [
    "from sagemaker.processing import ProcessingInput, ProcessingOutput\n",
    "\n",
    "script_processor.run(\n",
    "    code=\"processing.py\",\n",
    "    #no inputs technically needed as script is self-sufficient in this regard\n",
    "    #inputs=[ProcessingInput(source=input_data, destination=\"asdi-hackathon/*\")],\n",
    "    outputs=[ProcessingOutput(output_name=\"final_df\", source=\"asdi-hackathon/final-data/final_df.csv\")]\n",
    ")\n",
    "\n",
    "processing_job_description = script_processor.jobs[-1].describe()\n",
    "print(processing_job_description)"
   ]
  }
 ],
 "metadata": {
  "kernelspec": {
   "display_name": "Python 3.10.5 64-bit",
   "language": "python",
   "name": "python3"
  },
  "language_info": {
   "codemirror_mode": {
    "name": "ipython",
    "version": 3
   },
   "file_extension": ".py",
   "mimetype": "text/x-python",
   "name": "python",
   "nbconvert_exporter": "python",
   "pygments_lexer": "ipython3",
   "version": "3.10.5"
  },
  "orig_nbformat": 4,
  "vscode": {
   "interpreter": {
    "hash": "aee8b7b246df8f9039afb4144a1f6fd8d2ca17a180786b69acc140d282b71a49"
   }
  }
 },
 "nbformat": 4,
 "nbformat_minor": 2
}
