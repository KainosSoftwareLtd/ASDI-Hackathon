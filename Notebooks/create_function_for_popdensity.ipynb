{
 "cells": [
  {
   "cell_type": "code",
   "execution_count": null,
   "metadata": {},
   "outputs": [],
   "source": [
    "import pandas as pd\n",
    "import numpy as np\n",
    "import boto3\n",
    "\n",
    "client = boto3.client('s3')\n",
    "\n",
    "bucket='asdi-hackathon'\n",
    "\n",
    "file_key1 = 'population-data/popcsv/longitude0.csv'\n",
    "file_key2 = 'population-data/popcsv/longitudeNeg10.csv'\n",
    "\n",
    "csv_obj1 = client.get_object(Bucket=bucket, Key=file_key1)\n",
    "csv_obj2 = client.get_object(Bucket=bucket, Key=file_key1)\n",
    "\n",
    "obj1 = client.get_object(Bucket=bucket, Key=file_key1)\n",
    "obj2 = client.get_object(Bucket=bucket, Key=file_key2)\n",
    "\n",
    "df1 = pd.read_csv(obj1['Body'])\n",
    "df2 = pd.read_csv(obj2['Body'])\n",
    "\n",
    "#df = pd.read_csv('/Users/joshua.grefte/Projects/ASDI/Data/so2_sentinel_01-16june.csv')"
   ]
  },
  {
   "cell_type": "code",
   "execution_count": null,
   "metadata": {},
   "outputs": [],
   "source": [
    "df1.head()"
   ]
  },
  {
   "cell_type": "code",
   "execution_count": null,
   "metadata": {},
   "outputs": [],
   "source": [
    "df2.head()"
   ]
  },
  {
   "cell_type": "code",
   "execution_count": null,
   "metadata": {},
   "outputs": [],
   "source": [
    "df = df1.append(df2)\n",
    "df = df.drop('Unnamed: 0', axis = 1)\n",
    "df"
   ]
  },
  {
   "cell_type": "code",
   "execution_count": null,
   "metadata": {},
   "outputs": [],
   "source": [
    "import plotly.express as px\n",
    "\n",
    "fig = px.scatter_mapbox(df, \n",
    "                        lat='latitude', \n",
    "                        lon='longitude',\n",
    "                        color = 'population',\n",
    "                        center=dict(lat=51.5072, lon=0.1276), zoom=8,\n",
    "                        mapbox_style=\"carto-darkmatter\",\n",
    "                        opacity = 0.5,\n",
    "                        color_continuous_scale=px.colors.sequential.RdBu)\n",
    "\n",
    "fig.show()"
   ]
  },
  {
   "cell_type": "code",
   "execution_count": null,
   "metadata": {},
   "outputs": [],
   "source": [
    "#haversine requires latitude and longitude in radians\n",
    "import math\n",
    "df['latitude'] = df['latitude'].apply(math.radians)\n",
    "df['longitude'] = df['longitude'].apply(math.radians)"
   ]
  },
  {
   "cell_type": "code",
   "execution_count": null,
   "metadata": {},
   "outputs": [],
   "source": [
    "!pip3 install tqdm --quiet\n",
    "from sklearn.neighbors import KNeighborsRegressor\n",
    "from sklearn.model_selection import train_test_split\n",
    "from sklearn.model_selection import cross_val_score\n",
    "from sklearn.model_selection import LeaveOneOut\n",
    "\n",
    "df_train, df_test = train_test_split(df, random_state = 0, test_size = 0.01)\n",
    "\n",
    "X_train = df_train[['latitude', 'longitude']]\n",
    "y_train = df_train['population'].ravel()\n",
    "X_test = df_test[['latitude', 'longitude']]\n",
    "y_test = df_test['population'].ravel()\n",
    "\n",
    "#X = df[['latitude', 'longitude']]\n",
    "#y = df['population'].ravel()\n",
    "\n",
    "k_range = range(1, 200)\n",
    "k_scores = []\n",
    "\n",
    "#uses 1 data point taken out as validation set with rest used for \"training\"\n",
    "cv = LeaveOneOut()\n",
    "\n",
    "from tqdm import tqdm\n",
    "for k in tqdm(k_range):\n",
    "    model = KNeighborsRegressor(n_neighbors=k, weights = 'distance', algorithm = 'brute', metric = 'haversine', n_jobs = -1)\n",
    "    loss = abs(cross_val_score(model, X_train, y_train, cv=cv, scoring='neg_root_mean_squared_error', n_jobs = -1))\n",
    "    k_scores.append(loss.mean())\n",
    "\n",
    "model.fit(X_train, y_train)"
   ]
  },
  {
   "cell_type": "code",
   "execution_count": null,
   "metadata": {},
   "outputs": [],
   "source": [
    "%matplotlib inline\n",
    "import matplotlib.pyplot as plt\n",
    "plt.plot(k_range, k_scores)\n",
    "plt.xlabel('Value of K for KNN')\n",
    "plt.ylabel('Cross-Validated RMSE')\n",
    "plt.show()"
   ]
  },
  {
   "cell_type": "code",
   "execution_count": null,
   "metadata": {},
   "outputs": [],
   "source": [
    "y_pred = model.predict(X_test)\n",
    "results = pd.DataFrame(dtype = 'object')\n",
    "results['y_test'] = y_test\n",
    "results['y_pred'] = y_pred\n",
    "results['difference'] = y_test - y_pred\n",
    "results['abs_diff'] = abs(y_test - y_pred)\n",
    "results.head()"
   ]
  },
  {
   "cell_type": "code",
   "execution_count": null,
   "metadata": {},
   "outputs": [],
   "source": [
    "results.describe()"
   ]
  },
  {
   "cell_type": "code",
   "execution_count": null,
   "metadata": {},
   "outputs": [],
   "source": [
    "results['abs_diff'].plot.bar()"
   ]
  },
  {
   "cell_type": "code",
   "execution_count": null,
   "metadata": {},
   "outputs": [],
   "source": [
    "df['population'].describe()"
   ]
  },
  {
   "cell_type": "code",
   "execution_count": null,
   "metadata": {},
   "outputs": [],
   "source": [
    "from sklearn.neighbors import KNeighborsRegressor\n",
    "from sklearn.model_selection import train_test_split\n",
    "from sklearn.model_selection import GridSearchCV\n",
    "from sklearn.model_selection import cross_val_score\n",
    "from sklearn.model_selection import LeaveOneOut\n",
    "from sklearn.model_selection import train_test_split\n",
    "\n",
    "df_train, df_test = train_test_split(df, random_state = 0, test_size = 0.01)\n",
    "\n",
    "X_train = df_train[['latitude', 'longitude']]\n",
    "y_train = df_train['population'].ravel()\n",
    "X_test = df_test[['latitude', 'longitude']]\n",
    "y_test = df_test['population'].ravel()\n",
    "\n",
    "#X = df[['latitude', 'longitude']]\n",
    "#y = df['population'].ravel()\n",
    "\n",
    "cv = LeaveOneOut()\n",
    "\n",
    "parameters = {'n_neighbors': np.arange(start=1, stop=200, step=2)}\n",
    "grid_search = GridSearchCV(KNeighborsRegressor(weights = 'distance', algorithm = 'brute', metric = 'haversine'), \n",
    "                           param_grid = parameters, \n",
    "                           scoring='neg_root_mean_squared_error', \n",
    "                           n_jobs = -1,\n",
    "                           cv = cv,\n",
    "                           error_score = 'raise')\n",
    "grid_search.fit(X_train, y_train)\n",
    "\n",
    "print('best parameter(s): ', grid_search.best_params_)\n",
    "print('best score(s): ', grid_search.best_score_)"
   ]
  },
  {
   "cell_type": "code",
   "execution_count": null,
   "metadata": {},
   "outputs": [],
   "source": [
    "#use all of data in train\n",
    "X_train = df[['latitude', 'longitude']]\n",
    "y_train = df['population'].ravel()\n",
    "\n",
    "#use best k value\n",
    "k = grid_search.best_params_['n_neighbors']\n",
    "model = KNeighborsRegressor(n_neighbors=k, weights = 'distance', algorithm = 'brute', metric = 'haversine', n_jobs = -1)\n",
    "model.fit(X_train, y_train)"
   ]
  },
  {
   "cell_type": "code",
   "execution_count": null,
   "metadata": {},
   "outputs": [],
   "source": [
    "#pickle final model\n",
    "import pickle\n",
    "filename = 'popdensity_model.pkl'\n",
    "model = model\n",
    "pickle.dump(model, open(filename, 'wb'))"
   ]
  },
  {
   "cell_type": "code",
   "execution_count": null,
   "metadata": {},
   "outputs": [],
   "source": []
  }
 ],
 "metadata": {
  "instance_type": "ml.t3.medium",
  "kernelspec": {
   "display_name": "Python 3.10.5 64-bit",
   "language": "python",
   "name": "python3"
  },
  "language_info": {
   "codemirror_mode": {
    "name": "ipython",
    "version": 3
   },
   "file_extension": ".py",
   "mimetype": "text/x-python",
   "name": "python",
   "nbconvert_exporter": "python",
   "pygments_lexer": "ipython3",
   "version": "3.10.5"
  },
  "vscode": {
   "interpreter": {
    "hash": "aee8b7b246df8f9039afb4144a1f6fd8d2ca17a180786b69acc140d282b71a49"
   }
  }
 },
 "nbformat": 4,
 "nbformat_minor": 4
}
