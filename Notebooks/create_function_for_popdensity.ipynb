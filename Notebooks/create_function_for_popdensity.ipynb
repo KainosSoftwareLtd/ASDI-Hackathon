{
 "cells": [
  {
   "cell_type": "code",
   "execution_count": 1,
   "metadata": {},
   "outputs": [],
   "source": [
    "import pandas as pd\n",
    "import numpy as np\n",
    "import boto3\n",
    "\n",
    "client = boto3.client('s3')\n",
    "\n",
    "bucket='asdi-hackathon'\n",
    "\n",
    "file_key1 = 'population-data/popcsv/longitude0.csv'\n",
    "file_key2 = 'population-data/popcsv/longitudeNeg10.csv'\n",
    "\n",
    "csv_obj1 = client.get_object(Bucket=bucket, Key=file_key1)\n",
    "csv_obj2 = client.get_object(Bucket=bucket, Key=file_key1)\n",
    "\n",
    "obj1 = client.get_object(Bucket=bucket, Key=file_key1)\n",
    "obj2 = client.get_object(Bucket=bucket, Key=file_key2)\n",
    "\n",
    "df1 = pd.read_csv(obj1['Body'])\n",
    "df2 = pd.read_csv(obj2['Body'])\n",
    "\n",
    "#df = pd.read_csv('/Users/joshua.grefte/Projects/ASDI/Data/so2_sentinel_01-16june.csv')"
   ]
  },
  {
   "cell_type": "code",
   "execution_count": 25,
   "metadata": {},
   "outputs": [
    {
     "data": {
      "text/html": [
       "<div>\n",
       "<style scoped>\n",
       "    .dataframe tbody tr th:only-of-type {\n",
       "        vertical-align: middle;\n",
       "    }\n",
       "\n",
       "    .dataframe tbody tr th {\n",
       "        vertical-align: top;\n",
       "    }\n",
       "\n",
       "    .dataframe thead th {\n",
       "        text-align: right;\n",
       "    }\n",
       "</style>\n",
       "<table border=\"1\" class=\"dataframe\">\n",
       "  <thead>\n",
       "    <tr style=\"text-align: right;\">\n",
       "      <th></th>\n",
       "      <th>Unnamed: 0</th>\n",
       "      <th>latitude</th>\n",
       "      <th>longitude</th>\n",
       "      <th>population</th>\n",
       "    </tr>\n",
       "  </thead>\n",
       "  <tbody>\n",
       "    <tr>\n",
       "      <th>0</th>\n",
       "      <td>1308823</td>\n",
       "      <td>51.560139</td>\n",
       "      <td>0.227083</td>\n",
       "      <td>5.40624</td>\n",
       "    </tr>\n",
       "    <tr>\n",
       "      <th>1</th>\n",
       "      <td>1308824</td>\n",
       "      <td>51.560694</td>\n",
       "      <td>0.226250</td>\n",
       "      <td>5.40624</td>\n",
       "    </tr>\n",
       "    <tr>\n",
       "      <th>2</th>\n",
       "      <td>1308825</td>\n",
       "      <td>51.560417</td>\n",
       "      <td>0.226250</td>\n",
       "      <td>5.40624</td>\n",
       "    </tr>\n",
       "    <tr>\n",
       "      <th>3</th>\n",
       "      <td>1308826</td>\n",
       "      <td>51.560417</td>\n",
       "      <td>0.228472</td>\n",
       "      <td>5.40624</td>\n",
       "    </tr>\n",
       "    <tr>\n",
       "      <th>4</th>\n",
       "      <td>1308827</td>\n",
       "      <td>51.559861</td>\n",
       "      <td>0.227361</td>\n",
       "      <td>5.40624</td>\n",
       "    </tr>\n",
       "  </tbody>\n",
       "</table>\n",
       "</div>"
      ],
      "text/plain": [
       "   Unnamed: 0   latitude  longitude  population\n",
       "0     1308823  51.560139   0.227083     5.40624\n",
       "1     1308824  51.560694   0.226250     5.40624\n",
       "2     1308825  51.560417   0.226250     5.40624\n",
       "3     1308826  51.560417   0.228472     5.40624\n",
       "4     1308827  51.559861   0.227361     5.40624"
      ]
     },
     "execution_count": 25,
     "metadata": {},
     "output_type": "execute_result"
    }
   ],
   "source": [
    "df1.head()"
   ]
  },
  {
   "cell_type": "code",
   "execution_count": 26,
   "metadata": {},
   "outputs": [
    {
     "data": {
      "text/html": [
       "<div>\n",
       "<style scoped>\n",
       "    .dataframe tbody tr th:only-of-type {\n",
       "        vertical-align: middle;\n",
       "    }\n",
       "\n",
       "    .dataframe tbody tr th {\n",
       "        vertical-align: top;\n",
       "    }\n",
       "\n",
       "    .dataframe thead th {\n",
       "        text-align: right;\n",
       "    }\n",
       "</style>\n",
       "<table border=\"1\" class=\"dataframe\">\n",
       "  <thead>\n",
       "    <tr style=\"text-align: right;\">\n",
       "      <th></th>\n",
       "      <th>Unnamed: 0</th>\n",
       "      <th>latitude</th>\n",
       "      <th>longitude</th>\n",
       "      <th>population</th>\n",
       "    </tr>\n",
       "  </thead>\n",
       "  <tbody>\n",
       "    <tr>\n",
       "      <th>0</th>\n",
       "      <td>126943</td>\n",
       "      <td>51.620417</td>\n",
       "      <td>-0.288472</td>\n",
       "      <td>46.080284</td>\n",
       "    </tr>\n",
       "    <tr>\n",
       "      <th>1</th>\n",
       "      <td>126944</td>\n",
       "      <td>51.620417</td>\n",
       "      <td>-0.289306</td>\n",
       "      <td>46.080284</td>\n",
       "    </tr>\n",
       "    <tr>\n",
       "      <th>2</th>\n",
       "      <td>126945</td>\n",
       "      <td>51.620417</td>\n",
       "      <td>-0.289028</td>\n",
       "      <td>46.080284</td>\n",
       "    </tr>\n",
       "    <tr>\n",
       "      <th>3</th>\n",
       "      <td>126946</td>\n",
       "      <td>51.620139</td>\n",
       "      <td>-0.288194</td>\n",
       "      <td>46.080284</td>\n",
       "    </tr>\n",
       "    <tr>\n",
       "      <th>4</th>\n",
       "      <td>126947</td>\n",
       "      <td>51.620139</td>\n",
       "      <td>-0.288750</td>\n",
       "      <td>46.080284</td>\n",
       "    </tr>\n",
       "  </tbody>\n",
       "</table>\n",
       "</div>"
      ],
      "text/plain": [
       "   Unnamed: 0   latitude  longitude  population\n",
       "0      126943  51.620417  -0.288472   46.080284\n",
       "1      126944  51.620417  -0.289306   46.080284\n",
       "2      126945  51.620417  -0.289028   46.080284\n",
       "3      126946  51.620139  -0.288194   46.080284\n",
       "4      126947  51.620139  -0.288750   46.080284"
      ]
     },
     "execution_count": 26,
     "metadata": {},
     "output_type": "execute_result"
    }
   ],
   "source": [
    "df2.head()"
   ]
  },
  {
   "cell_type": "code",
   "execution_count": 27,
   "metadata": {},
   "outputs": [
    {
     "name": "stderr",
     "output_type": "stream",
     "text": [
      "/var/folders/70/yx3rlp812k545ncgsfplvcbc0000gn/T/ipykernel_27501/2697515025.py:1: FutureWarning: The frame.append method is deprecated and will be removed from pandas in a future version. Use pandas.concat instead.\n",
      "  df = df1.append(df2)\n"
     ]
    },
    {
     "data": {
      "text/html": [
       "<div>\n",
       "<style scoped>\n",
       "    .dataframe tbody tr th:only-of-type {\n",
       "        vertical-align: middle;\n",
       "    }\n",
       "\n",
       "    .dataframe tbody tr th {\n",
       "        vertical-align: top;\n",
       "    }\n",
       "\n",
       "    .dataframe thead th {\n",
       "        text-align: right;\n",
       "    }\n",
       "</style>\n",
       "<table border=\"1\" class=\"dataframe\">\n",
       "  <thead>\n",
       "    <tr style=\"text-align: right;\">\n",
       "      <th></th>\n",
       "      <th>latitude</th>\n",
       "      <th>longitude</th>\n",
       "      <th>population</th>\n",
       "    </tr>\n",
       "  </thead>\n",
       "  <tbody>\n",
       "    <tr>\n",
       "      <th>0</th>\n",
       "      <td>51.560139</td>\n",
       "      <td>0.227083</td>\n",
       "      <td>5.406240</td>\n",
       "    </tr>\n",
       "    <tr>\n",
       "      <th>1</th>\n",
       "      <td>51.560694</td>\n",
       "      <td>0.226250</td>\n",
       "      <td>5.406240</td>\n",
       "    </tr>\n",
       "    <tr>\n",
       "      <th>2</th>\n",
       "      <td>51.560417</td>\n",
       "      <td>0.226250</td>\n",
       "      <td>5.406240</td>\n",
       "    </tr>\n",
       "    <tr>\n",
       "      <th>3</th>\n",
       "      <td>51.560417</td>\n",
       "      <td>0.228472</td>\n",
       "      <td>5.406240</td>\n",
       "    </tr>\n",
       "    <tr>\n",
       "      <th>4</th>\n",
       "      <td>51.559861</td>\n",
       "      <td>0.227361</td>\n",
       "      <td>5.406240</td>\n",
       "    </tr>\n",
       "    <tr>\n",
       "      <th>...</th>\n",
       "      <td>...</td>\n",
       "      <td>...</td>\n",
       "      <td>...</td>\n",
       "    </tr>\n",
       "    <tr>\n",
       "      <th>1148462</th>\n",
       "      <td>51.554583</td>\n",
       "      <td>-0.208472</td>\n",
       "      <td>33.506246</td>\n",
       "    </tr>\n",
       "    <tr>\n",
       "      <th>1148463</th>\n",
       "      <td>51.553750</td>\n",
       "      <td>-0.207639</td>\n",
       "      <td>33.506246</td>\n",
       "    </tr>\n",
       "    <tr>\n",
       "      <th>1148464</th>\n",
       "      <td>51.554028</td>\n",
       "      <td>-0.207639</td>\n",
       "      <td>33.506246</td>\n",
       "    </tr>\n",
       "    <tr>\n",
       "      <th>1148465</th>\n",
       "      <td>51.554861</td>\n",
       "      <td>-0.208750</td>\n",
       "      <td>33.506246</td>\n",
       "    </tr>\n",
       "    <tr>\n",
       "      <th>1148466</th>\n",
       "      <td>51.553750</td>\n",
       "      <td>-0.207361</td>\n",
       "      <td>33.506246</td>\n",
       "    </tr>\n",
       "  </tbody>\n",
       "</table>\n",
       "<p>1625281 rows × 3 columns</p>\n",
       "</div>"
      ],
      "text/plain": [
       "          latitude  longitude  population\n",
       "0        51.560139   0.227083    5.406240\n",
       "1        51.560694   0.226250    5.406240\n",
       "2        51.560417   0.226250    5.406240\n",
       "3        51.560417   0.228472    5.406240\n",
       "4        51.559861   0.227361    5.406240\n",
       "...            ...        ...         ...\n",
       "1148462  51.554583  -0.208472   33.506246\n",
       "1148463  51.553750  -0.207639   33.506246\n",
       "1148464  51.554028  -0.207639   33.506246\n",
       "1148465  51.554861  -0.208750   33.506246\n",
       "1148466  51.553750  -0.207361   33.506246\n",
       "\n",
       "[1625281 rows x 3 columns]"
      ]
     },
     "execution_count": 27,
     "metadata": {},
     "output_type": "execute_result"
    }
   ],
   "source": [
    "df = df1.append(df2)\n",
    "df = df.drop('Unnamed: 0', axis = 1)\n",
    "df"
   ]
  },
  {
   "cell_type": "code",
   "execution_count": 28,
   "metadata": {},
   "outputs": [
    {
     "name": "stdout",
     "output_type": "stream",
     "text": [
      "51.69291666666667\n"
     ]
    },
    {
     "data": {
      "text/plain": [
       "51.26513888888889"
      ]
     },
     "execution_count": 28,
     "metadata": {},
     "output_type": "execute_result"
    }
   ],
   "source": [
    "print(max(df['latitude']))\n",
    "min(df['latitude'])"
   ]
  },
  {
   "cell_type": "code",
   "execution_count": 29,
   "metadata": {},
   "outputs": [
    {
     "name": "stdout",
     "output_type": "stream",
     "text": [
      "0.56125\n"
     ]
    },
    {
     "data": {
      "text/plain": [
       "-0.7465277777777778"
      ]
     },
     "execution_count": 29,
     "metadata": {},
     "output_type": "execute_result"
    }
   ],
   "source": [
    "print(max(df['longitude']))\n",
    "min(df['longitude'])"
   ]
  },
  {
   "cell_type": "code",
   "execution_count": 30,
   "metadata": {},
   "outputs": [
    {
     "name": "stdout",
     "output_type": "stream",
     "text": [
      "Number of rows removed: 264834\n"
     ]
    }
   ],
   "source": [
    "nrow_before = len(df)\n",
    "df_filter = df[(df['latitude'] > 51.239405) & (df['latitude'] < 51.737184)]\n",
    "df_filter = df_filter[(df_filter['longitude'] > -0.625211) & (df_filter['longitude'] < 0.328289)]\n",
    "nrow_after = len(df_filter)\n",
    "print('Number of rows removed:', nrow_before - nrow_after)\n",
    "df = df_filter"
   ]
  },
  {
   "cell_type": "code",
   "execution_count": 31,
   "metadata": {},
   "outputs": [
    {
     "data": {
      "text/html": [
       "<div>\n",
       "<style scoped>\n",
       "    .dataframe tbody tr th:only-of-type {\n",
       "        vertical-align: middle;\n",
       "    }\n",
       "\n",
       "    .dataframe tbody tr th {\n",
       "        vertical-align: top;\n",
       "    }\n",
       "\n",
       "    .dataframe thead th {\n",
       "        text-align: right;\n",
       "    }\n",
       "</style>\n",
       "<table border=\"1\" class=\"dataframe\">\n",
       "  <thead>\n",
       "    <tr style=\"text-align: right;\">\n",
       "      <th></th>\n",
       "      <th>latitude</th>\n",
       "      <th>longitude</th>\n",
       "      <th>population</th>\n",
       "    </tr>\n",
       "  </thead>\n",
       "  <tbody>\n",
       "    <tr>\n",
       "      <th>0</th>\n",
       "      <td>51.560139</td>\n",
       "      <td>0.227083</td>\n",
       "      <td>5.406240</td>\n",
       "    </tr>\n",
       "    <tr>\n",
       "      <th>1</th>\n",
       "      <td>51.560694</td>\n",
       "      <td>0.226250</td>\n",
       "      <td>5.406240</td>\n",
       "    </tr>\n",
       "    <tr>\n",
       "      <th>2</th>\n",
       "      <td>51.560417</td>\n",
       "      <td>0.226250</td>\n",
       "      <td>5.406240</td>\n",
       "    </tr>\n",
       "    <tr>\n",
       "      <th>3</th>\n",
       "      <td>51.560417</td>\n",
       "      <td>0.228472</td>\n",
       "      <td>5.406240</td>\n",
       "    </tr>\n",
       "    <tr>\n",
       "      <th>4</th>\n",
       "      <td>51.559861</td>\n",
       "      <td>0.227361</td>\n",
       "      <td>5.406240</td>\n",
       "    </tr>\n",
       "    <tr>\n",
       "      <th>...</th>\n",
       "      <td>...</td>\n",
       "      <td>...</td>\n",
       "      <td>...</td>\n",
       "    </tr>\n",
       "    <tr>\n",
       "      <th>1148462</th>\n",
       "      <td>51.554583</td>\n",
       "      <td>-0.208472</td>\n",
       "      <td>33.506246</td>\n",
       "    </tr>\n",
       "    <tr>\n",
       "      <th>1148463</th>\n",
       "      <td>51.553750</td>\n",
       "      <td>-0.207639</td>\n",
       "      <td>33.506246</td>\n",
       "    </tr>\n",
       "    <tr>\n",
       "      <th>1148464</th>\n",
       "      <td>51.554028</td>\n",
       "      <td>-0.207639</td>\n",
       "      <td>33.506246</td>\n",
       "    </tr>\n",
       "    <tr>\n",
       "      <th>1148465</th>\n",
       "      <td>51.554861</td>\n",
       "      <td>-0.208750</td>\n",
       "      <td>33.506246</td>\n",
       "    </tr>\n",
       "    <tr>\n",
       "      <th>1148466</th>\n",
       "      <td>51.553750</td>\n",
       "      <td>-0.207361</td>\n",
       "      <td>33.506246</td>\n",
       "    </tr>\n",
       "  </tbody>\n",
       "</table>\n",
       "<p>1360447 rows × 3 columns</p>\n",
       "</div>"
      ],
      "text/plain": [
       "          latitude  longitude  population\n",
       "0        51.560139   0.227083    5.406240\n",
       "1        51.560694   0.226250    5.406240\n",
       "2        51.560417   0.226250    5.406240\n",
       "3        51.560417   0.228472    5.406240\n",
       "4        51.559861   0.227361    5.406240\n",
       "...            ...        ...         ...\n",
       "1148462  51.554583  -0.208472   33.506246\n",
       "1148463  51.553750  -0.207639   33.506246\n",
       "1148464  51.554028  -0.207639   33.506246\n",
       "1148465  51.554861  -0.208750   33.506246\n",
       "1148466  51.553750  -0.207361   33.506246\n",
       "\n",
       "[1360447 rows x 3 columns]"
      ]
     },
     "execution_count": 31,
     "metadata": {},
     "output_type": "execute_result"
    }
   ],
   "source": [
    "df"
   ]
  },
  {
   "cell_type": "code",
   "execution_count": 32,
   "metadata": {},
   "outputs": [],
   "source": [
    "#haversine requires latitude and longitude in radians\n",
    "import math\n",
    "df['latitude'] = df['latitude'].apply(math.radians)\n",
    "df['longitude'] = df['longitude'].apply(math.radians)"
   ]
  },
  {
   "cell_type": "code",
   "execution_count": 33,
   "metadata": {},
   "outputs": [
    {
     "data": {
      "text/html": [
       "<style>#sk-container-id-4 {color: black;background-color: white;}#sk-container-id-4 pre{padding: 0;}#sk-container-id-4 div.sk-toggleable {background-color: white;}#sk-container-id-4 label.sk-toggleable__label {cursor: pointer;display: block;width: 100%;margin-bottom: 0;padding: 0.3em;box-sizing: border-box;text-align: center;}#sk-container-id-4 label.sk-toggleable__label-arrow:before {content: \"▸\";float: left;margin-right: 0.25em;color: #696969;}#sk-container-id-4 label.sk-toggleable__label-arrow:hover:before {color: black;}#sk-container-id-4 div.sk-estimator:hover label.sk-toggleable__label-arrow:before {color: black;}#sk-container-id-4 div.sk-toggleable__content {max-height: 0;max-width: 0;overflow: hidden;text-align: left;background-color: #f0f8ff;}#sk-container-id-4 div.sk-toggleable__content pre {margin: 0.2em;color: black;border-radius: 0.25em;background-color: #f0f8ff;}#sk-container-id-4 input.sk-toggleable__control:checked~div.sk-toggleable__content {max-height: 200px;max-width: 100%;overflow: auto;}#sk-container-id-4 input.sk-toggleable__control:checked~label.sk-toggleable__label-arrow:before {content: \"▾\";}#sk-container-id-4 div.sk-estimator input.sk-toggleable__control:checked~label.sk-toggleable__label {background-color: #d4ebff;}#sk-container-id-4 div.sk-label input.sk-toggleable__control:checked~label.sk-toggleable__label {background-color: #d4ebff;}#sk-container-id-4 input.sk-hidden--visually {border: 0;clip: rect(1px 1px 1px 1px);clip: rect(1px, 1px, 1px, 1px);height: 1px;margin: -1px;overflow: hidden;padding: 0;position: absolute;width: 1px;}#sk-container-id-4 div.sk-estimator {font-family: monospace;background-color: #f0f8ff;border: 1px dotted black;border-radius: 0.25em;box-sizing: border-box;margin-bottom: 0.5em;}#sk-container-id-4 div.sk-estimator:hover {background-color: #d4ebff;}#sk-container-id-4 div.sk-parallel-item::after {content: \"\";width: 100%;border-bottom: 1px solid gray;flex-grow: 1;}#sk-container-id-4 div.sk-label:hover label.sk-toggleable__label {background-color: #d4ebff;}#sk-container-id-4 div.sk-serial::before {content: \"\";position: absolute;border-left: 1px solid gray;box-sizing: border-box;top: 0;bottom: 0;left: 50%;z-index: 0;}#sk-container-id-4 div.sk-serial {display: flex;flex-direction: column;align-items: center;background-color: white;padding-right: 0.2em;padding-left: 0.2em;position: relative;}#sk-container-id-4 div.sk-item {position: relative;z-index: 1;}#sk-container-id-4 div.sk-parallel {display: flex;align-items: stretch;justify-content: center;background-color: white;position: relative;}#sk-container-id-4 div.sk-item::before, #sk-container-id-4 div.sk-parallel-item::before {content: \"\";position: absolute;border-left: 1px solid gray;box-sizing: border-box;top: 0;bottom: 0;left: 50%;z-index: -1;}#sk-container-id-4 div.sk-parallel-item {display: flex;flex-direction: column;z-index: 1;position: relative;background-color: white;}#sk-container-id-4 div.sk-parallel-item:first-child::after {align-self: flex-end;width: 50%;}#sk-container-id-4 div.sk-parallel-item:last-child::after {align-self: flex-start;width: 50%;}#sk-container-id-4 div.sk-parallel-item:only-child::after {width: 0;}#sk-container-id-4 div.sk-dashed-wrapped {border: 1px dashed gray;margin: 0 0.4em 0.5em 0.4em;box-sizing: border-box;padding-bottom: 0.4em;background-color: white;}#sk-container-id-4 div.sk-label label {font-family: monospace;font-weight: bold;display: inline-block;line-height: 1.2em;}#sk-container-id-4 div.sk-label-container {text-align: center;}#sk-container-id-4 div.sk-container {/* jupyter's `normalize.less` sets `[hidden] { display: none; }` but bootstrap.min.css set `[hidden] { display: none !important; }` so we also need the `!important` here to be able to override the default hidden behavior on the sphinx rendered scikit-learn.org. See: https://github.com/scikit-learn/scikit-learn/issues/21755 */display: inline-block !important;position: relative;}#sk-container-id-4 div.sk-text-repr-fallback {display: none;}</style><div id=\"sk-container-id-4\" class=\"sk-top-container\"><div class=\"sk-text-repr-fallback\"><pre>KNeighborsRegressor(algorithm=&#x27;brute&#x27;, metric=&#x27;haversine&#x27;, n_jobs=-1,\n",
       "                    n_neighbors=1, weights=&#x27;distance&#x27;)</pre><b>In a Jupyter environment, please rerun this cell to show the HTML representation or trust the notebook. <br />On GitHub, the HTML representation is unable to render, please try loading this page with nbviewer.org.</b></div><div class=\"sk-container\" hidden><div class=\"sk-item\"><div class=\"sk-estimator sk-toggleable\"><input class=\"sk-toggleable__control sk-hidden--visually\" id=\"sk-estimator-id-4\" type=\"checkbox\" checked><label for=\"sk-estimator-id-4\" class=\"sk-toggleable__label sk-toggleable__label-arrow\">KNeighborsRegressor</label><div class=\"sk-toggleable__content\"><pre>KNeighborsRegressor(algorithm=&#x27;brute&#x27;, metric=&#x27;haversine&#x27;, n_jobs=-1,\n",
       "                    n_neighbors=1, weights=&#x27;distance&#x27;)</pre></div></div></div></div></div>"
      ],
      "text/plain": [
       "KNeighborsRegressor(algorithm='brute', metric='haversine', n_jobs=-1,\n",
       "                    n_neighbors=1, weights='distance')"
      ]
     },
     "execution_count": 33,
     "metadata": {},
     "output_type": "execute_result"
    }
   ],
   "source": [
    "from sklearn.neighbors import KNeighborsRegressor\n",
    "\n",
    "#use all of data in train\n",
    "X_train = df[['latitude', 'longitude']]\n",
    "y_train = df['population'].ravel()\n",
    "\n",
    "#use best k value\n",
    "#lower k value works better for accuracy's sake for high resolution datasets such as pop density\n",
    "k = 1\n",
    "model = KNeighborsRegressor(n_neighbors=k, weights = 'distance', algorithm = 'brute', metric = 'haversine', n_jobs = -1)\n",
    "model.fit(X_train, y_train)"
   ]
  },
  {
   "cell_type": "code",
   "execution_count": 34,
   "metadata": {},
   "outputs": [],
   "source": [
    "#pickle final model\n",
    "import pickle\n",
    "filename = 'popdensity_model.pkl'\n",
    "model = model\n",
    "pickle.dump(model, open(filename, 'wb'))"
   ]
  },
  {
   "cell_type": "code",
   "execution_count": null,
   "metadata": {},
   "outputs": [],
   "source": []
  }
 ],
 "metadata": {
  "instance_type": "ml.t3.medium",
  "kernelspec": {
   "display_name": "Python 3.10.5 64-bit",
   "language": "python",
   "name": "python3"
  },
  "language_info": {
   "codemirror_mode": {
    "name": "ipython",
    "version": 3
   },
   "file_extension": ".py",
   "mimetype": "text/x-python",
   "name": "python",
   "nbconvert_exporter": "python",
   "pygments_lexer": "ipython3",
   "version": "3.10.5"
  },
  "vscode": {
   "interpreter": {
    "hash": "aee8b7b246df8f9039afb4144a1f6fd8d2ca17a180786b69acc140d282b71a49"
   }
  }
 },
 "nbformat": 4,
 "nbformat_minor": 4
}
