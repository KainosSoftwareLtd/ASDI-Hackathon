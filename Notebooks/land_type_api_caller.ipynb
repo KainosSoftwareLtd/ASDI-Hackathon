{
   "cells": [
    {
     "cell_type": "code",
     "execution_count": null,
     "metadata": {},
     "outputs": [],
     "source": [
      "from time import time\n",
      "import pandas as pd\n",
      "from tqdm import tqdm\n",
      "import os\n",
      "from pathlib import Path\n",
      "if '../' not in sys.path:\n",
      "  sys.path.append('../')\n",
      "from helpers import *"
     ]
    },
    {
     "cell_type": "code",
     "execution_count": null,
     "metadata": {},
     "outputs": [],
     "source": [
      "points_df_path = \"../points_df_025.csv\"\n",
      "point_set_df = pd.read_csv(points_df_path, header=0, index_col=0)\n",
      "point_set_df"
     ]
    },
    {
     "cell_type": "code",
     "execution_count": null,
     "metadata": {},
     "outputs": [],
     "source": [
      "API_key = os.getenv('OS_DATA_HUB_API_KEY_0')"
     ]
    },
    {
     "cell_type": "markdown",
     "metadata": {},
     "source": [
      "# Simple solution"
     ]
    },
    {
     "cell_type": "markdown",
     "metadata": {},
     "source": [
      "- 1 api key\n",
      "- Make 6 calls\n",
      "- Wait a minute\n",
      "- Repeat"
     ]
    },
    {
     "cell_type": "code",
     "execution_count": null,
     "metadata": {},
     "outputs": [],
     "source": [
      "\n",
      "def get_land_types_for_points_in_csv(csv_path, save_path, start_point_index, end_point_index, diameter_resolution, API_key):\n",
      "  points_df = pd.read_csv(csv_path)\n",
      "  subset_points_df = points_df.loc[start_point_index:end_point_index]\n",
      "  \n",
      "  print('Number of points to be processed:', len(subset_points_df))\n",
      "  print('Start/End index (inclusive):', start_point_index, end_point_index)\n",
      "  print('Start point:', subset_points_df.iloc[0]['Latitude'], ',', points_df.iloc[0]['Longitude'])\n",
      "  print('End point:', points_df.iloc[-1]['Latitude'], ',', points_df.iloc[-1]['Longitude'])\n",
      "  \n",
      "  \n",
      "  land_type_list = []\n",
      "  t0 = time()\n",
      "  for i in tqdm(range(len(subset_points_df))):\n",
      "    # Save every 10\n",
      "    if i % 10 == 0 and i != 0:\n",
      "      # Create or append to a csv while waiting\n",
      "      df = pd.DataFrame(dtype='object', index=subset_points_df.index[:len(land_type_list)])\n",
      "      df['Land_Type'] = land_type_list\n",
      "      df.to_csv(save_path)\n",
      "\n",
      "      # Wait 2 seconds to repeat\n",
      "      while(time() - t0 < 0):\n",
      "        continue\n",
      "      t0 = time() # reset the timer\n",
      "    \n",
      "    land_type = get_land_type(subset_points_df.iloc[i]['Latitude'],\n",
      "                              subset_points_df.iloc[i]['Longitude'],\n",
      "                              diameter_resolution,\n",
      "                              API_key)\n",
      "    land_type_list.append(land_type)\n",
      "  \n",
      "  print('Saving...')\n",
      "  df = pd.DataFrame(dtype='object', index=subset_points_df.index)\n",
      "  df['Land_Type'] = land_type_list\n",
      "  df.to_csv(save_path)\n",
      "  print('Done.')\n",
      "\n",
      "\n",
      "\n",
      "get_land_types_for_points_in_csv('../points_df_025.csv', '../land_types_23428-30000.csv', 23428, 30000, 0.25, API_key)\n",
      "pd.read_csv('../land_types_23428-30000.csv', header=0, index_col=0)"
     ]
    },
    {
     "cell_type": "markdown",
     "metadata": {},
     "source": [
      "## Alternate solution:\n",
      "Make better use of time. Twice as fast but still quite slow."
     ]
    },
    {
     "cell_type": "code",
     "execution_count": null,
     "metadata": {},
     "outputs": [],
     "source": [
      "\n",
      "def manage_throttle_limit_timing(history, transactions_per_point, save_path, subset_points_df, land_type_list):\n",
      "  \n",
      "  # get transactions in last minute\n",
      "  for i in range(0, len(history)):\n",
      "    index = len(history) -1 - i\n",
      "    within_minute = time() - history[index] < 60\n",
      "    if not within_minute:\n",
      "      break\n",
      "    last_transaction_within_minute_index = index\n",
      "  \n",
      "  transactions_within_minute = (len(history) - last_transaction_within_minute_index - 1) * transactions_per_point\n",
      "  \n",
      "  if transactions_within_minute > 600 - transactions_per_point:\n",
      "    # you must wait for the last transaction to clear this time window\n",
      "    df = pd.DataFrame(dtype='object', index=subset_points_df.index[:len(land_type_list)])\n",
      "    df['Land_Type'] = land_type_list\n",
      "    df.to_csv(save_path)\n",
      "      \n",
      "    while time() - history[last_transaction_within_minute_index+1] < 60:\n",
      "      continue\n",
      "\n",
      "\n",
      "def get_land_types_for_points_in_csv(csv_path, save_path, start_point_index, end_point_index, diameter_resolution, API_key):\n",
      "  # Open CSV\n",
      "  points_df = pd.read_csv(csv_path)\n",
      "  # Get correct set of points\n",
      "  subset_points_df = points_df.loc[start_point_index:end_point_index]\n",
      "  \n",
      "  print('Number of points to be processed:', len(subset_points_df))\n",
      "  print('Start/End index (inclusive):', start_point_index, end_point_index)\n",
      "  print('Start point:', subset_points_df.iloc[0]['Latitude'], ',', points_df.iloc[0]['Longitude'])\n",
      "  print('End point:', points_df.iloc[-1]['Latitude'], ',', points_df.iloc[-1]['Longitude'])\n",
      "  \n",
      "  \n",
      "  land_type_list = []\n",
      "  # Get land type of those set 6 points\n",
      "  transactions_per_point = 9\n",
      "  \n",
      "  history = []\n",
      "  for i in tqdm(range(len(subset_points_df))):\n",
      "    \n",
      "    if len(history) > 6:\n",
      "      manage_throttle_limit_timing(history, 9, save_path, subset_points_df, land_type_list)\n",
      "      # save and wait\n",
      "    \n",
      "    \n",
      "    history += [time()] # Make time stamp\n",
      "    land_type = get_land_type(subset_points_df.iloc[i]['Latitude'],\n",
      "                              subset_points_df.iloc[i]['Longitude'],\n",
      "                              diameter_resolution,\n",
      "                              API_key)\n",
      "    land_type_list.append(land_type)\n",
      "  \n",
      "  print('Saving...')\n",
      "  df = pd.DataFrame(dtype='object', index=subset_points_df.index)\n",
      "  df['Land_Type'] = land_type_list\n",
      "  df.to_csv(save_path)\n",
      "  print('Done.')\n",
      "\n",
      "\n",
      "\n",
      "get_land_types_for_points_in_csv('./points_df_025.csv', './land_types_53001-58247.csv', 53001, 58247, 0.25, API_key)\n",
      "pd.read_csv('./land_types_53001-58247.csv', header=0, index_col=0)"
     ]
    },
    {
     "cell_type": "markdown",
     "metadata": {},
     "source": [
      "## More complicated Solution"
     ]
    },
    {
     "cell_type": "markdown",
     "metadata": {},
     "source": [
      "- Maintain a dictionary of keys and time of last use\n",
      "- Grab a usable key from the dictionary each time"
     ]
    },
    {
     "cell_type": "markdown",
     "metadata": {},
     "source": [
      "## Test api helper function"
     ]
    },
    {
     "cell_type": "code",
     "execution_count": null,
     "metadata": {},
     "outputs": [],
     "source": [
      "bbox = '-0.131267,51.503470,-0.130291,51.503918'"
     ]
    },
    {
     "cell_type": "code",
     "execution_count": null,
     "metadata": {},
     "outputs": [],
     "source": [
      "def throttle(n):\n",
      "  for i in tqdm(range(n)):\n",
      "    get_feature_type_in_bbox_refactored(bbox, 'Zoomstack_DistrictBuildings', API_key)\n",
      "    \n",
      "throttle(600)"
     ]
    },
    {
     "cell_type": "code",
     "execution_count": null,
     "metadata": {},
     "outputs": [],
     "source": [
      "import threading\n",
      "import multiprocessing\n",
      "\n",
      "threads = 2   # Number of threads to creat\n",
      "\n",
      "# the job list \n",
      "jobs = []\n",
      "for i in range(0, threads):\n",
      "    # thread = threading.Thread(target=get_feature_type_in_bbox_refactored(bbox, 'Zoomstack_Surfacewater', API_key))\n",
      "    # jobs.append(thread)\n",
      "    \n",
      "    process = multiprocessing.Process(target=throttle, \n",
      "                                          args=(10))\n",
      "    jobs.append(process)\n",
      "# Start the threads (i.e. calculate the random number lists)\n",
      "for j in jobs:\n",
      "    j.start()\n",
      "# Ensure all of the threads have finished\n",
      "for j in jobs:\n",
      "    j.join()\n",
      "print(\"List processing complete.\")"
     ]
    }
   ],
   "metadata": {
    "instance_type": "ml.t3.medium",
    "kernelspec": {
     "display_name": "Python 3.9.13 64-bit",
     "language": "python",
     "name": "python3"
    },
    "language_info": {
     "codemirror_mode": {
      "name": "ipython",
      "version": 3
     },
     "file_extension": ".py",
     "mimetype": "text/x-python",
     "name": "python",
     "nbconvert_exporter": "python",
     "pygments_lexer": "ipython3",
     "version": "3.9.13"
    },
    "vscode": {
     "interpreter": {
      "hash": "aee8b7b246df8f9039afb4144a1f6fd8d2ca17a180786b69acc140d282b71a49"
     }
    }
   },
   "nbformat": 4,
   "nbformat_minor": 4
  }
  