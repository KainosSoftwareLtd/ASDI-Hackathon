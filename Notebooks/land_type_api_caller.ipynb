{
 "cells": [
  {
   "cell_type": "code",
   "execution_count": 2,
   "metadata": {},
   "outputs": [],
   "source": [
    "from helpers import *\n",
    "from time import time\n",
    "import pandas as pd\n",
    "from tqdm import tqdm\n",
    "import os"
   ]
  },
  {
   "cell_type": "code",
   "execution_count": 3,
   "metadata": {},
   "outputs": [
    {
     "data": {
      "text/html": [
       "<div>\n",
       "<style scoped>\n",
       "    .dataframe tbody tr th:only-of-type {\n",
       "        vertical-align: middle;\n",
       "    }\n",
       "\n",
       "    .dataframe tbody tr th {\n",
       "        vertical-align: top;\n",
       "    }\n",
       "\n",
       "    .dataframe thead th {\n",
       "        text-align: right;\n",
       "    }\n",
       "</style>\n",
       "<table border=\"1\" class=\"dataframe\">\n",
       "  <thead>\n",
       "    <tr style=\"text-align: right;\">\n",
       "      <th></th>\n",
       "      <th>Latitude</th>\n",
       "      <th>Longitude</th>\n",
       "    </tr>\n",
       "  </thead>\n",
       "  <tbody>\n",
       "    <tr>\n",
       "      <th>0</th>\n",
       "      <td>51.737184</td>\n",
       "      <td>-0.620643</td>\n",
       "    </tr>\n",
       "    <tr>\n",
       "      <th>1</th>\n",
       "      <td>51.737184</td>\n",
       "      <td>-0.617012</td>\n",
       "    </tr>\n",
       "    <tr>\n",
       "      <th>2</th>\n",
       "      <td>51.737184</td>\n",
       "      <td>-0.613382</td>\n",
       "    </tr>\n",
       "    <tr>\n",
       "      <th>3</th>\n",
       "      <td>51.737183</td>\n",
       "      <td>-0.609751</td>\n",
       "    </tr>\n",
       "    <tr>\n",
       "      <th>4</th>\n",
       "      <td>51.737183</td>\n",
       "      <td>-0.606120</td>\n",
       "    </tr>\n",
       "    <tr>\n",
       "      <th>...</th>\n",
       "      <td>...</td>\n",
       "      <td>...</td>\n",
       "    </tr>\n",
       "    <tr>\n",
       "      <th>58243</th>\n",
       "      <td>51.238843</td>\n",
       "      <td>0.312049</td>\n",
       "    </tr>\n",
       "    <tr>\n",
       "      <th>58244</th>\n",
       "      <td>51.238815</td>\n",
       "      <td>0.315640</td>\n",
       "    </tr>\n",
       "    <tr>\n",
       "      <th>58245</th>\n",
       "      <td>51.238786</td>\n",
       "      <td>0.319231</td>\n",
       "    </tr>\n",
       "    <tr>\n",
       "      <th>58246</th>\n",
       "      <td>51.238757</td>\n",
       "      <td>0.322822</td>\n",
       "    </tr>\n",
       "    <tr>\n",
       "      <th>58247</th>\n",
       "      <td>51.238728</td>\n",
       "      <td>0.326412</td>\n",
       "    </tr>\n",
       "  </tbody>\n",
       "</table>\n",
       "<p>58248 rows × 2 columns</p>\n",
       "</div>"
      ],
      "text/plain": [
       "        Latitude  Longitude\n",
       "0      51.737184  -0.620643\n",
       "1      51.737184  -0.617012\n",
       "2      51.737184  -0.613382\n",
       "3      51.737183  -0.609751\n",
       "4      51.737183  -0.606120\n",
       "...          ...        ...\n",
       "58243  51.238843   0.312049\n",
       "58244  51.238815   0.315640\n",
       "58245  51.238786   0.319231\n",
       "58246  51.238757   0.322822\n",
       "58247  51.238728   0.326412\n",
       "\n",
       "[58248 rows x 2 columns]"
      ]
     },
     "execution_count": 3,
     "metadata": {},
     "output_type": "execute_result"
    }
   ],
   "source": [
    "points_df_path = \"./points_df_025.csv\"\n",
    "point_set_df = pd.read_csv(points_df_path, header=0, index_col=0)\n",
    "point_set_df"
   ]
  },
  {
   "cell_type": "code",
   "execution_count": 4,
   "metadata": {},
   "outputs": [],
   "source": [
    "API_key = os.getenv('OS_DATA_HUB_API_KEY_0')"
   ]
  },
  {
   "cell_type": "markdown",
   "metadata": {},
   "source": [
    "# Simple solution"
   ]
  },
  {
   "cell_type": "markdown",
   "metadata": {},
   "source": [
    "- 1 api key\n",
    "- Make 6 calls\n",
    "- Wait a minute\n",
    "- Repeat"
   ]
  },
  {
   "cell_type": "code",
   "execution_count": 5,
   "metadata": {},
   "outputs": [
    {
     "name": "stderr",
     "output_type": "stream",
     "text": [
      "  0%|          | 0/6573 [00:00<?, ?it/s]"
     ]
    },
    {
     "name": "stdout",
     "output_type": "stream",
     "text": [
      "Number of points to be processed: 6573\n",
      "Start/End index (inclusive): 23428 30000\n",
      "Start point: 51.53694625538829 , -0.6206426520917254\n",
      "End point: 51.238728303226935 , 0.3264124829835313\n"
     ]
    },
    {
     "name": "stderr",
     "output_type": "stream",
     "text": [
      "100%|██████████| 6573/6573 [2:57:38<00:00,  1.62s/it]  "
     ]
    },
    {
     "name": "stdout",
     "output_type": "stream",
     "text": [
      "Saving...\n",
      "Done.\n"
     ]
    },
    {
     "name": "stderr",
     "output_type": "stream",
     "text": [
      "\n"
     ]
    },
    {
     "data": {
      "text/html": [
       "<div>\n",
       "<style scoped>\n",
       "    .dataframe tbody tr th:only-of-type {\n",
       "        vertical-align: middle;\n",
       "    }\n",
       "\n",
       "    .dataframe tbody tr th {\n",
       "        vertical-align: top;\n",
       "    }\n",
       "\n",
       "    .dataframe thead th {\n",
       "        text-align: right;\n",
       "    }\n",
       "</style>\n",
       "<table border=\"1\" class=\"dataframe\">\n",
       "  <thead>\n",
       "    <tr style=\"text-align: right;\">\n",
       "      <th></th>\n",
       "      <th>Land_Type</th>\n",
       "    </tr>\n",
       "  </thead>\n",
       "  <tbody>\n",
       "    <tr>\n",
       "      <th>23428</th>\n",
       "      <td>Building, Green_Space, Urban_Area</td>\n",
       "    </tr>\n",
       "    <tr>\n",
       "      <th>23429</th>\n",
       "      <td>Building, Green_Space, Urban_Area</td>\n",
       "    </tr>\n",
       "    <tr>\n",
       "      <th>23430</th>\n",
       "      <td>Building, Green_Space, Urban_Area</td>\n",
       "    </tr>\n",
       "    <tr>\n",
       "      <th>23431</th>\n",
       "      <td>Building, Green_Space, Urban_Area</td>\n",
       "    </tr>\n",
       "    <tr>\n",
       "      <th>23432</th>\n",
       "      <td>Water, Building, Green_Space, Urban_Area</td>\n",
       "    </tr>\n",
       "    <tr>\n",
       "      <th>...</th>\n",
       "      <td>...</td>\n",
       "    </tr>\n",
       "    <tr>\n",
       "      <th>29996</th>\n",
       "      <td>Water, Green_Space</td>\n",
       "    </tr>\n",
       "    <tr>\n",
       "      <th>29997</th>\n",
       "      <td>Water, Building, Green_Space, Urban_Area</td>\n",
       "    </tr>\n",
       "    <tr>\n",
       "      <th>29998</th>\n",
       "      <td>Water, Building, Green_Space, Urban_Area</td>\n",
       "    </tr>\n",
       "    <tr>\n",
       "      <th>29999</th>\n",
       "      <td>Water, Building, Green_Space, Urban_Area</td>\n",
       "    </tr>\n",
       "    <tr>\n",
       "      <th>30000</th>\n",
       "      <td>Building, Urban_Area</td>\n",
       "    </tr>\n",
       "  </tbody>\n",
       "</table>\n",
       "<p>6573 rows × 1 columns</p>\n",
       "</div>"
      ],
      "text/plain": [
       "                                      Land_Type\n",
       "23428         Building, Green_Space, Urban_Area\n",
       "23429         Building, Green_Space, Urban_Area\n",
       "23430         Building, Green_Space, Urban_Area\n",
       "23431         Building, Green_Space, Urban_Area\n",
       "23432  Water, Building, Green_Space, Urban_Area\n",
       "...                                         ...\n",
       "29996                        Water, Green_Space\n",
       "29997  Water, Building, Green_Space, Urban_Area\n",
       "29998  Water, Building, Green_Space, Urban_Area\n",
       "29999  Water, Building, Green_Space, Urban_Area\n",
       "30000                      Building, Urban_Area\n",
       "\n",
       "[6573 rows x 1 columns]"
      ]
     },
     "execution_count": 5,
     "metadata": {},
     "output_type": "execute_result"
    }
   ],
   "source": [
    "\n",
    "def get_land_types_for_points_in_csv(csv_path, save_path, start_point_index, end_point_index, diameter_resolution, API_key):\n",
    "  points_df = pd.read_csv(csv_path)\n",
    "  subset_points_df = points_df.loc[start_point_index:end_point_index]\n",
    "  \n",
    "  print('Number of points to be processed:', len(subset_points_df))\n",
    "  print('Start/End index (inclusive):', start_point_index, end_point_index)\n",
    "  print('Start point:', subset_points_df.iloc[0]['Latitude'], ',', points_df.iloc[0]['Longitude'])\n",
    "  print('End point:', points_df.iloc[-1]['Latitude'], ',', points_df.iloc[-1]['Longitude'])\n",
    "  \n",
    "  \n",
    "  land_type_list = []\n",
    "  t0 = time()\n",
    "  for i in tqdm(range(len(subset_points_df))):\n",
    "    # Save every 10\n",
    "    if i % 10 == 0 and i != 0:\n",
    "      # Create or append to a csv while waiting\n",
    "      df = pd.DataFrame(dtype='object', index=subset_points_df.index[:len(land_type_list)])\n",
    "      df['Land_Type'] = land_type_list\n",
    "      df.to_csv(save_path)\n",
    "\n",
    "      # Wait 2 seconds to repeat\n",
    "      while(time() - t0 < 2):\n",
    "        continue\n",
    "      t0 = time() # reset the timer\n",
    "    \n",
    "    land_type = get_land_type(subset_points_df.iloc[i]['Latitude'],\n",
    "                              subset_points_df.iloc[i]['Longitude'],\n",
    "                              diameter_resolution,\n",
    "                              API_key)\n",
    "    land_type_list.append(land_type)\n",
    "  \n",
    "  print('Saving...')\n",
    "  df = pd.DataFrame(dtype='object', index=subset_points_df.index)\n",
    "  df['Land_Type'] = land_type_list\n",
    "  df.to_csv(save_path)\n",
    "  print('Done.')\n",
    "\n",
    "\n",
    "\n",
    "get_land_types_for_points_in_csv('./points_df_025.csv', './land_types_23428-30000.csv', 23428, 30000, 0.25, API_key)\n",
    "pd.read_csv('./land_types_23428-30000.csv', header=0, index_col=0)"
   ]
  },
  {
   "cell_type": "markdown",
   "metadata": {},
   "source": [
    "## Alternate solution:\n",
    "Make better use of time. Twice as fast but still quite slow."
   ]
  },
  {
   "cell_type": "code",
   "execution_count": null,
   "metadata": {},
   "outputs": [
    {
     "name": "stdout",
     "output_type": "stream",
     "text": [
      "Number of points to be processed: 5247\n",
      "Start/End index (inclusive): 53001 58247\n",
      "Start point: 51.285120919964 , -0.6206426520917254\n",
      "End point: 51.238728303226935 , 0.3264124829835313\n"
     ]
    },
    {
     "name": "stderr",
     "output_type": "stream",
     "text": [
      "  1%|          | 51/5247 [02:23<3:55:23,  2.72s/it]"
     ]
    }
   ],
   "source": [
    "\n",
    "def manage_throttle_limit_timing(history, transactions_per_point, save_path, subset_points_df, land_type_list):\n",
    "  \n",
    "  # get transactions in last minute\n",
    "  for i in range(0, len(history)):\n",
    "    index = len(history) -1 - i\n",
    "    within_minute = time() - history[index] < 60\n",
    "    if not within_minute:\n",
    "      break\n",
    "    last_transaction_within_minute_index = index\n",
    "  \n",
    "  transactions_within_minute = (len(history) - last_transaction_within_minute_index - 1) * transactions_per_point\n",
    "  \n",
    "  if transactions_within_minute > 600 - transactions_per_point:\n",
    "    # you must wait for the last transaction to clear this time window\n",
    "    df = pd.DataFrame(dtype='object', index=subset_points_df.index[:len(land_type_list)])\n",
    "    df['Land_Type'] = land_type_list\n",
    "    df.to_csv(save_path)\n",
    "      \n",
    "    while time() - history[last_transaction_within_minute_index+1] < 60:\n",
    "      continue\n",
    "\n",
    "\n",
    "def get_land_types_for_points_in_csv(csv_path, save_path, start_point_index, end_point_index, diameter_resolution, API_key):\n",
    "  # Open CSV\n",
    "  points_df = pd.read_csv(csv_path)\n",
    "  # Get correct set of points\n",
    "  subset_points_df = points_df.loc[start_point_index:end_point_index]\n",
    "  \n",
    "  print('Number of points to be processed:', len(subset_points_df))\n",
    "  print('Start/End index (inclusive):', start_point_index, end_point_index)\n",
    "  print('Start point:', subset_points_df.iloc[0]['Latitude'], ',', points_df.iloc[0]['Longitude'])\n",
    "  print('End point:', points_df.iloc[-1]['Latitude'], ',', points_df.iloc[-1]['Longitude'])\n",
    "  \n",
    "  \n",
    "  land_type_list = []\n",
    "  # Get land type of those set 6 points\n",
    "  transactions_per_point = 9\n",
    "  \n",
    "  history = []\n",
    "  for i in tqdm(range(len(subset_points_df))):\n",
    "    \n",
    "    if len(history) > 6:\n",
    "      manage_throttle_limit_timing(history, 9, save_path, subset_points_df, land_type_list)\n",
    "      # save and wait\n",
    "    \n",
    "    \n",
    "    history += [time()] # Make time stamp\n",
    "    land_type = get_land_type(subset_points_df.iloc[i]['Latitude'],\n",
    "                              subset_points_df.iloc[i]['Longitude'],\n",
    "                              diameter_resolution,\n",
    "                              API_key)\n",
    "    land_type_list.append(land_type)\n",
    "  \n",
    "  print('Saving...')\n",
    "  df = pd.DataFrame(dtype='object', index=subset_points_df.index)\n",
    "  df['Land_Type'] = land_type_list\n",
    "  df.to_csv(save_path)\n",
    "  print('Done.')\n",
    "\n",
    "\n",
    "\n",
    "get_land_types_for_points_in_csv('./points_df_025.csv', './land_types_53001-58247.csv', 53001, 58247, 0.25, API_key)\n",
    "pd.read_csv('./land_types_53001-58247.csv', header=0, index_col=0)"
   ]
  },
  {
   "cell_type": "markdown",
   "metadata": {},
   "source": [
    "## More complicated Solution"
   ]
  },
  {
   "cell_type": "markdown",
   "metadata": {},
   "source": [
    "- Maintain a dictionary of keys and time of last use\n",
    "- Grab a usable key from the dictionary each time"
   ]
  }
 ],
 "metadata": {
  "instance_type": "ml.t3.medium",
  "kernelspec": {
   "display_name": "Python 3.9.13 64-bit",
   "language": "python",
   "name": "python3"
  },
  "language_info": {
   "codemirror_mode": {
    "name": "ipython",
    "version": 3
   },
   "file_extension": ".py",
   "mimetype": "text/x-python",
   "name": "python",
   "nbconvert_exporter": "python",
   "pygments_lexer": "ipython3",
   "version": "3.9.13"
  },
  "vscode": {
   "interpreter": {
    "hash": "aee8b7b246df8f9039afb4144a1f6fd8d2ca17a180786b69acc140d282b71a49"
   }
  }
 },
 "nbformat": 4,
 "nbformat_minor": 4
}
