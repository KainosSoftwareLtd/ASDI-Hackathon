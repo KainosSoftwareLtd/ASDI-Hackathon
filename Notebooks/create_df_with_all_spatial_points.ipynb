{
 "cells": [
  {
   "cell_type": "code",
   "execution_count": 4,
   "metadata": {},
   "outputs": [],
   "source": [
    "import sys\n",
    "import pathlib\n",
    "\n",
    "ROOT = pathlib.Path().absolute().parent.as_posix()\n",
    "if ROOT not in sys.path:\n",
    "    sys.path.append(ROOT)\n",
    "    \n",
    "from helpers import *"
   ]
  },
  {
   "cell_type": "code",
   "execution_count": 5,
   "metadata": {},
   "outputs": [
    {
     "name": "stdout",
     "output_type": "stream",
     "text": [
      "553\n"
     ]
    },
    {
     "name": "stderr",
     "output_type": "stream",
     "text": [
      "100%|██████████| 553/553 [00:03<00:00, 175.94it/s]\n"
     ]
    }
   ],
   "source": [
    "points_df = get_spaced_point_set_in_bbox(0.1, (51.239405, -0.625211), (51.737184, 0.328289))   #0.1 = 1/10th of a km = resolution to set for data\n",
    "points_df.to_csv(ROOT + '/Spikes/Dash/data/points_df.csv')"
   ]
  },
  {
   "cell_type": "code",
   "execution_count": 6,
   "metadata": {},
   "outputs": [
    {
     "data": {
      "text/html": [
       "<div>\n",
       "<style scoped>\n",
       "    .dataframe tbody tr th:only-of-type {\n",
       "        vertical-align: middle;\n",
       "    }\n",
       "\n",
       "    .dataframe tbody tr th {\n",
       "        vertical-align: top;\n",
       "    }\n",
       "\n",
       "    .dataframe thead th {\n",
       "        text-align: right;\n",
       "    }\n",
       "</style>\n",
       "<table border=\"1\" class=\"dataframe\">\n",
       "  <thead>\n",
       "    <tr style=\"text-align: right;\">\n",
       "      <th></th>\n",
       "      <th>Latitude</th>\n",
       "      <th>Longitude</th>\n",
       "    </tr>\n",
       "  </thead>\n",
       "  <tbody>\n",
       "    <tr>\n",
       "      <th>0</th>\n",
       "      <td>51.737184</td>\n",
       "      <td>-0.621051</td>\n",
       "    </tr>\n",
       "    <tr>\n",
       "      <th>1</th>\n",
       "      <td>51.737184</td>\n",
       "      <td>-0.619599</td>\n",
       "    </tr>\n",
       "    <tr>\n",
       "      <th>2</th>\n",
       "      <td>51.737184</td>\n",
       "      <td>-0.618147</td>\n",
       "    </tr>\n",
       "    <tr>\n",
       "      <th>3</th>\n",
       "      <td>51.737184</td>\n",
       "      <td>-0.616695</td>\n",
       "    </tr>\n",
       "    <tr>\n",
       "      <th>4</th>\n",
       "      <td>51.737184</td>\n",
       "      <td>-0.615242</td>\n",
       "    </tr>\n",
       "    <tr>\n",
       "      <th>...</th>\n",
       "      <td>...</td>\n",
       "      <td>...</td>\n",
       "    </tr>\n",
       "    <tr>\n",
       "      <th>364791</th>\n",
       "      <td>51.236953</td>\n",
       "      <td>0.325420</td>\n",
       "    </tr>\n",
       "    <tr>\n",
       "      <th>364792</th>\n",
       "      <td>51.236941</td>\n",
       "      <td>0.326857</td>\n",
       "    </tr>\n",
       "    <tr>\n",
       "      <th>364793</th>\n",
       "      <td>51.236930</td>\n",
       "      <td>0.328293</td>\n",
       "    </tr>\n",
       "    <tr>\n",
       "      <th>364794</th>\n",
       "      <td>51.236918</td>\n",
       "      <td>0.329729</td>\n",
       "    </tr>\n",
       "    <tr>\n",
       "      <th>364795</th>\n",
       "      <td>51.236907</td>\n",
       "      <td>0.331165</td>\n",
       "    </tr>\n",
       "  </tbody>\n",
       "</table>\n",
       "<p>364796 rows × 2 columns</p>\n",
       "</div>"
      ],
      "text/plain": [
       "         Latitude  Longitude\n",
       "0       51.737184  -0.621051\n",
       "1       51.737184  -0.619599\n",
       "2       51.737184  -0.618147\n",
       "3       51.737184  -0.616695\n",
       "4       51.737184  -0.615242\n",
       "...           ...        ...\n",
       "364791  51.236953   0.325420\n",
       "364792  51.236941   0.326857\n",
       "364793  51.236930   0.328293\n",
       "364794  51.236918   0.329729\n",
       "364795  51.236907   0.331165\n",
       "\n",
       "[364796 rows x 2 columns]"
      ]
     },
     "execution_count": 6,
     "metadata": {},
     "output_type": "execute_result"
    }
   ],
   "source": [
    "points_df"
   ]
  },
  {
   "cell_type": "code",
   "execution_count": null,
   "metadata": {},
   "outputs": [],
   "source": []
  }
 ],
 "metadata": {
  "kernelspec": {
   "display_name": "Python 3.10.5 64-bit",
   "language": "python",
   "name": "python3"
  },
  "language_info": {
   "codemirror_mode": {
    "name": "ipython",
    "version": 3
   },
   "file_extension": ".py",
   "mimetype": "text/x-python",
   "name": "python",
   "nbconvert_exporter": "python",
   "pygments_lexer": "ipython3",
   "version": "3.10.5"
  },
  "orig_nbformat": 4,
  "vscode": {
   "interpreter": {
    "hash": "aee8b7b246df8f9039afb4144a1f6fd8d2ca17a180786b69acc140d282b71a49"
   }
  }
 },
 "nbformat": 4,
 "nbformat_minor": 2
}
