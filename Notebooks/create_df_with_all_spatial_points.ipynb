{
 "cells": [
  {
   "cell_type": "code",
   "execution_count": 1,
   "metadata": {},
   "outputs": [],
   "source": [
    "import sys\n",
    "import pathlib\n",
    "\n",
    "ROOT = pathlib.Path().absolute().parent.as_posix()\n",
    "if ROOT not in sys.path:\n",
    "    sys.path.append(ROOT)\n",
    "    \n",
    "from helpers import *"
   ]
  },
  {
   "cell_type": "code",
   "execution_count": 6,
   "metadata": {},
   "outputs": [
    {
     "name": "stdout",
     "output_type": "stream",
     "text": [
      "221\n"
     ]
    },
    {
     "name": "stderr",
     "output_type": "stream",
     "text": [
      "100%|██████████| 221/221 [00:00<00:00, 535.36it/s]\n"
     ]
    }
   ],
   "source": [
    "points_df = get_spaced_point_set_in_bbox(0.5, (51.239405, -0.625211), (51.737184, 0.328289))   #0.1 = 1/10th of a km = resolution to set for data\n",
    "points_df.to_csv(ROOT + '/Spikes/Dash/data/points_df.csv')"
   ]
  },
  {
   "cell_type": "code",
   "execution_count": 7,
   "metadata": {},
   "outputs": [
    {
     "data": {
      "text/html": [
       "<div>\n",
       "<style scoped>\n",
       "    .dataframe tbody tr th:only-of-type {\n",
       "        vertical-align: middle;\n",
       "    }\n",
       "\n",
       "    .dataframe tbody tr th {\n",
       "        vertical-align: top;\n",
       "    }\n",
       "\n",
       "    .dataframe thead th {\n",
       "        text-align: right;\n",
       "    }\n",
       "</style>\n",
       "<table border=\"1\" class=\"dataframe\">\n",
       "  <thead>\n",
       "    <tr style=\"text-align: right;\">\n",
       "      <th></th>\n",
       "      <th>Latitude</th>\n",
       "      <th>Longitude</th>\n",
       "    </tr>\n",
       "  </thead>\n",
       "  <tbody>\n",
       "    <tr>\n",
       "      <th>0</th>\n",
       "      <td>51.737184</td>\n",
       "      <td>-0.620643</td>\n",
       "    </tr>\n",
       "    <tr>\n",
       "      <th>1</th>\n",
       "      <td>51.737184</td>\n",
       "      <td>-0.617012</td>\n",
       "    </tr>\n",
       "    <tr>\n",
       "      <th>2</th>\n",
       "      <td>51.737184</td>\n",
       "      <td>-0.613382</td>\n",
       "    </tr>\n",
       "    <tr>\n",
       "      <th>3</th>\n",
       "      <td>51.737183</td>\n",
       "      <td>-0.609751</td>\n",
       "    </tr>\n",
       "    <tr>\n",
       "      <th>4</th>\n",
       "      <td>51.737183</td>\n",
       "      <td>-0.606120</td>\n",
       "    </tr>\n",
       "    <tr>\n",
       "      <th>...</th>\n",
       "      <td>...</td>\n",
       "      <td>...</td>\n",
       "    </tr>\n",
       "    <tr>\n",
       "      <th>58243</th>\n",
       "      <td>51.238843</td>\n",
       "      <td>0.312049</td>\n",
       "    </tr>\n",
       "    <tr>\n",
       "      <th>58244</th>\n",
       "      <td>51.238815</td>\n",
       "      <td>0.315640</td>\n",
       "    </tr>\n",
       "    <tr>\n",
       "      <th>58245</th>\n",
       "      <td>51.238786</td>\n",
       "      <td>0.319231</td>\n",
       "    </tr>\n",
       "    <tr>\n",
       "      <th>58246</th>\n",
       "      <td>51.238757</td>\n",
       "      <td>0.322822</td>\n",
       "    </tr>\n",
       "    <tr>\n",
       "      <th>58247</th>\n",
       "      <td>51.238728</td>\n",
       "      <td>0.326412</td>\n",
       "    </tr>\n",
       "  </tbody>\n",
       "</table>\n",
       "<p>58248 rows × 2 columns</p>\n",
       "</div>"
      ],
      "text/plain": [
       "        Latitude  Longitude\n",
       "0      51.737184  -0.620643\n",
       "1      51.737184  -0.617012\n",
       "2      51.737184  -0.613382\n",
       "3      51.737183  -0.609751\n",
       "4      51.737183  -0.606120\n",
       "...          ...        ...\n",
       "58243  51.238843   0.312049\n",
       "58244  51.238815   0.315640\n",
       "58245  51.238786   0.319231\n",
       "58246  51.238757   0.322822\n",
       "58247  51.238728   0.326412\n",
       "\n",
       "[58248 rows x 2 columns]"
      ]
     },
     "execution_count": 7,
     "metadata": {},
     "output_type": "execute_result"
    }
   ],
   "source": [
    "points_df"
   ]
  },
  {
   "cell_type": "code",
   "execution_count": null,
   "metadata": {},
   "outputs": [],
   "source": []
  }
 ],
 "metadata": {
  "kernelspec": {
   "display_name": "Python 3.10.5 64-bit",
   "language": "python",
   "name": "python3"
  },
  "language_info": {
   "codemirror_mode": {
    "name": "ipython",
    "version": 3
   },
   "file_extension": ".py",
   "mimetype": "text/x-python",
   "name": "python",
   "nbconvert_exporter": "python",
   "pygments_lexer": "ipython3",
   "version": "3.10.5"
  },
  "orig_nbformat": 4,
  "vscode": {
   "interpreter": {
    "hash": "aee8b7b246df8f9039afb4144a1f6fd8d2ca17a180786b69acc140d282b71a49"
   }
  }
 },
 "nbformat": 4,
 "nbformat_minor": 2
}
