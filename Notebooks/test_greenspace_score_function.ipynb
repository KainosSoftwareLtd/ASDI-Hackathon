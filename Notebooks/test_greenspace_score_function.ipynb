{
 "cells": [
  {
   "cell_type": "code",
   "execution_count": 1,
   "metadata": {},
   "outputs": [],
   "source": [
    "import sys\n",
    "import pathlib\n",
    "import pandas as pd\n",
    "import numpy as np\n",
    "import boto3\n",
    "import time\n",
    "\n",
    "ROOT = pathlib.Path().absolute().parent.as_posix()\n",
    "if ROOT not in sys.path:\n",
    "    sys.path.append(ROOT)\n",
    "    \n",
    "from helpers import *"
   ]
  },
  {
   "cell_type": "code",
   "execution_count": 3,
   "metadata": {},
   "outputs": [
    {
     "ename": "IndentationError",
     "evalue": "unindent does not match any outer indentation level (<tokenize>, line 5)",
     "output_type": "error",
     "traceback": [
      "\u001b[0;36m  File \u001b[0;32m<tokenize>:5\u001b[0;36m\u001b[0m\n\u001b[0;31m    start = time.time()\u001b[0m\n\u001b[0m    ^\u001b[0m\n\u001b[0;31mIndentationError\u001b[0m\u001b[0;31m:\u001b[0m unindent does not match any outer indentation level\n"
     ]
    }
   ],
   "source": [
    "def test_greenspace_score_function():\n",
    "    \n",
    "    df1 = pd.read_csv(ROOT + '/Spikes/Dash/data/final_df_no_greenspace.csv', index_col = 0)\n",
    "    df2 = pd.read_csv(ROOT + '/Spikes/Dash/data/final_df_no_greenspace.csv', index_col = 0)\n",
    "    df2 = df2.rename(columns={'Latitude':'latitude', 'Longitude':'longitude'})\n",
    "    \n",
    "    df_merged = pd.merge(df1, df2, how=\"left\", left_on=['latitude', 'longitude'], right_on=['latitude', 'longitude'])\n",
    "\n",
    "    start = time.time()\n",
    "    df = apply_greenspace_score_function(df_merged)\n",
    "    end = time.time()\n",
    "    time_taken3 = round(end - start, 2)\n",
    "    print('apply_greenspace_score_function complete')\n",
    "    print('Time taken:', time_taken3)\n",
    "\n",
    "    total_time_taken = time_taken1 + time_taken2 + time_taken3\n",
    "    print('TOTAL time taken:', total_time_taken)\n",
    "    \n",
    "    df.to_csv(ROOT + '/Spikes/Dash/data/test_final_df_with_greenspace_score.csv')\n",
    "\n",
    "    return df"
   ]
  },
  {
   "cell_type": "code",
   "execution_count": null,
   "metadata": {},
   "outputs": [],
   "source": []
  }
 ],
 "metadata": {
  "kernelspec": {
   "display_name": "Python 3.10.5 64-bit",
   "language": "python",
   "name": "python3"
  },
  "language_info": {
   "codemirror_mode": {
    "name": "ipython",
    "version": 3
   },
   "file_extension": ".py",
   "mimetype": "text/x-python",
   "name": "python",
   "nbconvert_exporter": "python",
   "pygments_lexer": "ipython3",
   "version": "3.10.5"
  },
  "orig_nbformat": 4,
  "vscode": {
   "interpreter": {
    "hash": "aee8b7b246df8f9039afb4144a1f6fd8d2ca17a180786b69acc140d282b71a49"
   }
  }
 },
 "nbformat": 4,
 "nbformat_minor": 2
}
