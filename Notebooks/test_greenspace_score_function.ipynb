{
 "cells": [
  {
   "cell_type": "code",
   "execution_count": 4,
   "metadata": {},
   "outputs": [],
   "source": [
    "import sys\n",
    "import pathlib\n",
    "import pandas as pd\n",
    "import numpy as np\n",
    "import boto3\n",
    "import time\n",
    "\n",
    "ROOT = pathlib.Path().absolute().parent.as_posix()\n",
    "if ROOT not in sys.path:\n",
    "    sys.path.append(ROOT)\n",
    "    \n",
    "from helpers import *"
   ]
  },
  {
   "cell_type": "code",
   "execution_count": 19,
   "metadata": {},
   "outputs": [],
   "source": [
    "def test_greenspace_score_function():\n",
    "    \n",
    "    df1 = pd.read_csv(ROOT + '/Spikes/Dash/data/final_df_no_greenspace.csv', index_col = 0)\n",
    "    df2 = pd.read_csv(ROOT + '/Spikes/Dash/data/processed_land_type_025.csv', index_col = 0)\n",
    "    \n",
    "    df_merged = pd.merge(df1, df2, how=\"left\", left_on=['Latitude', 'Longitude'], right_on=['Latitude', 'Longitude'])\n",
    "\n",
    "    start = time.time()\n",
    "    df = apply_greenspace_score_function(df_merged)\n",
    "    end = time.time()\n",
    "    time_taken3 = round(end - start, 2)\n",
    "    print('apply_greenspace_score_function complete')\n",
    "    print('Time taken:', time_taken3)\n",
    "\n",
    "    total_time_taken = time_taken1 + time_taken2 + time_taken3\n",
    "    print('TOTAL time taken:', total_time_taken)\n",
    "    \n",
    "    df.to_csv(ROOT + '/Spikes/Dash/data/test_final_df_with_greenspace_score.csv')\n",
    "\n",
    "    return df"
   ]
  },
  {
   "cell_type": "code",
   "execution_count": 18,
   "metadata": {},
   "outputs": [
    {
     "name": "stdout",
     "output_type": "stream",
     "text": [
      "58248\n",
      "58248\n"
     ]
    },
    {
     "data": {
      "text/plain": [
       "58248"
      ]
     },
     "execution_count": 18,
     "metadata": {},
     "output_type": "execute_result"
    }
   ],
   "source": [
    "# #test all merged correctly by comparing size output merged dataframe and the dataframes merged together\n",
    "# final_df_no_greenspace = pd.read_csv(ROOT + '/Spikes/Dash/data/final_df_no_greenspace.csv', index_col = 0)\n",
    "# print(len(final_df_no_greenspace))\n",
    "# processed_land_type_025 = pd.read_csv(ROOT + '/Spikes/Dash/data/processed_land_type_025.csv', index_col = 0)\n",
    "# print(len(processed_land_type_025))\n",
    "# df_merged = test_greenspace_score_function()\n",
    "# len(df_merged)"
   ]
  },
  {
   "cell_type": "code",
   "execution_count": 20,
   "metadata": {},
   "outputs": [
    {
     "ename": "TypeError",
     "evalue": "'numpy.float64' object is not iterable",
     "output_type": "error",
     "traceback": [
      "\u001b[0;31m---------------------------------------------------------------------------\u001b[0m",
      "\u001b[0;31mTypeError\u001b[0m                                 Traceback (most recent call last)",
      "\u001b[1;32m/Users/joshua.grefte/Projects/ASDI/Local_Repo/ASDI-Hackathon/Notebooks/test_greenspace_score_function.ipynb Cell 4\u001b[0m in \u001b[0;36m<cell line: 1>\u001b[0;34m()\u001b[0m\n\u001b[0;32m----> <a href='vscode-notebook-cell:/Users/joshua.grefte/Projects/ASDI/Local_Repo/ASDI-Hackathon/Notebooks/test_greenspace_score_function.ipynb#ch0000007?line=0'>1</a>\u001b[0m test_greenspace_score_function()\n",
      "\u001b[1;32m/Users/joshua.grefte/Projects/ASDI/Local_Repo/ASDI-Hackathon/Notebooks/test_greenspace_score_function.ipynb Cell 4\u001b[0m in \u001b[0;36mtest_greenspace_score_function\u001b[0;34m()\u001b[0m\n\u001b[1;32m      <a href='vscode-notebook-cell:/Users/joshua.grefte/Projects/ASDI/Local_Repo/ASDI-Hackathon/Notebooks/test_greenspace_score_function.ipynb#ch0000007?line=5'>6</a>\u001b[0m df_merged \u001b[39m=\u001b[39m pd\u001b[39m.\u001b[39mmerge(df1, df2, how\u001b[39m=\u001b[39m\u001b[39m\"\u001b[39m\u001b[39mleft\u001b[39m\u001b[39m\"\u001b[39m, left_on\u001b[39m=\u001b[39m[\u001b[39m'\u001b[39m\u001b[39mLatitude\u001b[39m\u001b[39m'\u001b[39m, \u001b[39m'\u001b[39m\u001b[39mLongitude\u001b[39m\u001b[39m'\u001b[39m], right_on\u001b[39m=\u001b[39m[\u001b[39m'\u001b[39m\u001b[39mLatitude\u001b[39m\u001b[39m'\u001b[39m, \u001b[39m'\u001b[39m\u001b[39mLongitude\u001b[39m\u001b[39m'\u001b[39m])\n\u001b[1;32m      <a href='vscode-notebook-cell:/Users/joshua.grefte/Projects/ASDI/Local_Repo/ASDI-Hackathon/Notebooks/test_greenspace_score_function.ipynb#ch0000007?line=7'>8</a>\u001b[0m start \u001b[39m=\u001b[39m time\u001b[39m.\u001b[39mtime()\n\u001b[0;32m----> <a href='vscode-notebook-cell:/Users/joshua.grefte/Projects/ASDI/Local_Repo/ASDI-Hackathon/Notebooks/test_greenspace_score_function.ipynb#ch0000007?line=8'>9</a>\u001b[0m df \u001b[39m=\u001b[39m apply_greenspace_score_function(df_merged)\n\u001b[1;32m     <a href='vscode-notebook-cell:/Users/joshua.grefte/Projects/ASDI/Local_Repo/ASDI-Hackathon/Notebooks/test_greenspace_score_function.ipynb#ch0000007?line=9'>10</a>\u001b[0m end \u001b[39m=\u001b[39m time\u001b[39m.\u001b[39mtime()\n\u001b[1;32m     <a href='vscode-notebook-cell:/Users/joshua.grefte/Projects/ASDI/Local_Repo/ASDI-Hackathon/Notebooks/test_greenspace_score_function.ipynb#ch0000007?line=10'>11</a>\u001b[0m time_taken3 \u001b[39m=\u001b[39m \u001b[39mround\u001b[39m(end \u001b[39m-\u001b[39m start, \u001b[39m2\u001b[39m)\n",
      "File \u001b[0;32m~/Projects/ASDI/Local_Repo/ASDI-Hackathon/helpers.py:481\u001b[0m, in \u001b[0;36mapply_greenspace_score_function\u001b[0;34m(df)\u001b[0m\n\u001b[1;32m    480\u001b[0m \u001b[39mdef\u001b[39;00m \u001b[39mapply_greenspace_score_function\u001b[39m(df):\n\u001b[0;32m--> 481\u001b[0m     df[\u001b[39m'\u001b[39m\u001b[39mGreenspace_score\u001b[39m\u001b[39m'\u001b[39m] \u001b[39m=\u001b[39m df\u001b[39m.\u001b[39;49mapply(\u001b[39mlambda\u001b[39;49;00m row : greenspace_score_function(df, row[\u001b[39m'\u001b[39;49m\u001b[39mAQ_score\u001b[39;49m\u001b[39m'\u001b[39;49m], \n\u001b[1;32m    482\u001b[0m                                                                                 row[\u001b[39m'\u001b[39;49m\u001b[39mPop_density\u001b[39;49m\u001b[39m'\u001b[39;49m],\n\u001b[1;32m    483\u001b[0m                                                                                 row[\u001b[39m'\u001b[39;49m\u001b[39mAirport\u001b[39;49m\u001b[39m'\u001b[39;49m],\n\u001b[1;32m    484\u001b[0m                                                                                 row[\u001b[39m'\u001b[39;49m\u001b[39mWater\u001b[39;49m\u001b[39m'\u001b[39;49m],\n\u001b[1;32m    485\u001b[0m                                                                                 row[\u001b[39m'\u001b[39;49m\u001b[39mBuilding\u001b[39;49m\u001b[39m'\u001b[39;49m],\n\u001b[1;32m    486\u001b[0m                                                                                 row[\u001b[39m'\u001b[39;49m\u001b[39mGreen_Space\u001b[39;49m\u001b[39m'\u001b[39;49m],\n\u001b[1;32m    487\u001b[0m                                                                                 row[\u001b[39m'\u001b[39;49m\u001b[39mRailway_Station\u001b[39;49m\u001b[39m'\u001b[39;49m],\n\u001b[1;32m    488\u001b[0m                                                                                 row[\u001b[39m'\u001b[39;49m\u001b[39mUrban_Area\u001b[39;49m\u001b[39m'\u001b[39;49m]), axis\u001b[39m=\u001b[39;49m\u001b[39m1\u001b[39;49m)\n",
      "File \u001b[0;32m~/Library/Python/3.10/lib/python/site-packages/pandas/core/frame.py:8845\u001b[0m, in \u001b[0;36mDataFrame.apply\u001b[0;34m(self, func, axis, raw, result_type, args, **kwargs)\u001b[0m\n\u001b[1;32m   8834\u001b[0m \u001b[39mfrom\u001b[39;00m \u001b[39mpandas\u001b[39;00m\u001b[39m.\u001b[39;00m\u001b[39mcore\u001b[39;00m\u001b[39m.\u001b[39;00m\u001b[39mapply\u001b[39;00m \u001b[39mimport\u001b[39;00m frame_apply\n\u001b[1;32m   8836\u001b[0m op \u001b[39m=\u001b[39m frame_apply(\n\u001b[1;32m   8837\u001b[0m     \u001b[39mself\u001b[39m,\n\u001b[1;32m   8838\u001b[0m     func\u001b[39m=\u001b[39mfunc,\n\u001b[0;32m   (...)\u001b[0m\n\u001b[1;32m   8843\u001b[0m     kwargs\u001b[39m=\u001b[39mkwargs,\n\u001b[1;32m   8844\u001b[0m )\n\u001b[0;32m-> 8845\u001b[0m \u001b[39mreturn\u001b[39;00m op\u001b[39m.\u001b[39;49mapply()\u001b[39m.\u001b[39m__finalize__(\u001b[39mself\u001b[39m, method\u001b[39m=\u001b[39m\u001b[39m\"\u001b[39m\u001b[39mapply\u001b[39m\u001b[39m\"\u001b[39m)\n",
      "File \u001b[0;32m~/Library/Python/3.10/lib/python/site-packages/pandas/core/apply.py:733\u001b[0m, in \u001b[0;36mFrameApply.apply\u001b[0;34m(self)\u001b[0m\n\u001b[1;32m    730\u001b[0m \u001b[39melif\u001b[39;00m \u001b[39mself\u001b[39m\u001b[39m.\u001b[39mraw:\n\u001b[1;32m    731\u001b[0m     \u001b[39mreturn\u001b[39;00m \u001b[39mself\u001b[39m\u001b[39m.\u001b[39mapply_raw()\n\u001b[0;32m--> 733\u001b[0m \u001b[39mreturn\u001b[39;00m \u001b[39mself\u001b[39;49m\u001b[39m.\u001b[39;49mapply_standard()\n",
      "File \u001b[0;32m~/Library/Python/3.10/lib/python/site-packages/pandas/core/apply.py:857\u001b[0m, in \u001b[0;36mFrameApply.apply_standard\u001b[0;34m(self)\u001b[0m\n\u001b[1;32m    856\u001b[0m \u001b[39mdef\u001b[39;00m \u001b[39mapply_standard\u001b[39m(\u001b[39mself\u001b[39m):\n\u001b[0;32m--> 857\u001b[0m     results, res_index \u001b[39m=\u001b[39m \u001b[39mself\u001b[39;49m\u001b[39m.\u001b[39;49mapply_series_generator()\n\u001b[1;32m    859\u001b[0m     \u001b[39m# wrap results\u001b[39;00m\n\u001b[1;32m    860\u001b[0m     \u001b[39mreturn\u001b[39;00m \u001b[39mself\u001b[39m\u001b[39m.\u001b[39mwrap_results(results, res_index)\n",
      "File \u001b[0;32m~/Library/Python/3.10/lib/python/site-packages/pandas/core/apply.py:873\u001b[0m, in \u001b[0;36mFrameApply.apply_series_generator\u001b[0;34m(self)\u001b[0m\n\u001b[1;32m    870\u001b[0m \u001b[39mwith\u001b[39;00m option_context(\u001b[39m\"\u001b[39m\u001b[39mmode.chained_assignment\u001b[39m\u001b[39m\"\u001b[39m, \u001b[39mNone\u001b[39;00m):\n\u001b[1;32m    871\u001b[0m     \u001b[39mfor\u001b[39;00m i, v \u001b[39min\u001b[39;00m \u001b[39menumerate\u001b[39m(series_gen):\n\u001b[1;32m    872\u001b[0m         \u001b[39m# ignore SettingWithCopy here in case the user mutates\u001b[39;00m\n\u001b[0;32m--> 873\u001b[0m         results[i] \u001b[39m=\u001b[39m \u001b[39mself\u001b[39;49m\u001b[39m.\u001b[39;49mf(v)\n\u001b[1;32m    874\u001b[0m         \u001b[39mif\u001b[39;00m \u001b[39misinstance\u001b[39m(results[i], ABCSeries):\n\u001b[1;32m    875\u001b[0m             \u001b[39m# If we have a view on v, we need to make a copy because\u001b[39;00m\n\u001b[1;32m    876\u001b[0m             \u001b[39m#  series_generator will swap out the underlying data\u001b[39;00m\n\u001b[1;32m    877\u001b[0m             results[i] \u001b[39m=\u001b[39m results[i]\u001b[39m.\u001b[39mcopy(deep\u001b[39m=\u001b[39m\u001b[39mFalse\u001b[39;00m)\n",
      "File \u001b[0;32m~/Projects/ASDI/Local_Repo/ASDI-Hackathon/helpers.py:481\u001b[0m, in \u001b[0;36mapply_greenspace_score_function.<locals>.<lambda>\u001b[0;34m(row)\u001b[0m\n\u001b[1;32m    480\u001b[0m \u001b[39mdef\u001b[39;00m \u001b[39mapply_greenspace_score_function\u001b[39m(df):\n\u001b[0;32m--> 481\u001b[0m     df[\u001b[39m'\u001b[39m\u001b[39mGreenspace_score\u001b[39m\u001b[39m'\u001b[39m] \u001b[39m=\u001b[39m df\u001b[39m.\u001b[39mapply(\u001b[39mlambda\u001b[39;00m row : greenspace_score_function(df, row[\u001b[39m'\u001b[39;49m\u001b[39mAQ_score\u001b[39;49m\u001b[39m'\u001b[39;49m], \n\u001b[1;32m    482\u001b[0m                                                                                 row[\u001b[39m'\u001b[39;49m\u001b[39mPop_density\u001b[39;49m\u001b[39m'\u001b[39;49m],\n\u001b[1;32m    483\u001b[0m                                                                                 row[\u001b[39m'\u001b[39;49m\u001b[39mAirport\u001b[39;49m\u001b[39m'\u001b[39;49m],\n\u001b[1;32m    484\u001b[0m                                                                                 row[\u001b[39m'\u001b[39;49m\u001b[39mWater\u001b[39;49m\u001b[39m'\u001b[39;49m],\n\u001b[1;32m    485\u001b[0m                                                                                 row[\u001b[39m'\u001b[39;49m\u001b[39mBuilding\u001b[39;49m\u001b[39m'\u001b[39;49m],\n\u001b[1;32m    486\u001b[0m                                                                                 row[\u001b[39m'\u001b[39;49m\u001b[39mGreen_Space\u001b[39;49m\u001b[39m'\u001b[39;49m],\n\u001b[1;32m    487\u001b[0m                                                                                 row[\u001b[39m'\u001b[39;49m\u001b[39mRailway_Station\u001b[39;49m\u001b[39m'\u001b[39;49m],\n\u001b[1;32m    488\u001b[0m                                                                                 row[\u001b[39m'\u001b[39;49m\u001b[39mUrban_Area\u001b[39;49m\u001b[39m'\u001b[39;49m]), axis\u001b[39m=\u001b[39m\u001b[39m1\u001b[39m)\n",
      "File \u001b[0;32m~/Projects/ASDI/Local_Repo/ASDI-Hackathon/helpers.py:474\u001b[0m, in \u001b[0;36mgreenspace_score_function\u001b[0;34m(df, aqs, pop_density, airport, water, building, green_space, railway_station, urban_area)\u001b[0m\n\u001b[1;32m    471\u001b[0m avg_penalty_reward \u001b[39m=\u001b[39m penalty_reward_row_sum \u001b[39m/\u001b[39m \u001b[39m6\u001b[39m\n\u001b[1;32m    473\u001b[0m \u001b[39m#Air Quality Score\u001b[39;00m\n\u001b[0;32m--> 474\u001b[0m aqs_pct \u001b[39m=\u001b[39m \u001b[39m100\u001b[39m \u001b[39m-\u001b[39m \u001b[39msum\u001b[39;49m(popd_weight \u001b[39m*\u001b[39;49m popd_pct)\n\u001b[1;32m    475\u001b[0m aqs_weight \u001b[39m=\u001b[39m \u001b[39m1\u001b[39m\n\u001b[1;32m    477\u001b[0m Greenspace_score \u001b[39m=\u001b[39m (aqs \u001b[39m*\u001b[39m (aqs_weight \u001b[39m*\u001b[39m aqs_pct)) \u001b[39m+\u001b[39m (pop_density \u001b[39m*\u001b[39m (popd_weight \u001b[39m*\u001b[39m popd_pct)) \u001b[39m*\u001b[39m avg_penalty_reward\n",
      "\u001b[0;31mTypeError\u001b[0m: 'numpy.float64' object is not iterable"
     ]
    }
   ],
   "source": [
    "test_greenspace_score_function()"
   ]
  },
  {
   "cell_type": "code",
   "execution_count": null,
   "metadata": {},
   "outputs": [],
   "source": []
  }
 ],
 "metadata": {
  "kernelspec": {
   "display_name": "Python 3.10.5 64-bit",
   "language": "python",
   "name": "python3"
  },
  "language_info": {
   "codemirror_mode": {
    "name": "ipython",
    "version": 3
   },
   "file_extension": ".py",
   "mimetype": "text/x-python",
   "name": "python",
   "nbconvert_exporter": "python",
   "pygments_lexer": "ipython3",
   "version": "3.10.5"
  },
  "orig_nbformat": 4,
  "vscode": {
   "interpreter": {
    "hash": "aee8b7b246df8f9039afb4144a1f6fd8d2ca17a180786b69acc140d282b71a49"
   }
  }
 },
 "nbformat": 4,
 "nbformat_minor": 2
}
