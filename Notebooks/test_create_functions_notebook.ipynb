{
 "cells": [
  {
   "cell_type": "code",
   "execution_count": 1,
   "metadata": {},
   "outputs": [],
   "source": [
    "import sys\n",
    "import pathlib\n",
    "\n",
    "ROOT = pathlib.Path().absolute().parent.as_posix()\n",
    "if ROOT not in sys.path:\n",
    "    sys.path.append(ROOT)\n",
    "    \n",
    "from helpers import *"
   ]
  },
  {
   "cell_type": "code",
   "execution_count": 2,
   "metadata": {},
   "outputs": [
    {
     "data": {
      "text/plain": [
       "0.027687363838977415"
      ]
     },
     "execution_count": 2,
     "metadata": {},
     "output_type": "execute_result"
    }
   ],
   "source": [
    "#Carbon Monoxide\n",
    "#read from local file\n",
    "pred = co_function(lat = 55.9490, lon = 3.1908)\n",
    "#read from s3 bucket\n",
    "#pred = co_function(lat = 55.9490, lon = 3.1908, bucket = 'asdi-hackathon', key = 'pickles/co_model.pkl')\n",
    "pred"
   ]
  },
  {
   "cell_type": "code",
   "execution_count": null,
   "metadata": {},
   "outputs": [],
   "source": [
    "#Nitrogen Dioxide\n",
    "pred = no2_function(lat = 55.9490, lon = 3.1908, bucket = '', key = '')\n",
    "pred"
   ]
  },
  {
   "cell_type": "code",
   "execution_count": null,
   "metadata": {},
   "outputs": [],
   "source": [
    "#Ozone\n",
    "pred = o3_function(lat = 55.9490, lon = 3.1908, bucket = '', key = '')\n",
    "pred"
   ]
  },
  {
   "cell_type": "code",
   "execution_count": null,
   "metadata": {},
   "outputs": [],
   "source": [
    "#Sulphur Dioxide\n",
    "pred = so2_function(lat = 55.9490, lon = 3.1908, bucket = '', key = '')\n",
    "pred"
   ]
  },
  {
   "cell_type": "code",
   "execution_count": null,
   "metadata": {},
   "outputs": [],
   "source": [
    "#Aerosol Index\n",
    "pred = ai_function(lat = 55.9490, lon = 3.1908, bucket = '', key = '')\n",
    "pred"
   ]
  },
  {
   "cell_type": "code",
   "execution_count": 2,
   "metadata": {},
   "outputs": [
    {
     "name": "stderr",
     "output_type": "stream",
     "text": [
      "Pandas Apply: 100%|██████████| 1/1 [00:00<00:00, 760.53it/s]\n",
      "Pandas Apply: 100%|██████████| 1/1 [00:00<00:00, 2000.14it/s]\n"
     ]
    },
    {
     "name": "stdout",
     "output_type": "stream",
     "text": [
      "4.266364574432373\n"
     ]
    },
    {
     "name": "stderr",
     "output_type": "stream",
     "text": [
      "Pandas Apply: 100%|██████████| 1/1 [00:00<00:00, 1866.62it/s]\n",
      "Pandas Apply: 100%|██████████| 1/1 [00:00<00:00, 2507.06it/s]\n",
      "Pandas Apply: 100%|██████████| 1/1 [00:00<00:00, 1724.63it/s]\n",
      "Pandas Apply: 100%|██████████| 1/1 [00:00<00:00, 1600.27it/s]"
     ]
    },
    {
     "name": "stdout",
     "output_type": "stream",
     "text": [
      "[5.4062395095825195, 33.50624465942383]\n"
     ]
    },
    {
     "name": "stderr",
     "output_type": "stream",
     "text": [
      "\n"
     ]
    },
    {
     "data": {
      "text/html": [
       "<div>\n",
       "<style scoped>\n",
       "    .dataframe tbody tr th:only-of-type {\n",
       "        vertical-align: middle;\n",
       "    }\n",
       "\n",
       "    .dataframe tbody tr th {\n",
       "        vertical-align: top;\n",
       "    }\n",
       "\n",
       "    .dataframe thead th {\n",
       "        text-align: right;\n",
       "    }\n",
       "</style>\n",
       "<table border=\"1\" class=\"dataframe\">\n",
       "  <thead>\n",
       "    <tr style=\"text-align: right;\">\n",
       "      <th></th>\n",
       "      <th>Latitude</th>\n",
       "      <th>Longitude</th>\n",
       "      <th>Population</th>\n",
       "      <th>Predicted Population</th>\n",
       "      <th>Error</th>\n",
       "    </tr>\n",
       "  </thead>\n",
       "  <tbody>\n",
       "    <tr>\n",
       "      <th>0</th>\n",
       "      <td>51.560139</td>\n",
       "      <td>0.227083</td>\n",
       "      <td>5.406240</td>\n",
       "      <td>5.406240</td>\n",
       "      <td>4.904175e-07</td>\n",
       "    </tr>\n",
       "    <tr>\n",
       "      <th>1</th>\n",
       "      <td>51.554583</td>\n",
       "      <td>-0.208472</td>\n",
       "      <td>33.506246</td>\n",
       "      <td>33.506245</td>\n",
       "      <td>1.340576e-06</td>\n",
       "    </tr>\n",
       "  </tbody>\n",
       "</table>\n",
       "</div>"
      ],
      "text/plain": [
       "    Latitude  Longitude  Population  Predicted Population         Error\n",
       "0  51.560139   0.227083    5.406240              5.406240  4.904175e-07\n",
       "1  51.554583  -0.208472   33.506246             33.506245  1.340576e-06"
      ]
     },
     "execution_count": 2,
     "metadata": {},
     "output_type": "execute_result"
    }
   ],
   "source": [
    "#Population Density\n",
    "#new data point\n",
    "pred1 = popdensity_function(lat = 55.9490, lon = 3.1908, bucket = '', key = '')\n",
    "print(pred1)\n",
    "\n",
    "import pandas as pd\n",
    "test_df = pd.DataFrame({'Latitude': [51.560139, 51.554583], 'Longitude': [0.227083, -0.208472], 'Population': [5.406240, 33.506246]})\n",
    "\n",
    "pred2 = []\n",
    "for i in [0, 1]:\n",
    "    pred2.append(popdensity_function(test_df['Latitude'][i], test_df['Longitude'][i], bucket = 'asdi-hackathon', key = 'pickles/popdensity_model.pkl'))\n",
    "\n",
    "print(pred2)\n",
    "test_df.insert(3, 'Predicted Population', pred2)\n",
    "test_df['Error'] = abs(test_df['Population'] - test_df['Predicted Population'])\n",
    "test_df"
   ]
  },
  {
   "cell_type": "code",
   "execution_count": 2,
   "metadata": {},
   "outputs": [
    {
     "name": "stdout",
     "output_type": "stream",
     "text": [
      "CO AQI -> Good -> 38.77615305648787\n",
      "NO2 AQI -> Unhealthy -> 160.17363758668625\n",
      "O3 AQI ->  Values(s) out of bounds -> IHi: 50 ILo: 0 BPHi: Out of Bounds BPLo: Out of Bounds\n",
      "O3 AQI -> Unhealthy -> 160.17363758668625\n",
      "SO2 AQI -> Out of Bounds -> 1377.6832776364045\n",
      "\n",
      "\n",
      "Good [0, 50]\n",
      "Moderate [51, 100]\n",
      "Unhealthy for Sensitive Groups [101, 150]\n",
      "Unhealthy [151, 200]\n",
      "Very Unhealthy [201, 300]\n",
      "Hazardous [301, 500]\n"
     ]
    },
    {
     "data": {
      "text/plain": [
       "1377.6832776364045"
      ]
     },
     "execution_count": 2,
     "metadata": {},
     "output_type": "execute_result"
    }
   ],
   "source": [
    "#aqi = aqi_function_og(lat = 55.9490, lon = 3.1908)\n",
    "#aqi"
   ]
  },
  {
   "cell_type": "code",
   "execution_count": 4,
   "metadata": {},
   "outputs": [
    {
     "data": {
      "text/plain": [
       "0.3863159470603919"
      ]
     },
     "execution_count": 4,
     "metadata": {},
     "output_type": "execute_result"
    }
   ],
   "source": [
    "aqi = get_aqs_function(lat = 51.737184, lon = -0.620643, bucket = '', key = '')\n",
    "aqi"
   ]
  },
  {
   "cell_type": "code",
   "execution_count": null,
   "metadata": {},
   "outputs": [],
   "source": []
  }
 ],
 "metadata": {
  "kernelspec": {
   "display_name": "Python 3.10.5 64-bit",
   "language": "python",
   "name": "python3"
  },
  "language_info": {
   "codemirror_mode": {
    "name": "ipython",
    "version": 3
   },
   "file_extension": ".py",
   "mimetype": "text/x-python",
   "name": "python",
   "nbconvert_exporter": "python",
   "pygments_lexer": "ipython3",
   "version": "3.10.5"
  },
  "orig_nbformat": 4,
  "vscode": {
   "interpreter": {
    "hash": "aee8b7b246df8f9039afb4144a1f6fd8d2ca17a180786b69acc140d282b71a49"
   }
  }
 },
 "nbformat": 4,
 "nbformat_minor": 2
}
