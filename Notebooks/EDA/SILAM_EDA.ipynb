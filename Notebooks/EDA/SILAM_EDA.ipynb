{
 "cells": [
  {
   "cell_type": "markdown",
   "metadata": {},
   "source": [
    "### HIRLAM data, manual download of csv via running of Python script"
   ]
  },
  {
   "cell_type": "code",
   "execution_count": 1,
   "metadata": {},
   "outputs": [
    {
     "name": "stdout",
     "output_type": "stream",
     "text": [
      "exists, no download required\n"
     ]
    }
   ],
   "source": [
    "#https://en.ilmatieteenlaitos.fi/silam-opendata-on-aws-s3\n",
    "#python get_obs_csv.py --starttime 2010-01-01 --endtime 2010-01-05 --filename obs_2010-01-01_2010_01-05.csv\n",
    "\n",
    "import pandas as pd\n",
    "from pathlib import Path\n",
    "\n",
    "file_name = Path(\"obs_23_July_2022_to_24_July_2022.csv\")\n",
    "if file_name.exists():\n",
    "    print(\"exists, no download required\") \n",
    "else:\n",
    "    print(\"does not exist, download will proceed\") \n",
    "    !python get_obs_csv.py --starttime 2022-07-23 --endtime 2022-07-24 --filename obs_23_July_2022_to_24_July_2022.csv"
   ]
  },
  {
   "cell_type": "code",
   "execution_count": 2,
   "metadata": {},
   "outputs": [
    {
     "data": {
      "text/html": [
       "<div>\n",
       "<style scoped>\n",
       "    .dataframe tbody tr th:only-of-type {\n",
       "        vertical-align: middle;\n",
       "    }\n",
       "\n",
       "    .dataframe tbody tr th {\n",
       "        vertical-align: top;\n",
       "    }\n",
       "\n",
       "    .dataframe thead th {\n",
       "        text-align: right;\n",
       "    }\n",
       "</style>\n",
       "<table border=\"1\" class=\"dataframe\">\n",
       "  <thead>\n",
       "    <tr style=\"text-align: right;\">\n",
       "      <th></th>\n",
       "      <th># lat</th>\n",
       "      <th>lon</th>\n",
       "      <th>timestamp</th>\n",
       "      <th>Air temperature (t2m)</th>\n",
       "      <th>Wind speed (ws_10min)</th>\n",
       "      <th>Gust speed (wg_10min)</th>\n",
       "      <th>Wind direction (wd_10min)</th>\n",
       "      <th>Relative humidity (rh)</th>\n",
       "      <th>Dew-point temperature (td)</th>\n",
       "      <th>Precipitation amount (r_1h)</th>\n",
       "      <th>Precipitation intensity (ri_10min)</th>\n",
       "      <th>Snow depth (snow_aws)</th>\n",
       "      <th>Pressure (msl) (p_sea)</th>\n",
       "      <th>Horizontal visibility (vis)</th>\n",
       "      <th>Cloud amount (n_man)</th>\n",
       "      <th>Present weather (auto) (wawa)</th>\n",
       "    </tr>\n",
       "  </thead>\n",
       "  <tbody>\n",
       "    <tr>\n",
       "      <th>0</th>\n",
       "      <td>60.30373</td>\n",
       "      <td>25.54916</td>\n",
       "      <td>1.658534e+09</td>\n",
       "      <td>15.9</td>\n",
       "      <td>1.9</td>\n",
       "      <td>2.8</td>\n",
       "      <td>207.0</td>\n",
       "      <td>95.0</td>\n",
       "      <td>15.1</td>\n",
       "      <td>NaN</td>\n",
       "      <td>NaN</td>\n",
       "      <td>NaN</td>\n",
       "      <td>NaN</td>\n",
       "      <td>NaN</td>\n",
       "      <td>NaN</td>\n",
       "      <td>NaN</td>\n",
       "    </tr>\n",
       "    <tr>\n",
       "      <th>1</th>\n",
       "      <td>60.30373</td>\n",
       "      <td>25.54916</td>\n",
       "      <td>1.658535e+09</td>\n",
       "      <td>15.9</td>\n",
       "      <td>1.8</td>\n",
       "      <td>3.4</td>\n",
       "      <td>216.0</td>\n",
       "      <td>96.0</td>\n",
       "      <td>15.2</td>\n",
       "      <td>NaN</td>\n",
       "      <td>NaN</td>\n",
       "      <td>NaN</td>\n",
       "      <td>NaN</td>\n",
       "      <td>NaN</td>\n",
       "      <td>NaN</td>\n",
       "      <td>NaN</td>\n",
       "    </tr>\n",
       "    <tr>\n",
       "      <th>2</th>\n",
       "      <td>60.30373</td>\n",
       "      <td>25.54916</td>\n",
       "      <td>1.658536e+09</td>\n",
       "      <td>16.3</td>\n",
       "      <td>2.0</td>\n",
       "      <td>3.8</td>\n",
       "      <td>266.0</td>\n",
       "      <td>95.0</td>\n",
       "      <td>15.6</td>\n",
       "      <td>NaN</td>\n",
       "      <td>NaN</td>\n",
       "      <td>NaN</td>\n",
       "      <td>NaN</td>\n",
       "      <td>NaN</td>\n",
       "      <td>NaN</td>\n",
       "      <td>NaN</td>\n",
       "    </tr>\n",
       "    <tr>\n",
       "      <th>3</th>\n",
       "      <td>60.30373</td>\n",
       "      <td>25.54916</td>\n",
       "      <td>1.658536e+09</td>\n",
       "      <td>18.1</td>\n",
       "      <td>3.3</td>\n",
       "      <td>6.0</td>\n",
       "      <td>269.0</td>\n",
       "      <td>92.0</td>\n",
       "      <td>16.7</td>\n",
       "      <td>NaN</td>\n",
       "      <td>NaN</td>\n",
       "      <td>NaN</td>\n",
       "      <td>NaN</td>\n",
       "      <td>NaN</td>\n",
       "      <td>NaN</td>\n",
       "      <td>NaN</td>\n",
       "    </tr>\n",
       "    <tr>\n",
       "      <th>4</th>\n",
       "      <td>60.30373</td>\n",
       "      <td>25.54916</td>\n",
       "      <td>1.658537e+09</td>\n",
       "      <td>20.0</td>\n",
       "      <td>4.4</td>\n",
       "      <td>6.9</td>\n",
       "      <td>274.0</td>\n",
       "      <td>81.0</td>\n",
       "      <td>16.5</td>\n",
       "      <td>NaN</td>\n",
       "      <td>NaN</td>\n",
       "      <td>NaN</td>\n",
       "      <td>NaN</td>\n",
       "      <td>NaN</td>\n",
       "      <td>NaN</td>\n",
       "      <td>NaN</td>\n",
       "    </tr>\n",
       "  </tbody>\n",
       "</table>\n",
       "</div>"
      ],
      "text/plain": [
       "      # lat       lon     timestamp  Air temperature (t2m)  \\\n",
       "0  60.30373  25.54916  1.658534e+09                   15.9   \n",
       "1  60.30373  25.54916  1.658535e+09                   15.9   \n",
       "2  60.30373  25.54916  1.658536e+09                   16.3   \n",
       "3  60.30373  25.54916  1.658536e+09                   18.1   \n",
       "4  60.30373  25.54916  1.658537e+09                   20.0   \n",
       "\n",
       "   Wind speed (ws_10min)  Gust speed (wg_10min)  Wind direction (wd_10min)  \\\n",
       "0                    1.9                    2.8                      207.0   \n",
       "1                    1.8                    3.4                      216.0   \n",
       "2                    2.0                    3.8                      266.0   \n",
       "3                    3.3                    6.0                      269.0   \n",
       "4                    4.4                    6.9                      274.0   \n",
       "\n",
       "   Relative humidity (rh)  Dew-point temperature (td)  \\\n",
       "0                    95.0                        15.1   \n",
       "1                    96.0                        15.2   \n",
       "2                    95.0                        15.6   \n",
       "3                    92.0                        16.7   \n",
       "4                    81.0                        16.5   \n",
       "\n",
       "   Precipitation amount (r_1h)  Precipitation intensity (ri_10min)  \\\n",
       "0                          NaN                                 NaN   \n",
       "1                          NaN                                 NaN   \n",
       "2                          NaN                                 NaN   \n",
       "3                          NaN                                 NaN   \n",
       "4                          NaN                                 NaN   \n",
       "\n",
       "   Snow depth (snow_aws)  Pressure (msl) (p_sea)  Horizontal visibility (vis)  \\\n",
       "0                    NaN                     NaN                          NaN   \n",
       "1                    NaN                     NaN                          NaN   \n",
       "2                    NaN                     NaN                          NaN   \n",
       "3                    NaN                     NaN                          NaN   \n",
       "4                    NaN                     NaN                          NaN   \n",
       "\n",
       "   Cloud amount (n_man)  Present weather (auto) (wawa)  \n",
       "0                   NaN                            NaN  \n",
       "1                   NaN                            NaN  \n",
       "2                   NaN                            NaN  \n",
       "3                   NaN                            NaN  \n",
       "4                   NaN                            NaN  "
      ]
     },
     "execution_count": 2,
     "metadata": {},
     "output_type": "execute_result"
    }
   ],
   "source": [
    "df = pd.read_csv('obs_23_July_2022_to_24_July_2022.csv', sep = ';')\n",
    "\n",
    "df.head()"
   ]
  },
  {
   "cell_type": "markdown",
   "metadata": {},
   "source": [
    "### SILAM .ZARR FILES DATA EXTRACTION"
   ]
  },
  {
   "cell_type": "code",
   "execution_count": 2,
   "metadata": {},
   "outputs": [
    {
     "name": "stdout",
     "output_type": "stream",
     "text": [
      "\u001b[33mWARNING: Running pip as the 'root' user can result in broken permissions and conflicting behaviour with the system package manager. It is recommended to use a virtual environment instead: https://pip.pypa.io/warnings/venv\u001b[0m\u001b[33m\n",
      "\u001b[0m"
     ]
    }
   ],
   "source": [
    "!pip install xarray==0.20.2 --quiet  #latest package 2022.6.0 doesn't work"
   ]
  },
  {
   "cell_type": "code",
   "execution_count": 3,
   "metadata": {},
   "outputs": [
    {
     "name": "stdout",
     "output_type": "stream",
     "text": [
      "\u001b[33mWARNING: Running pip as the 'root' user can result in broken permissions and conflicting behaviour with the system package manager. It is recommended to use a virtual environment instead: https://pip.pypa.io/warnings/venv\u001b[0m\u001b[33m\n",
      "\u001b[0m"
     ]
    }
   ],
   "source": [
    "!pip install zarr --quiet"
   ]
  },
  {
   "cell_type": "code",
   "execution_count": 4,
   "metadata": {},
   "outputs": [],
   "source": [
    "import pandas as pd\n",
    "import boto3\n",
    "import numpy as np\n",
    "import xarray as xr\n",
    "import matplotlib.pyplot as plt\n",
    "import boto3\n",
    "from botocore.handlers import disable_signing\n",
    "import os\n",
    "import zarr"
   ]
  },
  {
   "cell_type": "markdown",
   "metadata": {},
   "source": [
    "First we download the data from S3. Note that zarr is essentially a directory so we need to download each files (keys) from it."
   ]
  },
  {
   "cell_type": "code",
   "execution_count": 5,
   "metadata": {},
   "outputs": [],
   "source": [
    "def download(bucket_name, key, dst_root='/tmp'):\n",
    "    \"\"\" Download zarr directory from S3\"\"\"\n",
    "    resource = boto3.resource('s3')\n",
    "    resource.meta.client.meta.events.register('choose-signer.s3.*', disable_signing)\n",
    "    \n",
    "    bucket = resource.Bucket(bucket_name) \n",
    "    for object in bucket.objects.filter(Prefix = key):\n",
    "        dst = dst_root+'/'+object.key\n",
    "        if not os.path.exists(os.path.dirname(dst)):\n",
    "            os.makedirs(os.path.dirname(dst))\n",
    "        resource.Bucket(bucket_name).download_file(object.key, dst)"
   ]
  },
  {
   "cell_type": "code",
   "execution_count": 6,
   "metadata": {},
   "outputs": [],
   "source": [
    "bucket_name = 'fmi-opendata-silam-surface-zarr'\n",
    "#key = 'global/20220726/silam_glob_v5_7_1_20220726_CO_d0.zarr'   #26th, CO\n",
    "#key = 'global/20220707/silam_glob_v5_7_1_20220707_CO_d0.zarr'   #7th, CO\n",
    "key = 'global/20220707/silam_glob_v5_7_1_20220707_NO_d0.zarr'   #7th, NO\n",
    "\n",
    "tmp_dir = '/tmp'\n",
    "tmp_file = tmp_dir + '/'+key\n",
    "\n",
    "if not os.path.exists(os.path.dirname(tmp_file)):\n",
    "    os.makedirs(os.path.dirname(tmp_file))\n",
    "\n",
    "download(bucket_name, key)"
   ]
  },
  {
   "cell_type": "markdown",
   "metadata": {},
   "source": [
    "Open the data as xarray and print info:"
   ]
  },
  {
   "cell_type": "code",
   "execution_count": 7,
   "metadata": {},
   "outputs": [
    {
     "name": "stdout",
     "output_type": "stream",
     "text": [
      "xarray.Dataset {\n",
      "dimensions:\n",
      "\ttime = 24 ;\n",
      "\tlat = 897 ;\n",
      "\tlon = 1800 ;\n",
      "\n",
      "variables:\n",
      "\tfloat32 NO(time, lat, lon) ;\n",
      "\t\tNO:_ChunkSizes = [1, 1, 200, 200] ;\n",
      "\t\tNO:cell_methods = hybrid: mean ;\n",
      "\t\tNO:long_name = Concentration in air NO_gas ;\n",
      "\t\tNO:mode_distribution_type = GAS_PHASE ;\n",
      "\t\tNO:mode_name =  ;\n",
      "\t\tNO:mode_solubility = 0 ;\n",
      "\t\tNO:molar_mass = 0.0300000            kg/mole ;\n",
      "\t\tNO:number_of_significant_digits = 2 ;\n",
      "\t\tNO:silam_amount_unit = mole ;\n",
      "\t\tNO:substance_name = NO ;\n",
      "\t\tNO:units = ug/m3 ;\n",
      "\tfloat32 lat(lat) ;\n",
      "\t\tlat:_ChunkSizes = 200 ;\n",
      "\t\tlat:_CoordinateAxisType = Lat ;\n",
      "\t\tlat:axis = Y ;\n",
      "\t\tlat:long_name = latitude ;\n",
      "\t\tlat:standard_name = latitude ;\n",
      "\t\tlat:units = degrees_north ;\n",
      "\tfloat32 lon(lon) ;\n",
      "\t\tlon:_ChunkSizes = 200 ;\n",
      "\t\tlon:_CoordinateAxisType = Lon ;\n",
      "\t\tlon:axis = X ;\n",
      "\t\tlon:long_name = longitude ;\n",
      "\t\tlon:standard_name = longitude ;\n",
      "\t\tlon:units = degrees_east ;\n",
      "\tdatetime64[ns] time(time) ;\n",
      "\t\ttime:_CoordinateAxisType = Time ;\n",
      "\t\ttime:long_name = Forecast time for ForecastModelRunCollection ;\n",
      "\t\ttime:standard_name = time ;\n",
      "\n",
      "// global attributes:\n",
      "\t:Conventions = CF-1.4 ;\n",
      "\t:NCO = \"4.5.5\" ;\n",
      "\t:SIMULATION_START_DATE = 2022-05-10T00:00:00Z ;\n",
      "\t:cdm_data_type = GRID ;\n",
      "\t:featureType = GRID ;\n",
      "\t:geospatial_lat_max = 89.5999984741211 ;\n",
      "\t:geospatial_lat_min = -89.5999984741211 ;\n",
      "\t:geospatial_lon_max = 180.00001525878906 ;\n",
      "\t:geospatial_lon_min = -179.8000030517578 ;\n",
      "\t:grid_projection = lonlat ;\n",
      "\t:location = Proto fmrc:silam_glob_v5_7_1 ;\n",
      "\t:nco_openmp_thread_number = 1 ;\n",
      "\t:pole_lat = -90.0 ;\n",
      "\t:pole_lon = 0.0 ;\n",
      "\t:source = silam_v5_7 SVN (r596360) ;\n",
      "\t:title = SILAM_OUTPUT_ug ;\n",
      "}None\n"
     ]
    },
    {
     "name": "stderr",
     "output_type": "stream",
     "text": [
      "/opt/conda/lib/python3.7/site-packages/ipykernel_launcher.py:1: RuntimeWarning: Failed to open Zarr store with consolidated metadata, falling back to try reading non-consolidated metadata. This is typically much slower for opening a dataset. To silence this warning, consider:\n",
      "1. Consolidating metadata in this existing store with zarr.consolidate_metadata().\n",
      "2. Explicitly setting consolidated=False, to avoid trying to read consolidate metadata, or\n",
      "3. Explicitly setting consolidated=True, to raise an error in this case instead of falling back to try reading non-consolidated metadata.\n",
      "  \"\"\"Entry point for launching an IPython kernel.\n"
     ]
    }
   ],
   "source": [
    "ds = xr.open_zarr(tmp_file)\n",
    "print(ds.info())"
   ]
  },
  {
   "cell_type": "code",
   "execution_count": 8,
   "metadata": {},
   "outputs": [
    {
     "data": {
      "text/plain": [
       "128"
      ]
     },
     "execution_count": 8,
     "metadata": {},
     "output_type": "execute_result"
    }
   ],
   "source": [
    "#return size of object in bytes\n",
    "import sys\n",
    "sys.getsizeof(ds)"
   ]
  },
  {
   "cell_type": "markdown",
   "metadata": {},
   "source": [
    "#### FILE DEPENDENT"
   ]
  },
  {
   "cell_type": "code",
   "execution_count": 9,
   "metadata": {},
   "outputs": [
    {
     "data": {
      "text/plain": [
       "<matplotlib.collections.QuadMesh at 0x7f2e96db8b10>"
      ]
     },
     "execution_count": 9,
     "metadata": {},
     "output_type": "execute_result"
    }
   ],
   "source": [
    "#ds['CO'].sel(time='2022-07-26T18:00:00.000000000').plot(figsize=(20,10))\n",
    "#ds['CO'].sel(time='2022-07-07T18:00:00.000000000').plot(figsize=(20,10))\n",
    "ds['NO'].sel(time='2022-07-07T18:00:00.000000000').plot(figsize=(20,10))"
   ]
  },
  {
   "cell_type": "code",
   "execution_count": 10,
   "metadata": {},
   "outputs": [
    {
     "data": {
      "text/plain": [
       "<matplotlib.collections.QuadMesh at 0x7f2e952bc6d0>"
      ]
     },
     "execution_count": 10,
     "metadata": {},
     "output_type": "execute_result"
    }
   ],
   "source": [
    "ds['NO'].mean(dim='time').plot(figsize=(20,10))"
   ]
  },
  {
   "cell_type": "code",
   "execution_count": 11,
   "metadata": {},
   "outputs": [
    {
     "data": {
      "text/plain": [
       "Text(0.5, 1.0, 'Histogram')"
      ]
     },
     "execution_count": 11,
     "metadata": {},
     "output_type": "execute_result"
    }
   ],
   "source": [
    "ds['NO'].plot(figsize=(20,10))\n",
    "plt.title('Histogram')"
   ]
  },
  {
   "cell_type": "code",
   "execution_count": 12,
   "metadata": {},
   "outputs": [
    {
     "data": {
      "text/plain": [
       "xarray.core.dataset.Dataset"
      ]
     },
     "execution_count": 12,
     "metadata": {},
     "output_type": "execute_result"
    }
   ],
   "source": [
    "type(ds)"
   ]
  },
  {
   "cell_type": "code",
   "execution_count": 13,
   "metadata": {},
   "outputs": [
    {
     "data": {
      "text/html": [
       "<div><svg style=\"position: absolute; width: 0; height: 0; overflow: hidden\">\n",
       "<defs>\n",
       "<symbol id=\"icon-database\" viewBox=\"0 0 32 32\">\n",
       "<path d=\"M16 0c-8.837 0-16 2.239-16 5v4c0 2.761 7.163 5 16 5s16-2.239 16-5v-4c0-2.761-7.163-5-16-5z\"></path>\n",
       "<path d=\"M16 17c-8.837 0-16-2.239-16-5v6c0 2.761 7.163 5 16 5s16-2.239 16-5v-6c0 2.761-7.163 5-16 5z\"></path>\n",
       "<path d=\"M16 26c-8.837 0-16-2.239-16-5v6c0 2.761 7.163 5 16 5s16-2.239 16-5v-6c0 2.761-7.163 5-16 5z\"></path>\n",
       "</symbol>\n",
       "<symbol id=\"icon-file-text2\" viewBox=\"0 0 32 32\">\n",
       "<path d=\"M28.681 7.159c-0.694-0.947-1.662-2.053-2.724-3.116s-2.169-2.030-3.116-2.724c-1.612-1.182-2.393-1.319-2.841-1.319h-15.5c-1.378 0-2.5 1.121-2.5 2.5v27c0 1.378 1.122 2.5 2.5 2.5h23c1.378 0 2.5-1.122 2.5-2.5v-19.5c0-0.448-0.137-1.23-1.319-2.841zM24.543 5.457c0.959 0.959 1.712 1.825 2.268 2.543h-4.811v-4.811c0.718 0.556 1.584 1.309 2.543 2.268zM28 29.5c0 0.271-0.229 0.5-0.5 0.5h-23c-0.271 0-0.5-0.229-0.5-0.5v-27c0-0.271 0.229-0.5 0.5-0.5 0 0 15.499-0 15.5 0v7c0 0.552 0.448 1 1 1h7v19.5z\"></path>\n",
       "<path d=\"M23 26h-14c-0.552 0-1-0.448-1-1s0.448-1 1-1h14c0.552 0 1 0.448 1 1s-0.448 1-1 1z\"></path>\n",
       "<path d=\"M23 22h-14c-0.552 0-1-0.448-1-1s0.448-1 1-1h14c0.552 0 1 0.448 1 1s-0.448 1-1 1z\"></path>\n",
       "<path d=\"M23 18h-14c-0.552 0-1-0.448-1-1s0.448-1 1-1h14c0.552 0 1 0.448 1 1s-0.448 1-1 1z\"></path>\n",
       "</symbol>\n",
       "</defs>\n",
       "</svg>\n",
       "<style>/* CSS stylesheet for displaying xarray objects in jupyterlab.\n",
       " *\n",
       " */\n",
       "\n",
       ":root {\n",
       "  --xr-font-color0: var(--jp-content-font-color0, rgba(0, 0, 0, 1));\n",
       "  --xr-font-color2: var(--jp-content-font-color2, rgba(0, 0, 0, 0.54));\n",
       "  --xr-font-color3: var(--jp-content-font-color3, rgba(0, 0, 0, 0.38));\n",
       "  --xr-border-color: var(--jp-border-color2, #e0e0e0);\n",
       "  --xr-disabled-color: var(--jp-layout-color3, #bdbdbd);\n",
       "  --xr-background-color: var(--jp-layout-color0, white);\n",
       "  --xr-background-color-row-even: var(--jp-layout-color1, white);\n",
       "  --xr-background-color-row-odd: var(--jp-layout-color2, #eeeeee);\n",
       "}\n",
       "\n",
       "html[theme=dark],\n",
       "body.vscode-dark {\n",
       "  --xr-font-color0: rgba(255, 255, 255, 1);\n",
       "  --xr-font-color2: rgba(255, 255, 255, 0.54);\n",
       "  --xr-font-color3: rgba(255, 255, 255, 0.38);\n",
       "  --xr-border-color: #1F1F1F;\n",
       "  --xr-disabled-color: #515151;\n",
       "  --xr-background-color: #111111;\n",
       "  --xr-background-color-row-even: #111111;\n",
       "  --xr-background-color-row-odd: #313131;\n",
       "}\n",
       "\n",
       ".xr-wrap {\n",
       "  display: block !important;\n",
       "  min-width: 300px;\n",
       "  max-width: 700px;\n",
       "}\n",
       "\n",
       ".xr-text-repr-fallback {\n",
       "  /* fallback to plain text repr when CSS is not injected (untrusted notebook) */\n",
       "  display: none;\n",
       "}\n",
       "\n",
       ".xr-header {\n",
       "  padding-top: 6px;\n",
       "  padding-bottom: 6px;\n",
       "  margin-bottom: 4px;\n",
       "  border-bottom: solid 1px var(--xr-border-color);\n",
       "}\n",
       "\n",
       ".xr-header > div,\n",
       ".xr-header > ul {\n",
       "  display: inline;\n",
       "  margin-top: 0;\n",
       "  margin-bottom: 0;\n",
       "}\n",
       "\n",
       ".xr-obj-type,\n",
       ".xr-array-name {\n",
       "  margin-left: 2px;\n",
       "  margin-right: 10px;\n",
       "}\n",
       "\n",
       ".xr-obj-type {\n",
       "  color: var(--xr-font-color2);\n",
       "}\n",
       "\n",
       ".xr-sections {\n",
       "  padding-left: 0 !important;\n",
       "  display: grid;\n",
       "  grid-template-columns: 150px auto auto 1fr 20px 20px;\n",
       "}\n",
       "\n",
       ".xr-section-item {\n",
       "  display: contents;\n",
       "}\n",
       "\n",
       ".xr-section-item input {\n",
       "  display: none;\n",
       "}\n",
       "\n",
       ".xr-section-item input + label {\n",
       "  color: var(--xr-disabled-color);\n",
       "}\n",
       "\n",
       ".xr-section-item input:enabled + label {\n",
       "  cursor: pointer;\n",
       "  color: var(--xr-font-color2);\n",
       "}\n",
       "\n",
       ".xr-section-item input:enabled + label:hover {\n",
       "  color: var(--xr-font-color0);\n",
       "}\n",
       "\n",
       ".xr-section-summary {\n",
       "  grid-column: 1;\n",
       "  color: var(--xr-font-color2);\n",
       "  font-weight: 500;\n",
       "}\n",
       "\n",
       ".xr-section-summary > span {\n",
       "  display: inline-block;\n",
       "  padding-left: 0.5em;\n",
       "}\n",
       "\n",
       ".xr-section-summary-in:disabled + label {\n",
       "  color: var(--xr-font-color2);\n",
       "}\n",
       "\n",
       ".xr-section-summary-in + label:before {\n",
       "  display: inline-block;\n",
       "  content: '►';\n",
       "  font-size: 11px;\n",
       "  width: 15px;\n",
       "  text-align: center;\n",
       "}\n",
       "\n",
       ".xr-section-summary-in:disabled + label:before {\n",
       "  color: var(--xr-disabled-color);\n",
       "}\n",
       "\n",
       ".xr-section-summary-in:checked + label:before {\n",
       "  content: '▼';\n",
       "}\n",
       "\n",
       ".xr-section-summary-in:checked + label > span {\n",
       "  display: none;\n",
       "}\n",
       "\n",
       ".xr-section-summary,\n",
       ".xr-section-inline-details {\n",
       "  padding-top: 4px;\n",
       "  padding-bottom: 4px;\n",
       "}\n",
       "\n",
       ".xr-section-inline-details {\n",
       "  grid-column: 2 / -1;\n",
       "}\n",
       "\n",
       ".xr-section-details {\n",
       "  display: none;\n",
       "  grid-column: 1 / -1;\n",
       "  margin-bottom: 5px;\n",
       "}\n",
       "\n",
       ".xr-section-summary-in:checked ~ .xr-section-details {\n",
       "  display: contents;\n",
       "}\n",
       "\n",
       ".xr-array-wrap {\n",
       "  grid-column: 1 / -1;\n",
       "  display: grid;\n",
       "  grid-template-columns: 20px auto;\n",
       "}\n",
       "\n",
       ".xr-array-wrap > label {\n",
       "  grid-column: 1;\n",
       "  vertical-align: top;\n",
       "}\n",
       "\n",
       ".xr-preview {\n",
       "  color: var(--xr-font-color3);\n",
       "}\n",
       "\n",
       ".xr-array-preview,\n",
       ".xr-array-data {\n",
       "  padding: 0 5px !important;\n",
       "  grid-column: 2;\n",
       "}\n",
       "\n",
       ".xr-array-data,\n",
       ".xr-array-in:checked ~ .xr-array-preview {\n",
       "  display: none;\n",
       "}\n",
       "\n",
       ".xr-array-in:checked ~ .xr-array-data,\n",
       ".xr-array-preview {\n",
       "  display: inline-block;\n",
       "}\n",
       "\n",
       ".xr-dim-list {\n",
       "  display: inline-block !important;\n",
       "  list-style: none;\n",
       "  padding: 0 !important;\n",
       "  margin: 0;\n",
       "}\n",
       "\n",
       ".xr-dim-list li {\n",
       "  display: inline-block;\n",
       "  padding: 0;\n",
       "  margin: 0;\n",
       "}\n",
       "\n",
       ".xr-dim-list:before {\n",
       "  content: '(';\n",
       "}\n",
       "\n",
       ".xr-dim-list:after {\n",
       "  content: ')';\n",
       "}\n",
       "\n",
       ".xr-dim-list li:not(:last-child):after {\n",
       "  content: ',';\n",
       "  padding-right: 5px;\n",
       "}\n",
       "\n",
       ".xr-has-index {\n",
       "  font-weight: bold;\n",
       "}\n",
       "\n",
       ".xr-var-list,\n",
       ".xr-var-item {\n",
       "  display: contents;\n",
       "}\n",
       "\n",
       ".xr-var-item > div,\n",
       ".xr-var-item label,\n",
       ".xr-var-item > .xr-var-name span {\n",
       "  background-color: var(--xr-background-color-row-even);\n",
       "  margin-bottom: 0;\n",
       "}\n",
       "\n",
       ".xr-var-item > .xr-var-name:hover span {\n",
       "  padding-right: 5px;\n",
       "}\n",
       "\n",
       ".xr-var-list > li:nth-child(odd) > div,\n",
       ".xr-var-list > li:nth-child(odd) > label,\n",
       ".xr-var-list > li:nth-child(odd) > .xr-var-name span {\n",
       "  background-color: var(--xr-background-color-row-odd);\n",
       "}\n",
       "\n",
       ".xr-var-name {\n",
       "  grid-column: 1;\n",
       "}\n",
       "\n",
       ".xr-var-dims {\n",
       "  grid-column: 2;\n",
       "}\n",
       "\n",
       ".xr-var-dtype {\n",
       "  grid-column: 3;\n",
       "  text-align: right;\n",
       "  color: var(--xr-font-color2);\n",
       "}\n",
       "\n",
       ".xr-var-preview {\n",
       "  grid-column: 4;\n",
       "}\n",
       "\n",
       ".xr-var-name,\n",
       ".xr-var-dims,\n",
       ".xr-var-dtype,\n",
       ".xr-preview,\n",
       ".xr-attrs dt {\n",
       "  white-space: nowrap;\n",
       "  overflow: hidden;\n",
       "  text-overflow: ellipsis;\n",
       "  padding-right: 10px;\n",
       "}\n",
       "\n",
       ".xr-var-name:hover,\n",
       ".xr-var-dims:hover,\n",
       ".xr-var-dtype:hover,\n",
       ".xr-attrs dt:hover {\n",
       "  overflow: visible;\n",
       "  width: auto;\n",
       "  z-index: 1;\n",
       "}\n",
       "\n",
       ".xr-var-attrs,\n",
       ".xr-var-data {\n",
       "  display: none;\n",
       "  background-color: var(--xr-background-color) !important;\n",
       "  padding-bottom: 5px !important;\n",
       "}\n",
       "\n",
       ".xr-var-attrs-in:checked ~ .xr-var-attrs,\n",
       ".xr-var-data-in:checked ~ .xr-var-data {\n",
       "  display: block;\n",
       "}\n",
       "\n",
       ".xr-var-data > table {\n",
       "  float: right;\n",
       "}\n",
       "\n",
       ".xr-var-name span,\n",
       ".xr-var-data,\n",
       ".xr-attrs {\n",
       "  padding-left: 25px !important;\n",
       "}\n",
       "\n",
       ".xr-attrs,\n",
       ".xr-var-attrs,\n",
       ".xr-var-data {\n",
       "  grid-column: 1 / -1;\n",
       "}\n",
       "\n",
       "dl.xr-attrs {\n",
       "  padding: 0;\n",
       "  margin: 0;\n",
       "  display: grid;\n",
       "  grid-template-columns: 125px auto;\n",
       "}\n",
       "\n",
       ".xr-attrs dt,\n",
       ".xr-attrs dd {\n",
       "  padding: 0;\n",
       "  margin: 0;\n",
       "  float: left;\n",
       "  padding-right: 10px;\n",
       "  width: auto;\n",
       "}\n",
       "\n",
       ".xr-attrs dt {\n",
       "  font-weight: normal;\n",
       "  grid-column: 1;\n",
       "}\n",
       "\n",
       ".xr-attrs dt:hover span {\n",
       "  display: inline-block;\n",
       "  background: var(--xr-background-color);\n",
       "  padding-right: 10px;\n",
       "}\n",
       "\n",
       ".xr-attrs dd {\n",
       "  grid-column: 2;\n",
       "  white-space: pre-wrap;\n",
       "  word-break: break-all;\n",
       "}\n",
       "\n",
       ".xr-icon-database,\n",
       ".xr-icon-file-text2 {\n",
       "  display: inline-block;\n",
       "  vertical-align: middle;\n",
       "  width: 1em;\n",
       "  height: 1.5em !important;\n",
       "  stroke-width: 0;\n",
       "  stroke: currentColor;\n",
       "  fill: currentColor;\n",
       "}\n",
       "</style><pre class='xr-text-repr-fallback'>&lt;xarray.Dataset&gt;\n",
       "Dimensions:  (time: 24, lat: 897, lon: 1800)\n",
       "Coordinates:\n",
       "  * lat      (lat) float32 -89.6 -89.4 -89.2 -89.0 -88.8 ... 89.0 89.2 89.4 89.6\n",
       "  * lon      (lon) float32 -179.8 -179.6 -179.4 -179.2 ... 179.6 179.8 180.0\n",
       "  * time     (time) datetime64[ns] 2022-07-07T01:00:00 ... 2022-07-08\n",
       "Data variables:\n",
       "    NO       (time, lat, lon) float32 dask.array&lt;chunksize=(24, 897, 1800), meta=np.ndarray&gt;\n",
       "Attributes: (12/16)\n",
       "    Conventions:               CF-1.4\n",
       "    NCO:                       &quot;4.5.5&quot;\n",
       "    SIMULATION_START_DATE:     2022-05-10T00:00:00Z\n",
       "    cdm_data_type:             GRID\n",
       "    featureType:               GRID\n",
       "    geospatial_lat_max:        89.5999984741211\n",
       "    ...                        ...\n",
       "    location:                  Proto fmrc:silam_glob_v5_7_1\n",
       "    nco_openmp_thread_number:  1\n",
       "    pole_lat:                  -90.0\n",
       "    pole_lon:                  0.0\n",
       "    source:                    silam_v5_7 SVN (r596360)\n",
       "    title:                     SILAM_OUTPUT_ug</pre><div class='xr-wrap' style='display:none'><div class='xr-header'><div class='xr-obj-type'>xarray.Dataset</div></div><ul class='xr-sections'><li class='xr-section-item'><input id='section-8b858e42-4e4f-4e57-bccc-354502518700' class='xr-section-summary-in' type='checkbox' disabled ><label for='section-8b858e42-4e4f-4e57-bccc-354502518700' class='xr-section-summary'  title='Expand/collapse section'>Dimensions:</label><div class='xr-section-inline-details'><ul class='xr-dim-list'><li><span class='xr-has-index'>time</span>: 24</li><li><span class='xr-has-index'>lat</span>: 897</li><li><span class='xr-has-index'>lon</span>: 1800</li></ul></div><div class='xr-section-details'></div></li><li class='xr-section-item'><input id='section-43901411-81a3-4e18-909f-5d417b230874' class='xr-section-summary-in' type='checkbox'  checked><label for='section-43901411-81a3-4e18-909f-5d417b230874' class='xr-section-summary' >Coordinates: <span>(3)</span></label><div class='xr-section-inline-details'></div><div class='xr-section-details'><ul class='xr-var-list'><li class='xr-var-item'><div class='xr-var-name'><span class='xr-has-index'>lat</span></div><div class='xr-var-dims'>(lat)</div><div class='xr-var-dtype'>float32</div><div class='xr-var-preview xr-preview'>-89.6 -89.4 -89.2 ... 89.4 89.6</div><input id='attrs-02b51090-6945-4163-9b41-c9ef3ba4b419' class='xr-var-attrs-in' type='checkbox' ><label for='attrs-02b51090-6945-4163-9b41-c9ef3ba4b419' title='Show/Hide attributes'><svg class='icon xr-icon-file-text2'><use xlink:href='#icon-file-text2'></use></svg></label><input id='data-381f2708-8d85-4a56-9586-6e85aaf57a6e' class='xr-var-data-in' type='checkbox'><label for='data-381f2708-8d85-4a56-9586-6e85aaf57a6e' title='Show/Hide data repr'><svg class='icon xr-icon-database'><use xlink:href='#icon-database'></use></svg></label><div class='xr-var-attrs'><dl class='xr-attrs'><dt><span>_ChunkSizes :</span></dt><dd>200</dd><dt><span>_CoordinateAxisType :</span></dt><dd>Lat</dd><dt><span>axis :</span></dt><dd>Y</dd><dt><span>long_name :</span></dt><dd>latitude</dd><dt><span>standard_name :</span></dt><dd>latitude</dd><dt><span>units :</span></dt><dd>degrees_north</dd></dl></div><div class='xr-var-data'><pre>array([-89.6     , -89.4     , -89.2     , ...,  89.200005,  89.4     ,\n",
       "        89.6     ], dtype=float32)</pre></div></li><li class='xr-var-item'><div class='xr-var-name'><span class='xr-has-index'>lon</span></div><div class='xr-var-dims'>(lon)</div><div class='xr-var-dtype'>float32</div><div class='xr-var-preview xr-preview'>-179.8 -179.6 ... 179.8 180.0</div><input id='attrs-e9d6b3c5-b941-4892-be95-fb5ebb961dde' class='xr-var-attrs-in' type='checkbox' ><label for='attrs-e9d6b3c5-b941-4892-be95-fb5ebb961dde' title='Show/Hide attributes'><svg class='icon xr-icon-file-text2'><use xlink:href='#icon-file-text2'></use></svg></label><input id='data-728668a7-efdc-42e0-ad73-4df0f091aac8' class='xr-var-data-in' type='checkbox'><label for='data-728668a7-efdc-42e0-ad73-4df0f091aac8' title='Show/Hide data repr'><svg class='icon xr-icon-database'><use xlink:href='#icon-database'></use></svg></label><div class='xr-var-attrs'><dl class='xr-attrs'><dt><span>_ChunkSizes :</span></dt><dd>200</dd><dt><span>_CoordinateAxisType :</span></dt><dd>Lon</dd><dt><span>axis :</span></dt><dd>X</dd><dt><span>long_name :</span></dt><dd>longitude</dd><dt><span>standard_name :</span></dt><dd>longitude</dd><dt><span>units :</span></dt><dd>degrees_east</dd></dl></div><div class='xr-var-data'><pre>array([-179.8    , -179.6    , -179.40001, ...,  179.59999,  179.8    ,\n",
       "        180.00002], dtype=float32)</pre></div></li><li class='xr-var-item'><div class='xr-var-name'><span class='xr-has-index'>time</span></div><div class='xr-var-dims'>(time)</div><div class='xr-var-dtype'>datetime64[ns]</div><div class='xr-var-preview xr-preview'>2022-07-07T01:00:00 ... 2022-07-08</div><input id='attrs-c6a70610-f134-48b7-a071-f83c3b682ff7' class='xr-var-attrs-in' type='checkbox' ><label for='attrs-c6a70610-f134-48b7-a071-f83c3b682ff7' title='Show/Hide attributes'><svg class='icon xr-icon-file-text2'><use xlink:href='#icon-file-text2'></use></svg></label><input id='data-5e1528a2-681e-425a-a06e-f299cb815779' class='xr-var-data-in' type='checkbox'><label for='data-5e1528a2-681e-425a-a06e-f299cb815779' title='Show/Hide data repr'><svg class='icon xr-icon-database'><use xlink:href='#icon-database'></use></svg></label><div class='xr-var-attrs'><dl class='xr-attrs'><dt><span>_CoordinateAxisType :</span></dt><dd>Time</dd><dt><span>long_name :</span></dt><dd>Forecast time for ForecastModelRunCollection</dd><dt><span>standard_name :</span></dt><dd>time</dd></dl></div><div class='xr-var-data'><pre>array([&#x27;2022-07-07T01:00:00.000000000&#x27;, &#x27;2022-07-07T02:00:00.000000000&#x27;,\n",
       "       &#x27;2022-07-07T03:00:00.000000000&#x27;, &#x27;2022-07-07T04:00:00.000000000&#x27;,\n",
       "       &#x27;2022-07-07T05:00:00.000000000&#x27;, &#x27;2022-07-07T06:00:00.000000000&#x27;,\n",
       "       &#x27;2022-07-07T07:00:00.000000000&#x27;, &#x27;2022-07-07T08:00:00.000000000&#x27;,\n",
       "       &#x27;2022-07-07T09:00:00.000000000&#x27;, &#x27;2022-07-07T10:00:00.000000000&#x27;,\n",
       "       &#x27;2022-07-07T11:00:00.000000000&#x27;, &#x27;2022-07-07T12:00:00.000000000&#x27;,\n",
       "       &#x27;2022-07-07T13:00:00.000000000&#x27;, &#x27;2022-07-07T14:00:00.000000000&#x27;,\n",
       "       &#x27;2022-07-07T15:00:00.000000000&#x27;, &#x27;2022-07-07T16:00:00.000000000&#x27;,\n",
       "       &#x27;2022-07-07T17:00:00.000000000&#x27;, &#x27;2022-07-07T18:00:00.000000000&#x27;,\n",
       "       &#x27;2022-07-07T19:00:00.000000000&#x27;, &#x27;2022-07-07T20:00:00.000000000&#x27;,\n",
       "       &#x27;2022-07-07T21:00:00.000000000&#x27;, &#x27;2022-07-07T22:00:00.000000000&#x27;,\n",
       "       &#x27;2022-07-07T23:00:00.000000000&#x27;, &#x27;2022-07-08T00:00:00.000000000&#x27;],\n",
       "      dtype=&#x27;datetime64[ns]&#x27;)</pre></div></li></ul></div></li><li class='xr-section-item'><input id='section-eebce9c0-35b4-4825-82f3-0b941798c65f' class='xr-section-summary-in' type='checkbox'  checked><label for='section-eebce9c0-35b4-4825-82f3-0b941798c65f' class='xr-section-summary' >Data variables: <span>(1)</span></label><div class='xr-section-inline-details'></div><div class='xr-section-details'><ul class='xr-var-list'><li class='xr-var-item'><div class='xr-var-name'><span>NO</span></div><div class='xr-var-dims'>(time, lat, lon)</div><div class='xr-var-dtype'>float32</div><div class='xr-var-preview xr-preview'>dask.array&lt;chunksize=(24, 897, 1800), meta=np.ndarray&gt;</div><input id='attrs-f2a34ea5-be8a-4bbc-8b0c-4f541a52b47d' class='xr-var-attrs-in' type='checkbox' ><label for='attrs-f2a34ea5-be8a-4bbc-8b0c-4f541a52b47d' title='Show/Hide attributes'><svg class='icon xr-icon-file-text2'><use xlink:href='#icon-file-text2'></use></svg></label><input id='data-8f7fd6d6-508b-43c2-a182-86b9896d21d8' class='xr-var-data-in' type='checkbox'><label for='data-8f7fd6d6-508b-43c2-a182-86b9896d21d8' title='Show/Hide data repr'><svg class='icon xr-icon-database'><use xlink:href='#icon-database'></use></svg></label><div class='xr-var-attrs'><dl class='xr-attrs'><dt><span>_ChunkSizes :</span></dt><dd>[1, 1, 200, 200]</dd><dt><span>cell_methods :</span></dt><dd>hybrid: mean</dd><dt><span>long_name :</span></dt><dd>Concentration in air NO_gas</dd><dt><span>mode_distribution_type :</span></dt><dd>GAS_PHASE</dd><dt><span>mode_name :</span></dt><dd></dd><dt><span>mode_solubility :</span></dt><dd>0</dd><dt><span>molar_mass :</span></dt><dd>0.0300000            kg/mole</dd><dt><span>number_of_significant_digits :</span></dt><dd>2</dd><dt><span>silam_amount_unit :</span></dt><dd>mole</dd><dt><span>substance_name :</span></dt><dd>NO</dd><dt><span>units :</span></dt><dd>ug/m3</dd></dl></div><div class='xr-var-data'><table>\n",
       "    <tr>\n",
       "        <td>\n",
       "            <table>\n",
       "                <thead>\n",
       "                    <tr>\n",
       "                        <td> </td>\n",
       "                        <th> Array </th>\n",
       "                        <th> Chunk </th>\n",
       "                    </tr>\n",
       "                </thead>\n",
       "                <tbody>\n",
       "                    \n",
       "                    <tr>\n",
       "                        <th> Bytes </th>\n",
       "                        <td> 147.82 MiB </td>\n",
       "                        <td> 147.82 MiB </td>\n",
       "                    </tr>\n",
       "                    \n",
       "                    <tr>\n",
       "                        <th> Shape </th>\n",
       "                        <td> (24, 897, 1800) </td>\n",
       "                        <td> (24, 897, 1800) </td>\n",
       "                    </tr>\n",
       "                    <tr>\n",
       "                        <th> Count </th>\n",
       "                        <td> 2 Tasks </td>\n",
       "                        <td> 1 Chunks </td>\n",
       "                    </tr>\n",
       "                    <tr>\n",
       "                    <th> Type </th>\n",
       "                    <td> float32 </td>\n",
       "                    <td> numpy.ndarray </td>\n",
       "                    </tr>\n",
       "                </tbody>\n",
       "            </table>\n",
       "        </td>\n",
       "        <td>\n",
       "        <svg width=\"195\" height=\"125\" style=\"stroke:rgb(0,0,0);stroke-width:1\" >\n",
       "\n",
       "  <!-- Horizontal lines -->\n",
       "  <line x1=\"10\" y1=\"0\" x2=\"25\" y2=\"15\" style=\"stroke-width:2\" />\n",
       "  <line x1=\"10\" y1=\"59\" x2=\"25\" y2=\"75\" style=\"stroke-width:2\" />\n",
       "\n",
       "  <!-- Vertical lines -->\n",
       "  <line x1=\"10\" y1=\"0\" x2=\"10\" y2=\"59\" style=\"stroke-width:2\" />\n",
       "  <line x1=\"25\" y1=\"15\" x2=\"25\" y2=\"75\" style=\"stroke-width:2\" />\n",
       "\n",
       "  <!-- Colored Rectangle -->\n",
       "  <polygon points=\"10.0,0.0 25.78980198634574,15.78980198634574 25.78980198634574,75.58980198634573 10.0,59.8\" style=\"fill:#ECB172A0;stroke-width:0\"/>\n",
       "\n",
       "  <!-- Horizontal lines -->\n",
       "  <line x1=\"10\" y1=\"0\" x2=\"130\" y2=\"0\" style=\"stroke-width:2\" />\n",
       "  <line x1=\"25\" y1=\"15\" x2=\"145\" y2=\"15\" style=\"stroke-width:2\" />\n",
       "\n",
       "  <!-- Vertical lines -->\n",
       "  <line x1=\"10\" y1=\"0\" x2=\"25\" y2=\"15\" style=\"stroke-width:2\" />\n",
       "  <line x1=\"130\" y1=\"0\" x2=\"145\" y2=\"15\" style=\"stroke-width:2\" />\n",
       "\n",
       "  <!-- Colored Rectangle -->\n",
       "  <polygon points=\"10.0,0.0 130.0,0.0 145.78980198634574,15.78980198634574 25.78980198634574,15.78980198634574\" style=\"fill:#ECB172A0;stroke-width:0\"/>\n",
       "\n",
       "  <!-- Horizontal lines -->\n",
       "  <line x1=\"25\" y1=\"15\" x2=\"145\" y2=\"15\" style=\"stroke-width:2\" />\n",
       "  <line x1=\"25\" y1=\"75\" x2=\"145\" y2=\"75\" style=\"stroke-width:2\" />\n",
       "\n",
       "  <!-- Vertical lines -->\n",
       "  <line x1=\"25\" y1=\"15\" x2=\"25\" y2=\"75\" style=\"stroke-width:2\" />\n",
       "  <line x1=\"145\" y1=\"15\" x2=\"145\" y2=\"75\" style=\"stroke-width:2\" />\n",
       "\n",
       "  <!-- Colored Rectangle -->\n",
       "  <polygon points=\"25.78980198634574,15.78980198634574 145.78980198634574,15.78980198634574 145.78980198634574,75.58980198634573 25.78980198634574,75.58980198634573\" style=\"fill:#ECB172A0;stroke-width:0\"/>\n",
       "\n",
       "  <!-- Text -->\n",
       "  <text x=\"85.789802\" y=\"95.589802\" font-size=\"1.0rem\" font-weight=\"100\" text-anchor=\"middle\" >1800</text>\n",
       "  <text x=\"165.789802\" y=\"45.689802\" font-size=\"1.0rem\" font-weight=\"100\" text-anchor=\"middle\" transform=\"rotate(-90,165.789802,45.689802)\">897</text>\n",
       "  <text x=\"7.894901\" y=\"87.694901\" font-size=\"1.0rem\" font-weight=\"100\" text-anchor=\"middle\" transform=\"rotate(45,7.894901,87.694901)\">24</text>\n",
       "</svg>\n",
       "        </td>\n",
       "    </tr>\n",
       "</table></div></li></ul></div></li><li class='xr-section-item'><input id='section-44c80050-aff4-4004-86b8-b0b862459c85' class='xr-section-summary-in' type='checkbox'  ><label for='section-44c80050-aff4-4004-86b8-b0b862459c85' class='xr-section-summary' >Attributes: <span>(16)</span></label><div class='xr-section-inline-details'></div><div class='xr-section-details'><dl class='xr-attrs'><dt><span>Conventions :</span></dt><dd>CF-1.4</dd><dt><span>NCO :</span></dt><dd>&quot;4.5.5&quot;</dd><dt><span>SIMULATION_START_DATE :</span></dt><dd>2022-05-10T00:00:00Z</dd><dt><span>cdm_data_type :</span></dt><dd>GRID</dd><dt><span>featureType :</span></dt><dd>GRID</dd><dt><span>geospatial_lat_max :</span></dt><dd>89.5999984741211</dd><dt><span>geospatial_lat_min :</span></dt><dd>-89.5999984741211</dd><dt><span>geospatial_lon_max :</span></dt><dd>180.00001525878906</dd><dt><span>geospatial_lon_min :</span></dt><dd>-179.8000030517578</dd><dt><span>grid_projection :</span></dt><dd>lonlat</dd><dt><span>location :</span></dt><dd>Proto fmrc:silam_glob_v5_7_1</dd><dt><span>nco_openmp_thread_number :</span></dt><dd>1</dd><dt><span>pole_lat :</span></dt><dd>-90.0</dd><dt><span>pole_lon :</span></dt><dd>0.0</dd><dt><span>source :</span></dt><dd>silam_v5_7 SVN (r596360)</dd><dt><span>title :</span></dt><dd>SILAM_OUTPUT_ug</dd></dl></div></li></ul></div></div>"
      ],
      "text/plain": [
       "<xarray.Dataset>\n",
       "Dimensions:  (time: 24, lat: 897, lon: 1800)\n",
       "Coordinates:\n",
       "  * lat      (lat) float32 -89.6 -89.4 -89.2 -89.0 -88.8 ... 89.0 89.2 89.4 89.6\n",
       "  * lon      (lon) float32 -179.8 -179.6 -179.4 -179.2 ... 179.6 179.8 180.0\n",
       "  * time     (time) datetime64[ns] 2022-07-07T01:00:00 ... 2022-07-08\n",
       "Data variables:\n",
       "    NO       (time, lat, lon) float32 dask.array<chunksize=(24, 897, 1800), meta=np.ndarray>\n",
       "Attributes: (12/16)\n",
       "    Conventions:               CF-1.4\n",
       "    NCO:                       \"4.5.5\"\n",
       "    SIMULATION_START_DATE:     2022-05-10T00:00:00Z\n",
       "    cdm_data_type:             GRID\n",
       "    featureType:               GRID\n",
       "    geospatial_lat_max:        89.5999984741211\n",
       "    ...                        ...\n",
       "    location:                  Proto fmrc:silam_glob_v5_7_1\n",
       "    nco_openmp_thread_number:  1\n",
       "    pole_lat:                  -90.0\n",
       "    pole_lon:                  0.0\n",
       "    source:                    silam_v5_7 SVN (r596360)\n",
       "    title:                     SILAM_OUTPUT_ug"
      ]
     },
     "execution_count": 13,
     "metadata": {},
     "output_type": "execute_result"
    }
   ],
   "source": [
    "ds"
   ]
  },
  {
   "cell_type": "code",
   "execution_count": 14,
   "metadata": {},
   "outputs": [],
   "source": [
    "df = ds.to_dataframe()"
   ]
  },
  {
   "cell_type": "code",
   "execution_count": 15,
   "metadata": {},
   "outputs": [],
   "source": [
    "df = df.reset_index()   #flatten down all dimensions"
   ]
  },
  {
   "cell_type": "code",
   "execution_count": 16,
   "metadata": {},
   "outputs": [
    {
     "data": {
      "text/html": [
       "<div>\n",
       "<style scoped>\n",
       "    .dataframe tbody tr th:only-of-type {\n",
       "        vertical-align: middle;\n",
       "    }\n",
       "\n",
       "    .dataframe tbody tr th {\n",
       "        vertical-align: top;\n",
       "    }\n",
       "\n",
       "    .dataframe thead th {\n",
       "        text-align: right;\n",
       "    }\n",
       "</style>\n",
       "<table border=\"1\" class=\"dataframe\">\n",
       "  <thead>\n",
       "    <tr style=\"text-align: right;\">\n",
       "      <th></th>\n",
       "      <th>time</th>\n",
       "      <th>lat</th>\n",
       "      <th>lon</th>\n",
       "      <th>NO</th>\n",
       "    </tr>\n",
       "  </thead>\n",
       "  <tbody>\n",
       "    <tr>\n",
       "      <th>0</th>\n",
       "      <td>2022-07-07 01:00:00</td>\n",
       "      <td>-89.599998</td>\n",
       "      <td>-179.800003</td>\n",
       "      <td>5.073275e-12</td>\n",
       "    </tr>\n",
       "    <tr>\n",
       "      <th>1</th>\n",
       "      <td>2022-07-07 01:00:00</td>\n",
       "      <td>-89.599998</td>\n",
       "      <td>-179.600006</td>\n",
       "      <td>5.087486e-12</td>\n",
       "    </tr>\n",
       "    <tr>\n",
       "      <th>2</th>\n",
       "      <td>2022-07-07 01:00:00</td>\n",
       "      <td>-89.599998</td>\n",
       "      <td>-179.400009</td>\n",
       "      <td>5.073275e-12</td>\n",
       "    </tr>\n",
       "    <tr>\n",
       "      <th>3</th>\n",
       "      <td>2022-07-07 01:00:00</td>\n",
       "      <td>-89.599998</td>\n",
       "      <td>-179.199997</td>\n",
       "      <td>5.044853e-12</td>\n",
       "    </tr>\n",
       "    <tr>\n",
       "      <th>4</th>\n",
       "      <td>2022-07-07 01:00:00</td>\n",
       "      <td>-89.599998</td>\n",
       "      <td>-179.000000</td>\n",
       "      <td>4.916956e-12</td>\n",
       "    </tr>\n",
       "  </tbody>\n",
       "</table>\n",
       "</div>"
      ],
      "text/plain": [
       "                 time        lat         lon            NO\n",
       "0 2022-07-07 01:00:00 -89.599998 -179.800003  5.073275e-12\n",
       "1 2022-07-07 01:00:00 -89.599998 -179.600006  5.087486e-12\n",
       "2 2022-07-07 01:00:00 -89.599998 -179.400009  5.073275e-12\n",
       "3 2022-07-07 01:00:00 -89.599998 -179.199997  5.044853e-12\n",
       "4 2022-07-07 01:00:00 -89.599998 -179.000000  4.916956e-12"
      ]
     },
     "execution_count": 16,
     "metadata": {},
     "output_type": "execute_result"
    }
   ],
   "source": [
    "df.head()"
   ]
  },
  {
   "cell_type": "code",
   "execution_count": 17,
   "metadata": {},
   "outputs": [
    {
     "name": "stdout",
     "output_type": "stream",
     "text": [
      "Number of NAs: time    0\n",
      "lat     0\n",
      "lon     0\n",
      "NO      0\n",
      "dtype: int64\n"
     ]
    }
   ],
   "source": [
    "print('Number of NAs:', df.isnull().sum())"
   ]
  },
  {
   "cell_type": "code",
   "execution_count": 18,
   "metadata": {},
   "outputs": [
    {
     "data": {
      "text/plain": [
       "122"
      ]
     },
     "execution_count": 18,
     "metadata": {},
     "output_type": "execute_result"
    }
   ],
   "source": [
    "import gc\n",
    "\n",
    "del ds\n",
    "gc.collect()"
   ]
  },
  {
   "cell_type": "code",
   "execution_count": 19,
   "metadata": {},
   "outputs": [
    {
     "data": {
      "text/plain": [
       "pandas.core.frame.DataFrame"
      ]
     },
     "execution_count": 19,
     "metadata": {},
     "output_type": "execute_result"
    }
   ],
   "source": [
    "type(df)"
   ]
  },
  {
   "cell_type": "code",
   "execution_count": 20,
   "metadata": {},
   "outputs": [
    {
     "data": {
      "text/html": [
       "<div>\n",
       "<style scoped>\n",
       "    .dataframe tbody tr th:only-of-type {\n",
       "        vertical-align: middle;\n",
       "    }\n",
       "\n",
       "    .dataframe tbody tr th {\n",
       "        vertical-align: top;\n",
       "    }\n",
       "\n",
       "    .dataframe thead th {\n",
       "        text-align: right;\n",
       "    }\n",
       "</style>\n",
       "<table border=\"1\" class=\"dataframe\">\n",
       "  <thead>\n",
       "    <tr style=\"text-align: right;\">\n",
       "      <th></th>\n",
       "      <th>time</th>\n",
       "      <th>lat</th>\n",
       "      <th>lon</th>\n",
       "      <th>NO</th>\n",
       "    </tr>\n",
       "  </thead>\n",
       "  <tbody>\n",
       "    <tr>\n",
       "      <th>0</th>\n",
       "      <td>2022-07-07 01:00:00</td>\n",
       "      <td>-89.599998</td>\n",
       "      <td>-179.800003</td>\n",
       "      <td>5.073275e-12</td>\n",
       "    </tr>\n",
       "    <tr>\n",
       "      <th>1</th>\n",
       "      <td>2022-07-07 01:00:00</td>\n",
       "      <td>-89.599998</td>\n",
       "      <td>-179.600006</td>\n",
       "      <td>5.087486e-12</td>\n",
       "    </tr>\n",
       "    <tr>\n",
       "      <th>2</th>\n",
       "      <td>2022-07-07 01:00:00</td>\n",
       "      <td>-89.599998</td>\n",
       "      <td>-179.400009</td>\n",
       "      <td>5.073275e-12</td>\n",
       "    </tr>\n",
       "    <tr>\n",
       "      <th>3</th>\n",
       "      <td>2022-07-07 01:00:00</td>\n",
       "      <td>-89.599998</td>\n",
       "      <td>-179.199997</td>\n",
       "      <td>5.044853e-12</td>\n",
       "    </tr>\n",
       "    <tr>\n",
       "      <th>4</th>\n",
       "      <td>2022-07-07 01:00:00</td>\n",
       "      <td>-89.599998</td>\n",
       "      <td>-179.000000</td>\n",
       "      <td>4.916956e-12</td>\n",
       "    </tr>\n",
       "  </tbody>\n",
       "</table>\n",
       "</div>"
      ],
      "text/plain": [
       "                 time        lat         lon            NO\n",
       "0 2022-07-07 01:00:00 -89.599998 -179.800003  5.073275e-12\n",
       "1 2022-07-07 01:00:00 -89.599998 -179.600006  5.087486e-12\n",
       "2 2022-07-07 01:00:00 -89.599998 -179.400009  5.073275e-12\n",
       "3 2022-07-07 01:00:00 -89.599998 -179.199997  5.044853e-12\n",
       "4 2022-07-07 01:00:00 -89.599998 -179.000000  4.916956e-12"
      ]
     },
     "execution_count": 20,
     "metadata": {},
     "output_type": "execute_result"
    }
   ],
   "source": [
    "df.head()"
   ]
  },
  {
   "cell_type": "code",
   "execution_count": 21,
   "metadata": {},
   "outputs": [
    {
     "data": {
      "text/plain": [
       "38750400"
      ]
     },
     "execution_count": 21,
     "metadata": {},
     "output_type": "execute_result"
    }
   ],
   "source": [
    "len(df['lat'])"
   ]
  },
  {
   "cell_type": "code",
   "execution_count": 22,
   "metadata": {},
   "outputs": [
    {
     "data": {
      "text/plain": [
       "24"
      ]
     },
     "execution_count": 22,
     "metadata": {},
     "output_type": "execute_result"
    }
   ],
   "source": [
    "df['time'].nunique()"
   ]
  },
  {
   "cell_type": "code",
   "execution_count": 23,
   "metadata": {},
   "outputs": [
    {
     "data": {
      "text/plain": [
       "2022-07-07 01:00:00    1614600\n",
       "2022-07-07 02:00:00    1614600\n",
       "2022-07-07 23:00:00    1614600\n",
       "2022-07-07 22:00:00    1614600\n",
       "2022-07-07 21:00:00    1614600\n",
       "2022-07-07 20:00:00    1614600\n",
       "2022-07-07 19:00:00    1614600\n",
       "2022-07-07 18:00:00    1614600\n",
       "2022-07-07 17:00:00    1614600\n",
       "2022-07-07 16:00:00    1614600\n",
       "2022-07-07 15:00:00    1614600\n",
       "2022-07-07 14:00:00    1614600\n",
       "2022-07-07 13:00:00    1614600\n",
       "2022-07-07 12:00:00    1614600\n",
       "2022-07-07 11:00:00    1614600\n",
       "2022-07-07 10:00:00    1614600\n",
       "2022-07-07 09:00:00    1614600\n",
       "2022-07-07 08:00:00    1614600\n",
       "2022-07-07 07:00:00    1614600\n",
       "2022-07-07 06:00:00    1614600\n",
       "2022-07-07 05:00:00    1614600\n",
       "2022-07-07 04:00:00    1614600\n",
       "2022-07-07 03:00:00    1614600\n",
       "2022-07-08 00:00:00    1614600\n",
       "Name: time, dtype: int64"
      ]
     },
     "execution_count": 23,
     "metadata": {},
     "output_type": "execute_result"
    }
   ],
   "source": [
    "df.time.value_counts()"
   ]
  },
  {
   "cell_type": "code",
   "execution_count": 24,
   "metadata": {},
   "outputs": [
    {
     "data": {
      "text/plain": [
       "time\n",
       "2022-07-07 01:00:00    0.037509\n",
       "2022-07-07 02:00:00    0.036449\n",
       "2022-07-07 03:00:00    0.033354\n",
       "2022-07-07 04:00:00    0.025141\n",
       "2022-07-07 05:00:00    0.025907\n",
       "2022-07-07 06:00:00    0.027848\n",
       "2022-07-07 07:00:00    0.021845\n",
       "2022-07-07 08:00:00    0.020594\n",
       "2022-07-07 09:00:00    0.018204\n",
       "2022-07-07 10:00:00    0.016139\n",
       "2022-07-07 11:00:00    0.018176\n",
       "2022-07-07 12:00:00    0.023377\n",
       "2022-07-07 13:00:00    0.026304\n",
       "2022-07-07 14:00:00    0.032253\n",
       "2022-07-07 15:00:00    0.033354\n",
       "2022-07-07 16:00:00    0.023254\n",
       "2022-07-07 17:00:00    0.021750\n",
       "2022-07-07 18:00:00    0.020387\n",
       "2022-07-07 19:00:00    0.019194\n",
       "2022-07-07 20:00:00    0.020103\n",
       "2022-07-07 21:00:00    0.020797\n",
       "2022-07-07 22:00:00    0.023250\n",
       "2022-07-07 23:00:00    0.031161\n",
       "2022-07-08 00:00:00    0.042979\n",
       "Name: NO, dtype: float32"
      ]
     },
     "execution_count": 24,
     "metadata": {},
     "output_type": "execute_result"
    }
   ],
   "source": [
    "#mean CO by time of day\n",
    "df.groupby(['time'])['NO'].mean()"
   ]
  },
  {
   "cell_type": "code",
   "execution_count": 25,
   "metadata": {},
   "outputs": [
    {
     "data": {
      "text/plain": [
       "897"
      ]
     },
     "execution_count": 25,
     "metadata": {},
     "output_type": "execute_result"
    }
   ],
   "source": [
    "df['lat'].nunique()"
   ]
  },
  {
   "cell_type": "code",
   "execution_count": 26,
   "metadata": {},
   "outputs": [
    {
     "data": {
      "text/plain": [
       "1800"
      ]
     },
     "execution_count": 26,
     "metadata": {},
     "output_type": "execute_result"
    }
   ],
   "source": [
    "df['lon'].nunique()"
   ]
  },
  {
   "cell_type": "code",
   "execution_count": 27,
   "metadata": {},
   "outputs": [
    {
     "data": {
      "text/plain": [
       "38750400"
      ]
     },
     "execution_count": 27,
     "metadata": {},
     "output_type": "execute_result"
    }
   ],
   "source": [
    "24*897*1800"
   ]
  },
  {
   "cell_type": "code",
   "execution_count": 28,
   "metadata": {},
   "outputs": [
    {
     "data": {
      "text/plain": [
       "10248"
      ]
     },
     "execution_count": 28,
     "metadata": {},
     "output_type": "execute_result"
    }
   ],
   "source": [
    "df['NO'].nunique()"
   ]
  },
  {
   "cell_type": "code",
   "execution_count": 29,
   "metadata": {},
   "outputs": [
    {
     "data": {
      "text/plain": [
       "time    0\n",
       "lat     0\n",
       "lon     0\n",
       "NO      0\n",
       "dtype: int64"
      ]
     },
     "execution_count": 29,
     "metadata": {},
     "output_type": "execute_result"
    }
   ],
   "source": [
    "df.isnull().sum()"
   ]
  },
  {
   "cell_type": "code",
   "execution_count": 30,
   "metadata": {},
   "outputs": [
    {
     "data": {
      "text/plain": [
       "0   2022-07-07 01:00:00\n",
       "1   2022-07-07 01:00:00\n",
       "2   2022-07-07 01:00:00\n",
       "3   2022-07-07 01:00:00\n",
       "4   2022-07-07 01:00:00\n",
       "Name: time, dtype: datetime64[ns]"
      ]
     },
     "execution_count": 30,
     "metadata": {},
     "output_type": "execute_result"
    }
   ],
   "source": [
    "df['time'].head()"
   ]
  },
  {
   "cell_type": "markdown",
   "metadata": {},
   "source": [
    "#### FILE DEPENDENT"
   ]
  },
  {
   "cell_type": "code",
   "execution_count": 31,
   "metadata": {},
   "outputs": [],
   "source": [
    "#df2 = df[df['time'] == '2022-07-26 12:00:00']   #take slice of data to prevent pandas_profiling from crash, take only midday\n",
    "df2 = df[df['time'] == '2022-07-07 12:00:00']"
   ]
  },
  {
   "cell_type": "code",
   "execution_count": 32,
   "metadata": {},
   "outputs": [
    {
     "name": "stdout",
     "output_type": "stream",
     "text": [
      "mean difference between longitudinals is:  0.20000002036768283\n"
     ]
    }
   ],
   "source": [
    "lon = df2['lon'].sort_values(ascending = True)\n",
    "lon = lon.drop_duplicates()\n",
    "lon = lon[lon > 0]\n",
    "lon = lon.diff()\n",
    "lon = lon.dropna()\n",
    "print('mean difference between longitudinals is: ', lon.mean())"
   ]
  },
  {
   "cell_type": "code",
   "execution_count": 33,
   "metadata": {},
   "outputs": [],
   "source": [
    "%%capture\n",
    "!pip install haversine\n",
    "#(latitude, longitude)\n",
    "import haversine as hs\n",
    "loc1=(-89.599998, 179.800003)\n",
    "loc2=(-89.599998, 179.600006)"
   ]
  },
  {
   "cell_type": "code",
   "execution_count": 34,
   "metadata": {},
   "outputs": [
    {
     "name": "stdout",
     "output_type": "stream",
     "text": [
      "0.15525472838874982 km\n"
     ]
    }
   ],
   "source": [
    "print(hs.haversine(loc1,loc2), 'km')"
   ]
  },
  {
   "cell_type": "code",
   "execution_count": null,
   "metadata": {},
   "outputs": [],
   "source": []
  },
  {
   "cell_type": "markdown",
   "metadata": {},
   "source": [
    "- Currently SILAM supports the following Parameters:\n",
    "  - PM2.5 - Particulate matter smaller than 2.5 microns\n",
    "  - PM10 - Particulate matter smaller than 10 microns\n",
    "  - NO - Nitrogen Monoxide\n",
    "  - NO₂ - Nitrogen Dioxide\n",
    "  - SO₂ - Sulfur Dioxide\n",
    "  - O₃ - Ozone\n",
    "  - CO - Carbon Monoxide\n",
    "  - Air density"
   ]
  },
  {
   "cell_type": "code",
   "execution_count": 35,
   "metadata": {},
   "outputs": [
    {
     "data": {
      "text/plain": [
       "1614600"
      ]
     },
     "execution_count": 35,
     "metadata": {},
     "output_type": "execute_result"
    }
   ],
   "source": [
    "len(df2)"
   ]
  },
  {
   "cell_type": "code",
   "execution_count": 36,
   "metadata": {},
   "outputs": [],
   "source": [
    "#uk data filter\n",
    "#df2 = df2[(df2['lat'] > 50.10319) & (df2['lat'] < 60.15456)]\n",
    "#df2 = df2[(df2['lon'] > -7.64133) & (df2['lon'] < 1.75159)]\n",
    "\n",
    "#london data filter\n",
    "df2 = df2[(df2['lat'] > 51.239405) & (df2['lat'] < 51.737184)]\n",
    "df2 = df2[(df2['lon'] > -0.625211) & (df2['lon'] < 0.328289)]"
   ]
  },
  {
   "cell_type": "code",
   "execution_count": 37,
   "metadata": {},
   "outputs": [
    {
     "data": {
      "text/plain": [
       "10"
      ]
     },
     "execution_count": 37,
     "metadata": {},
     "output_type": "execute_result"
    }
   ],
   "source": [
    "len(df2)"
   ]
  },
  {
   "cell_type": "code",
   "execution_count": 38,
   "metadata": {},
   "outputs": [
    {
     "name": "stdout",
     "output_type": "stream",
     "text": [
      "\u001b[33mWARNING: Running pip as the 'root' user can result in broken permissions and conflicting behaviour with the system package manager. It is recommended to use a virtual environment instead: https://pip.pypa.io/warnings/venv\u001b[0m\u001b[33m\n",
      "\u001b[0m\u001b[33mWARNING: Running pip as the 'root' user can result in broken permissions and conflicting behaviour with the system package manager. It is recommended to use a virtual environment instead: https://pip.pypa.io/warnings/venv\u001b[0m\u001b[33m\n",
      "\u001b[0m"
     ]
    }
   ],
   "source": [
    "!pip install geopandas --quiet\n",
    "!pip install shapely --quiet"
   ]
  },
  {
   "cell_type": "code",
   "execution_count": 39,
   "metadata": {},
   "outputs": [],
   "source": [
    "from shapely.geometry import Point, Polygon\n",
    "import geopandas as gpd\n",
    "from geopandas import GeoDataFrame\n",
    "import matplotlib.pyplot as plt"
   ]
  },
  {
   "cell_type": "code",
   "execution_count": 40,
   "metadata": {},
   "outputs": [
    {
     "data": {
      "text/html": [
       "<div>\n",
       "<style scoped>\n",
       "    .dataframe tbody tr th:only-of-type {\n",
       "        vertical-align: middle;\n",
       "    }\n",
       "\n",
       "    .dataframe tbody tr th {\n",
       "        vertical-align: top;\n",
       "    }\n",
       "\n",
       "    .dataframe thead th {\n",
       "        text-align: right;\n",
       "    }\n",
       "</style>\n",
       "<table border=\"1\" class=\"dataframe\">\n",
       "  <thead>\n",
       "    <tr style=\"text-align: right;\">\n",
       "      <th></th>\n",
       "      <th>lon</th>\n",
       "      <th>lat</th>\n",
       "    </tr>\n",
       "  </thead>\n",
       "  <tbody>\n",
       "    <tr>\n",
       "      <th>19030496</th>\n",
       "      <td>-0.600006</td>\n",
       "      <td>51.400002</td>\n",
       "    </tr>\n",
       "    <tr>\n",
       "      <th>19030497</th>\n",
       "      <td>-0.399994</td>\n",
       "      <td>51.400002</td>\n",
       "    </tr>\n",
       "    <tr>\n",
       "      <th>19030498</th>\n",
       "      <td>-0.199997</td>\n",
       "      <td>51.400002</td>\n",
       "    </tr>\n",
       "    <tr>\n",
       "      <th>19030499</th>\n",
       "      <td>0.000000</td>\n",
       "      <td>51.400002</td>\n",
       "    </tr>\n",
       "    <tr>\n",
       "      <th>19030500</th>\n",
       "      <td>0.199997</td>\n",
       "      <td>51.400002</td>\n",
       "    </tr>\n",
       "    <tr>\n",
       "      <th>19032296</th>\n",
       "      <td>-0.600006</td>\n",
       "      <td>51.599998</td>\n",
       "    </tr>\n",
       "    <tr>\n",
       "      <th>19032297</th>\n",
       "      <td>-0.399994</td>\n",
       "      <td>51.599998</td>\n",
       "    </tr>\n",
       "    <tr>\n",
       "      <th>19032298</th>\n",
       "      <td>-0.199997</td>\n",
       "      <td>51.599998</td>\n",
       "    </tr>\n",
       "    <tr>\n",
       "      <th>19032299</th>\n",
       "      <td>0.000000</td>\n",
       "      <td>51.599998</td>\n",
       "    </tr>\n",
       "    <tr>\n",
       "      <th>19032300</th>\n",
       "      <td>0.199997</td>\n",
       "      <td>51.599998</td>\n",
       "    </tr>\n",
       "  </tbody>\n",
       "</table>\n",
       "</div>"
      ],
      "text/plain": [
       "               lon        lat\n",
       "19030496 -0.600006  51.400002\n",
       "19030497 -0.399994  51.400002\n",
       "19030498 -0.199997  51.400002\n",
       "19030499  0.000000  51.400002\n",
       "19030500  0.199997  51.400002\n",
       "19032296 -0.600006  51.599998\n",
       "19032297 -0.399994  51.599998\n",
       "19032298 -0.199997  51.599998\n",
       "19032299  0.000000  51.599998\n",
       "19032300  0.199997  51.599998"
      ]
     },
     "execution_count": 40,
     "metadata": {},
     "output_type": "execute_result"
    }
   ],
   "source": [
    "lalo_data = df2[['lon', 'lat']]\n",
    "lalo_data"
   ]
  },
  {
   "cell_type": "code",
   "execution_count": 42,
   "metadata": {},
   "outputs": [
    {
     "ename": "DriverError",
     "evalue": "London-wards-2018/London-wards-2018_ESRI/London_Ward_CityMerged.shp: No such file or directory",
     "output_type": "error",
     "traceback": [
      "\u001b[0;31m---------------------------------------------------------------------------\u001b[0m",
      "\u001b[0;31mCPLE_OpenFailedError\u001b[0m                      Traceback (most recent call last)",
      "\u001b[0;32mfiona/_shim.pyx\u001b[0m in \u001b[0;36mfiona._shim.gdal_open_vector\u001b[0;34m()\u001b[0m\n",
      "\u001b[0;32mfiona/_err.pyx\u001b[0m in \u001b[0;36mfiona._err.exc_wrap_pointer\u001b[0;34m()\u001b[0m\n",
      "\u001b[0;31mCPLE_OpenFailedError\u001b[0m: London-wards-2018/London-wards-2018_ESRI/London_Ward_CityMerged.shp: No such file or directory",
      "\nDuring handling of the above exception, another exception occurred:\n",
      "\u001b[0;31mDriverError\u001b[0m                               Traceback (most recent call last)",
      "\u001b[0;32m<ipython-input-42-e36d8868039c>\u001b[0m in \u001b[0;36m<module>\u001b[0;34m\u001b[0m\n\u001b[0;32m----> 1\u001b[0;31m \u001b[0mlondon_map\u001b[0m \u001b[0;34m=\u001b[0m \u001b[0mgpd\u001b[0m\u001b[0;34m.\u001b[0m\u001b[0mread_file\u001b[0m\u001b[0;34m(\u001b[0m\u001b[0;34mr'London-wards-2018/London-wards-2018_ESRI/London_Ward_CityMerged.shp'\u001b[0m\u001b[0;34m)\u001b[0m\u001b[0;34m\u001b[0m\u001b[0;34m\u001b[0m\u001b[0m\n\u001b[0m",
      "\u001b[0;32m/opt/conda/lib/python3.7/site-packages/geopandas/io/file.py\u001b[0m in \u001b[0;36m_read_file\u001b[0;34m(filename, bbox, mask, rows, **kwargs)\u001b[0m\n\u001b[1;32m    199\u001b[0m \u001b[0;34m\u001b[0m\u001b[0m\n\u001b[1;32m    200\u001b[0m     \u001b[0;32mwith\u001b[0m \u001b[0mfiona_env\u001b[0m\u001b[0;34m(\u001b[0m\u001b[0;34m)\u001b[0m\u001b[0;34m:\u001b[0m\u001b[0;34m\u001b[0m\u001b[0;34m\u001b[0m\u001b[0m\n\u001b[0;32m--> 201\u001b[0;31m         \u001b[0;32mwith\u001b[0m \u001b[0mreader\u001b[0m\u001b[0;34m(\u001b[0m\u001b[0mpath_or_bytes\u001b[0m\u001b[0;34m,\u001b[0m \u001b[0;34m**\u001b[0m\u001b[0mkwargs\u001b[0m\u001b[0;34m)\u001b[0m \u001b[0;32mas\u001b[0m \u001b[0mfeatures\u001b[0m\u001b[0;34m:\u001b[0m\u001b[0;34m\u001b[0m\u001b[0;34m\u001b[0m\u001b[0m\n\u001b[0m\u001b[1;32m    202\u001b[0m \u001b[0;34m\u001b[0m\u001b[0m\n\u001b[1;32m    203\u001b[0m             \u001b[0;31m# In a future Fiona release the crs attribute of features will\u001b[0m\u001b[0;34m\u001b[0m\u001b[0;34m\u001b[0m\u001b[0;34m\u001b[0m\u001b[0m\n",
      "\u001b[0;32m/opt/conda/lib/python3.7/site-packages/fiona/env.py\u001b[0m in \u001b[0;36mwrapper\u001b[0;34m(*args, **kwargs)\u001b[0m\n\u001b[1;32m    406\u001b[0m     \u001b[0;32mdef\u001b[0m \u001b[0mwrapper\u001b[0m\u001b[0;34m(\u001b[0m\u001b[0;34m*\u001b[0m\u001b[0margs\u001b[0m\u001b[0;34m,\u001b[0m \u001b[0;34m**\u001b[0m\u001b[0mkwargs\u001b[0m\u001b[0;34m)\u001b[0m\u001b[0;34m:\u001b[0m\u001b[0;34m\u001b[0m\u001b[0;34m\u001b[0m\u001b[0m\n\u001b[1;32m    407\u001b[0m         \u001b[0;32mif\u001b[0m \u001b[0mlocal\u001b[0m\u001b[0;34m.\u001b[0m\u001b[0m_env\u001b[0m\u001b[0;34m:\u001b[0m\u001b[0;34m\u001b[0m\u001b[0;34m\u001b[0m\u001b[0m\n\u001b[0;32m--> 408\u001b[0;31m             \u001b[0;32mreturn\u001b[0m \u001b[0mf\u001b[0m\u001b[0;34m(\u001b[0m\u001b[0;34m*\u001b[0m\u001b[0margs\u001b[0m\u001b[0;34m,\u001b[0m \u001b[0;34m**\u001b[0m\u001b[0mkwargs\u001b[0m\u001b[0;34m)\u001b[0m\u001b[0;34m\u001b[0m\u001b[0;34m\u001b[0m\u001b[0m\n\u001b[0m\u001b[1;32m    409\u001b[0m         \u001b[0;32melse\u001b[0m\u001b[0;34m:\u001b[0m\u001b[0;34m\u001b[0m\u001b[0;34m\u001b[0m\u001b[0m\n\u001b[1;32m    410\u001b[0m             \u001b[0;32mif\u001b[0m \u001b[0misinstance\u001b[0m\u001b[0;34m(\u001b[0m\u001b[0margs\u001b[0m\u001b[0;34m[\u001b[0m\u001b[0;36m0\u001b[0m\u001b[0;34m]\u001b[0m\u001b[0;34m,\u001b[0m \u001b[0mstr\u001b[0m\u001b[0;34m)\u001b[0m\u001b[0;34m:\u001b[0m\u001b[0;34m\u001b[0m\u001b[0;34m\u001b[0m\u001b[0m\n",
      "\u001b[0;32m/opt/conda/lib/python3.7/site-packages/fiona/__init__.py\u001b[0m in \u001b[0;36mopen\u001b[0;34m(fp, mode, driver, schema, crs, encoding, layer, vfs, enabled_drivers, crs_wkt, **kwargs)\u001b[0m\n\u001b[1;32m    263\u001b[0m         \u001b[0;32mif\u001b[0m \u001b[0mmode\u001b[0m \u001b[0;32min\u001b[0m \u001b[0;34m(\u001b[0m\u001b[0;34m'a'\u001b[0m\u001b[0;34m,\u001b[0m \u001b[0;34m'r'\u001b[0m\u001b[0;34m)\u001b[0m\u001b[0;34m:\u001b[0m\u001b[0;34m\u001b[0m\u001b[0;34m\u001b[0m\u001b[0m\n\u001b[1;32m    264\u001b[0m             c = Collection(path, mode, driver=driver, encoding=encoding,\n\u001b[0;32m--> 265\u001b[0;31m                            layer=layer, enabled_drivers=enabled_drivers, **kwargs)\n\u001b[0m\u001b[1;32m    266\u001b[0m         \u001b[0;32melif\u001b[0m \u001b[0mmode\u001b[0m \u001b[0;34m==\u001b[0m \u001b[0;34m'w'\u001b[0m\u001b[0;34m:\u001b[0m\u001b[0;34m\u001b[0m\u001b[0;34m\u001b[0m\u001b[0m\n\u001b[1;32m    267\u001b[0m             \u001b[0;32mif\u001b[0m \u001b[0mschema\u001b[0m\u001b[0;34m:\u001b[0m\u001b[0;34m\u001b[0m\u001b[0;34m\u001b[0m\u001b[0m\n",
      "\u001b[0;32m/opt/conda/lib/python3.7/site-packages/fiona/collection.py\u001b[0m in \u001b[0;36m__init__\u001b[0;34m(self, path, mode, driver, schema, crs, encoding, layer, vsi, archive, enabled_drivers, crs_wkt, ignore_fields, ignore_geometry, **kwargs)\u001b[0m\n\u001b[1;32m    160\u001b[0m             \u001b[0;32mif\u001b[0m \u001b[0mself\u001b[0m\u001b[0;34m.\u001b[0m\u001b[0mmode\u001b[0m \u001b[0;34m==\u001b[0m \u001b[0;34m'r'\u001b[0m\u001b[0;34m:\u001b[0m\u001b[0;34m\u001b[0m\u001b[0;34m\u001b[0m\u001b[0m\n\u001b[1;32m    161\u001b[0m                 \u001b[0mself\u001b[0m\u001b[0;34m.\u001b[0m\u001b[0msession\u001b[0m \u001b[0;34m=\u001b[0m \u001b[0mSession\u001b[0m\u001b[0;34m(\u001b[0m\u001b[0;34m)\u001b[0m\u001b[0;34m\u001b[0m\u001b[0;34m\u001b[0m\u001b[0m\n\u001b[0;32m--> 162\u001b[0;31m                 \u001b[0mself\u001b[0m\u001b[0;34m.\u001b[0m\u001b[0msession\u001b[0m\u001b[0;34m.\u001b[0m\u001b[0mstart\u001b[0m\u001b[0;34m(\u001b[0m\u001b[0mself\u001b[0m\u001b[0;34m,\u001b[0m \u001b[0;34m**\u001b[0m\u001b[0mkwargs\u001b[0m\u001b[0;34m)\u001b[0m\u001b[0;34m\u001b[0m\u001b[0;34m\u001b[0m\u001b[0m\n\u001b[0m\u001b[1;32m    163\u001b[0m             \u001b[0;32melif\u001b[0m \u001b[0mself\u001b[0m\u001b[0;34m.\u001b[0m\u001b[0mmode\u001b[0m \u001b[0;32min\u001b[0m \u001b[0;34m(\u001b[0m\u001b[0;34m'a'\u001b[0m\u001b[0;34m,\u001b[0m \u001b[0;34m'w'\u001b[0m\u001b[0;34m)\u001b[0m\u001b[0;34m:\u001b[0m\u001b[0;34m\u001b[0m\u001b[0;34m\u001b[0m\u001b[0m\n\u001b[1;32m    164\u001b[0m                 \u001b[0mself\u001b[0m\u001b[0;34m.\u001b[0m\u001b[0msession\u001b[0m \u001b[0;34m=\u001b[0m \u001b[0mWritingSession\u001b[0m\u001b[0;34m(\u001b[0m\u001b[0;34m)\u001b[0m\u001b[0;34m\u001b[0m\u001b[0;34m\u001b[0m\u001b[0m\n",
      "\u001b[0;32mfiona/ogrext.pyx\u001b[0m in \u001b[0;36mfiona.ogrext.Session.start\u001b[0;34m()\u001b[0m\n",
      "\u001b[0;32mfiona/_shim.pyx\u001b[0m in \u001b[0;36mfiona._shim.gdal_open_vector\u001b[0;34m()\u001b[0m\n",
      "\u001b[0;31mDriverError\u001b[0m: London-wards-2018/London-wards-2018_ESRI/London_Ward_CityMerged.shp: No such file or directory"
     ]
    }
   ],
   "source": [
    "london_map = gpd.read_file(r'London-wards-2018/London-wards-2018_ESRI/London_Ward_CityMerged.shp')"
   ]
  },
  {
   "cell_type": "code",
   "execution_count": null,
   "metadata": {},
   "outputs": [],
   "source": [
    "geometry = [Point(xy) for xy in zip(df2['lon'], df2['lat'])]\n",
    "gdf = gpd.GeoDataFrame(lalo_data, geometry = geometry, crs = 4326)\n",
    "#4326 is the go to CRS for GPS lat lon, need to set here so conversion to another is standardised as setting wrong CRS here means conversion (to_crs) will be wrong "
   ]
  },
  {
   "cell_type": "code",
   "execution_count": null,
   "metadata": {},
   "outputs": [],
   "source": [
    "london_map['geometry'] = london_map['geometry'].to_crs(epsg=3857)\n",
    "gdf['geometry'] = gdf['geometry'].to_crs(epsg=3857)"
   ]
  },
  {
   "cell_type": "code",
   "execution_count": null,
   "metadata": {},
   "outputs": [],
   "source": [
    "!pip install contextily --quiet"
   ]
  },
  {
   "cell_type": "code",
   "execution_count": null,
   "metadata": {},
   "outputs": [],
   "source": [
    "import contextily as cx\n",
    "\n",
    "def makeLayeredMap(*args):\n",
    "    \"\"\"This function accepts an arbitrary number of geodataframes, plots them on top of a Contextily basemap. \n",
    "    NOTE: Please edit the Plotting-section to specify parameters for the number of layers and the formatting of each layer.\n",
    "    Output: Saved file and layered map for display.\"\"\"\n",
    "    \n",
    "    # Convert the CRS for all layers to EPSG3857 to match Contextily\n",
    "    args = list(map(lambda x: x.to_crs(epsg=3857), args))\n",
    "    # Create figure\n",
    "    fig, ax = plt.subplots(1, figsize=(20, 20))\n",
    "    #Set aspect to equal\n",
    "    ax.set_aspect('equal')\n",
    "    \n",
    "    # PLOTTING: Specify layers to plot how to format each layer (colours, transparency, etc.):\n",
    "    # Layer 1:\n",
    "    args[0].boundary.plot(ax=ax, color='blue', edgecolor='k', alpha=0.1, zorder=1)\n",
    "    # Layer 2:\n",
    "    args[1].plot(ax=ax, color='red', markersize=400, marker='*', zorder=2)\n",
    "    # ADD LAYERS here as needed:\n",
    "    #args[2].plot(ax=ax, color='black', alpha=0.3, zorder=3)\n",
    "    \n",
    "    # Contextily basemap:\n",
    "    cx.add_basemap(ax, source=cx.providers.CartoDB.Positron)\n",
    "    \n",
    "    # Turn off axis\n",
    "    ax.axis('off')\n",
    "    # Save as file\n",
    "    fig.savefig('silam_london_sensors.png', dpi=300)\n",
    "    layered_map = plt.show()\n",
    "    return(layered_map)\n",
    "    #plt.show()"
   ]
  },
  {
   "cell_type": "code",
   "execution_count": null,
   "metadata": {},
   "outputs": [],
   "source": [
    "makeLayeredMap(london_map, gdf)"
   ]
  },
  {
   "cell_type": "code",
   "execution_count": null,
   "metadata": {},
   "outputs": [],
   "source": []
  }
 ],
 "metadata": {
  "instance_type": "ml.t3.medium",
  "kernelspec": {
   "display_name": "Python 3 (Data Science)",
   "language": "python",
   "name": "python3__SAGEMAKER_INTERNAL__arn:aws:sagemaker:eu-west-2:712779665605:image/datascience-1.0"
  },
  "language_info": {
   "codemirror_mode": {
    "name": "ipython",
    "version": 3
   },
   "file_extension": ".py",
   "mimetype": "text/x-python",
   "name": "python",
   "nbconvert_exporter": "python",
   "pygments_lexer": "ipython3",
   "version": "3.7.10"
  }
 },
 "nbformat": 4,
 "nbformat_minor": 5
}
