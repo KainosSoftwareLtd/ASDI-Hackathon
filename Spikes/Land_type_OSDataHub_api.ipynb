{
 "cells": [
  {
   "cell_type": "markdown",
   "id": "adb7c520-a366-49bb-8bbc-53591f3ee5ea",
   "metadata": {},
   "source": [
    "# Detecting roads, buildings, airpots and railways using OSDataHub API"
   ]
  },
  {
   "cell_type": "code",
   "execution_count": 1,
   "id": "0157655b-5df2-4be7-bbf5-981b9e267907",
   "metadata": {
    "scrolled": true,
    "tags": []
   },
   "outputs": [
    {
     "name": "stdout",
     "output_type": "stream",
     "text": [
      "Requirement already satisfied: fiona in /opt/conda/lib/python3.7/site-packages (1.8.21)\n",
      "Requirement already satisfied: six>=1.7 in /opt/conda/lib/python3.7/site-packages (from fiona) (1.14.0)\n",
      "Requirement already satisfied: certifi in /opt/conda/lib/python3.7/site-packages (from fiona) (2022.6.15)\n",
      "Requirement already satisfied: cligj>=0.5 in /opt/conda/lib/python3.7/site-packages (from fiona) (0.7.2)\n",
      "Requirement already satisfied: attrs>=17 in /opt/conda/lib/python3.7/site-packages (from fiona) (21.4.0)\n",
      "Requirement already satisfied: munch in /opt/conda/lib/python3.7/site-packages (from fiona) (2.5.0)\n",
      "Requirement already satisfied: setuptools in /opt/conda/lib/python3.7/site-packages (from fiona) (59.3.0)\n",
      "Requirement already satisfied: click>=4.0 in /opt/conda/lib/python3.7/site-packages (from fiona) (7.0)\n",
      "Requirement already satisfied: click-plugins>=1.0 in /opt/conda/lib/python3.7/site-packages (from fiona) (1.1.1)\n",
      "\u001b[33mWARNING: Running pip as the 'root' user can result in broken permissions and conflicting behaviour with the system package manager. It is recommended to use a virtual environment instead: https://pip.pypa.io/warnings/venv\u001b[0m\u001b[33m\n",
      "\u001b[0m\n",
      "\u001b[1m[\u001b[0m\u001b[34;49mnotice\u001b[0m\u001b[1;39;49m]\u001b[0m\u001b[39;49m A new release of pip available: \u001b[0m\u001b[31;49m22.1.2\u001b[0m\u001b[39;49m -> \u001b[0m\u001b[32;49m22.2.1\u001b[0m\n",
      "\u001b[1m[\u001b[0m\u001b[34;49mnotice\u001b[0m\u001b[1;39;49m]\u001b[0m\u001b[39;49m To update, run: \u001b[0m\u001b[32;49mpip install --upgrade pip\u001b[0m\n",
      "Requirement already satisfied: folium in /opt/conda/lib/python3.7/site-packages (0.12.1.post1)\n",
      "Requirement already satisfied: branca>=0.3.0 in /opt/conda/lib/python3.7/site-packages (from folium) (0.5.0)\n",
      "Requirement already satisfied: numpy in /opt/conda/lib/python3.7/site-packages (from folium) (1.21.6)\n",
      "Requirement already satisfied: requests in /opt/conda/lib/python3.7/site-packages (from folium) (2.28.1)\n",
      "Requirement already satisfied: jinja2>=2.9 in /opt/conda/lib/python3.7/site-packages (from folium) (3.1.2)\n",
      "Requirement already satisfied: MarkupSafe>=2.0 in /opt/conda/lib/python3.7/site-packages (from jinja2>=2.9->folium) (2.1.1)\n",
      "Requirement already satisfied: certifi>=2017.4.17 in /opt/conda/lib/python3.7/site-packages (from requests->folium) (2022.6.15)\n",
      "Requirement already satisfied: idna<4,>=2.5 in /opt/conda/lib/python3.7/site-packages (from requests->folium) (2.8)\n",
      "Requirement already satisfied: charset-normalizer<3,>=2 in /opt/conda/lib/python3.7/site-packages (from requests->folium) (2.0.4)\n",
      "Requirement already satisfied: urllib3<1.27,>=1.21.1 in /opt/conda/lib/python3.7/site-packages (from requests->folium) (1.26.10)\n",
      "\u001b[33mWARNING: Running pip as the 'root' user can result in broken permissions and conflicting behaviour with the system package manager. It is recommended to use a virtual environment instead: https://pip.pypa.io/warnings/venv\u001b[0m\u001b[33m\n",
      "\u001b[0m\n",
      "\u001b[1m[\u001b[0m\u001b[34;49mnotice\u001b[0m\u001b[1;39;49m]\u001b[0m\u001b[39;49m A new release of pip available: \u001b[0m\u001b[31;49m22.1.2\u001b[0m\u001b[39;49m -> \u001b[0m\u001b[32;49m22.2.1\u001b[0m\n",
      "\u001b[1m[\u001b[0m\u001b[34;49mnotice\u001b[0m\u001b[1;39;49m]\u001b[0m\u001b[39;49m To update, run: \u001b[0m\u001b[32;49mpip install --upgrade pip\u001b[0m\n",
      "Requirement already satisfied: geopandas in /opt/conda/lib/python3.7/site-packages (0.10.2)\n",
      "Requirement already satisfied: fiona>=1.8 in /opt/conda/lib/python3.7/site-packages (from geopandas) (1.8.21)\n",
      "Requirement already satisfied: pandas>=0.25.0 in /opt/conda/lib/python3.7/site-packages (from geopandas) (1.3.5)\n",
      "Requirement already satisfied: pyproj>=2.2.0 in /opt/conda/lib/python3.7/site-packages (from geopandas) (3.2.1)\n",
      "Requirement already satisfied: shapely>=1.6 in /opt/conda/lib/python3.7/site-packages (from geopandas) (1.8.2)\n",
      "Requirement already satisfied: click>=4.0 in /opt/conda/lib/python3.7/site-packages (from fiona>=1.8->geopandas) (7.0)\n",
      "Requirement already satisfied: six>=1.7 in /opt/conda/lib/python3.7/site-packages (from fiona>=1.8->geopandas) (1.14.0)\n",
      "Requirement already satisfied: setuptools in /opt/conda/lib/python3.7/site-packages (from fiona>=1.8->geopandas) (59.3.0)\n",
      "Requirement already satisfied: attrs>=17 in /opt/conda/lib/python3.7/site-packages (from fiona>=1.8->geopandas) (21.4.0)\n",
      "Requirement already satisfied: certifi in /opt/conda/lib/python3.7/site-packages (from fiona>=1.8->geopandas) (2022.6.15)\n",
      "Requirement already satisfied: cligj>=0.5 in /opt/conda/lib/python3.7/site-packages (from fiona>=1.8->geopandas) (0.7.2)\n",
      "Requirement already satisfied: munch in /opt/conda/lib/python3.7/site-packages (from fiona>=1.8->geopandas) (2.5.0)\n",
      "Requirement already satisfied: click-plugins>=1.0 in /opt/conda/lib/python3.7/site-packages (from fiona>=1.8->geopandas) (1.1.1)\n",
      "Requirement already satisfied: numpy>=1.17.3 in /opt/conda/lib/python3.7/site-packages (from pandas>=0.25.0->geopandas) (1.21.6)\n",
      "Requirement already satisfied: pytz>=2017.3 in /opt/conda/lib/python3.7/site-packages (from pandas>=0.25.0->geopandas) (2019.3)\n",
      "Requirement already satisfied: python-dateutil>=2.7.3 in /opt/conda/lib/python3.7/site-packages (from pandas>=0.25.0->geopandas) (2.8.1)\n",
      "\u001b[33mWARNING: Running pip as the 'root' user can result in broken permissions and conflicting behaviour with the system package manager. It is recommended to use a virtual environment instead: https://pip.pypa.io/warnings/venv\u001b[0m\u001b[33m\n",
      "\u001b[0m\n",
      "\u001b[1m[\u001b[0m\u001b[34;49mnotice\u001b[0m\u001b[1;39;49m]\u001b[0m\u001b[39;49m A new release of pip available: \u001b[0m\u001b[31;49m22.1.2\u001b[0m\u001b[39;49m -> \u001b[0m\u001b[32;49m22.2.1\u001b[0m\n",
      "\u001b[1m[\u001b[0m\u001b[34;49mnotice\u001b[0m\u001b[1;39;49m]\u001b[0m\u001b[39;49m To update, run: \u001b[0m\u001b[32;49mpip install --upgrade pip\u001b[0m\n"
     ]
    }
   ],
   "source": [
    "!pip install fiona\n",
    "!pip install folium\n",
    "!pip install geopandas\n"
   ]
  },
  {
   "cell_type": "code",
   "execution_count": 2,
   "id": "a6567460-dd46-4aa6-b9ec-2376437e888e",
   "metadata": {},
   "outputs": [],
   "source": [
    "import geopandas as gpd\n",
    "import requests\n",
    "import json\n"
   ]
  },
  {
   "cell_type": "code",
   "execution_count": 3,
   "id": "cb343f9a-8aae-457d-8074-273a65a69e76",
   "metadata": {},
   "outputs": [],
   "source": [
    "def get_feature_type_in_bbox(bbox, feature_type):\n",
    "        \n",
    "    wfs_endpoint = ('https://api.os.uk/features/v1/wfs?')\n",
    "\n",
    "    service = 'wfs'\n",
    "    request = 'GetFeature'\n",
    "    version = '2.0.0'\n",
    "    typeNames = feature_type\n",
    "    outputFormat = 'GEOJSON'\n",
    "\n",
    "    params_wfs = {'service':service,\n",
    "                  'key': 'SYftl2NvP35BS3NTa6MIuwv5Jo0meebK',\n",
    "                  'request':request,\n",
    "                  'version':version,\n",
    "                  'typeNames':typeNames,\n",
    "                  'outputFormat':outputFormat,\n",
    "                  'bbox': bbox,\n",
    "                 }\n",
    "\n",
    "    try:\n",
    "        r = requests.get(wfs_endpoint, params=params_wfs)\n",
    "        r.raise_for_status()\n",
    "    except requests.exceptions.RequestException as e:\n",
    "        print(e)\n",
    "   \n",
    "    payload = r.json()\n",
    "    \n",
    "    return payload\n",
    "\n"
   ]
  },
  {
   "cell_type": "markdown",
   "id": "3d65e0c9-44ef-44d1-ac2c-18fa09d82604",
   "metadata": {},
   "source": [
    "## Bbox examples"
   ]
  },
  {
   "cell_type": "code",
   "execution_count": 4,
   "id": "417d9107-bf4a-4347-a52c-80e61a711c4a",
   "metadata": {},
   "outputs": [],
   "source": [
    "heathrow_bbox = '51.425489,-0.578837,51.509863,-0.331644'\n",
    "luton_bbox = \"51.864354,-0.411768,51.890027,-0.329370\"\n",
    "lake_bbox = \"55.178886,-2.511239,55.190757,-2.470040\"\n",
    "field_bbox = \"52.128174,-1.159797,52.131365,-1.149498\"\n",
    "forest_bbox = \"56.989911,-3.846481,56.992743,-3.836181\""
   ]
  },
  {
   "cell_type": "markdown",
   "id": "d452b95f-d840-4ceb-a23f-9335987ffd93",
   "metadata": {},
   "source": [
    "## Airports"
   ]
  },
  {
   "cell_type": "code",
   "execution_count": 5,
   "id": "d81a00f6-ee28-41af-84cc-85d121311771",
   "metadata": {},
   "outputs": [
    {
     "name": "stdout",
     "output_type": "stream",
     "text": [
      "                            geometry  OBJECTID                     Name\n",
      "0  POINT (507325.86000 175741.92000)        43  London Heathrow Airport\n"
     ]
    }
   ],
   "source": [
    "def get_airports_in_bbox(bbox):\n",
    "    payload = get_feature_type_in_bbox(bbox, 'Zoomstack_Airports')\n",
    "    # WGS 84\n",
    "    WGS84 = 'epsg:4326'\n",
    "    # British National Grid\n",
    "    BNG = 'epsg:27700'\n",
    "\n",
    "    gdf_boundary = gpd.GeoDataFrame.from_features(payload['features'], crs=WGS84)\n",
    "    return gdf_boundary\n",
    "\n",
    "geo_df = get_airports_in_bbox(heathrow_bbox)\n",
    "print(geo_df)"
   ]
  },
  {
   "cell_type": "code",
   "execution_count": 6,
   "id": "834eb34c-23c6-44ca-ad3c-306c15557f73",
   "metadata": {},
   "outputs": [
    {
     "name": "stdout",
     "output_type": "stream",
     "text": [
      "True\n",
      "True\n",
      "False\n"
     ]
    }
   ],
   "source": [
    "def is_airport(bbox):\n",
    "    result = get_feature_type_in_bbox(bbox, 'Zoomstack_Airports')\n",
    "    if len(result['features']) > 0:\n",
    "        return True\n",
    "    else:\n",
    "        return False\n",
    "    \n",
    "print(is_airport(heathrow_bbox))\n",
    "print(is_airport(luton_bbox))\n",
    "print(is_airport(lake_bbox))"
   ]
  },
  {
   "cell_type": "markdown",
   "id": "199244b6-eac0-40fd-9b11-4389f1b78c12",
   "metadata": {
    "tags": []
   },
   "source": [
    "## Water"
   ]
  },
  {
   "cell_type": "code",
   "execution_count": 7,
   "id": "728ee320-2929-4a43-878c-5353652e579e",
   "metadata": {},
   "outputs": [
    {
     "name": "stdout",
     "output_type": "stream",
     "text": [
      "True\n",
      "True\n",
      "True\n",
      "False\n"
     ]
    }
   ],
   "source": [
    "def is_water(bbox):\n",
    "    result = get_feature_type_in_bbox(bbox, 'Zoomstack_Surfacewater')\n",
    "    if len(result['features']) > 0:\n",
    "        return True\n",
    "    else:\n",
    "        return False\n",
    "    \n",
    "print(is_water(heathrow_bbox))\n",
    "print(is_water(luton_bbox))\n",
    "print(is_water(lake_bbox))\n",
    "print(is_water(field_bbox))"
   ]
  },
  {
   "cell_type": "markdown",
   "id": "5e22633b-ee6b-42b8-8782-f92d2abe12f0",
   "metadata": {},
   "source": [
    "## Buildings "
   ]
  },
  {
   "cell_type": "code",
   "execution_count": 8,
   "id": "2029bf5f-23ec-4053-b0f6-04eb70208f15",
   "metadata": {},
   "outputs": [
    {
     "name": "stdout",
     "output_type": "stream",
     "text": [
      "True\n",
      "True\n",
      "False\n",
      "True\n",
      "False\n"
     ]
    }
   ],
   "source": [
    "def is_building(bbox):\n",
    "    result_local = get_feature_type_in_bbox(bbox, 'Zoomstack_LocalBuildings')\n",
    "    result_district = get_feature_type_in_bbox(bbox, 'Zoomstack_DistrictBuildings')\n",
    "    \n",
    "    if len(result_local['features']) > 0:\n",
    "        return True\n",
    "    elif len(result_district['features']) > 0:\n",
    "        return True\n",
    "    else:\n",
    "        return False\n",
    "\n",
    "print(is_building(heathrow_bbox))\n",
    "print(is_building(luton_bbox))\n",
    "print(is_building(lake_bbox))\n",
    "print(is_building(field_bbox))\n",
    "print(is_building(forest_bbox))\n"
   ]
  },
  {
   "cell_type": "markdown",
   "id": "99bdf18b-11af-4058-bd52-1892bc1f911a",
   "metadata": {},
   "source": [
    "## Railway stations"
   ]
  },
  {
   "cell_type": "code",
   "execution_count": 9,
   "id": "66d1b140-78a7-4f20-9124-a971fbd13785",
   "metadata": {},
   "outputs": [
    {
     "name": "stdout",
     "output_type": "stream",
     "text": [
      "True\n",
      "True\n",
      "False\n",
      "False\n",
      "False\n"
     ]
    }
   ],
   "source": [
    "def is_railway_station(bbox):\n",
    "    result = get_feature_type_in_bbox(bbox, 'Zoomstack_RailwayStations')\n",
    "    if len(result['features']) > 0:\n",
    "        return True\n",
    "    else:\n",
    "        return False\n",
    "    \n",
    "\n",
    "print(is_railway_station(heathrow_bbox))\n",
    "print(is_railway_station(luton_bbox))\n",
    "print(is_railway_station(lake_bbox))\n",
    "print(is_railway_station(field_bbox))\n",
    "print(is_railway_station(forest_bbox))"
   ]
  },
  {
   "cell_type": "markdown",
   "id": "7f9316eb-6da7-439c-9551-a5e0992cc91b",
   "metadata": {},
   "source": [
    "## Road"
   ]
  },
  {
   "cell_type": "code",
   "execution_count": 10,
   "id": "b0c4c2f5-f4d3-4935-be98-cef3c629afd7",
   "metadata": {},
   "outputs": [
    {
     "name": "stdout",
     "output_type": "stream",
     "text": [
      "True\n",
      "True\n",
      "True\n",
      "True\n",
      "False\n"
     ]
    }
   ],
   "source": [
    "def is_local_road(bbox):\n",
    "    result_local = get_feature_type_in_bbox(bbox, 'Zoomstack_RoadsLocal')\n",
    "    result_national = get_feature_type_in_bbox(bbox, 'Zoomstack_RoadsNational')\n",
    "    result_regional = get_feature_type_in_bbox(bbox, 'Zoomstack_RoadsRegional')\n",
    "    \n",
    "    if len(result_local['features']) > 0:\n",
    "        return True\n",
    "    elif len(result_national['features']) > 0:\n",
    "        return True\n",
    "    elif len(result_regional['features']) > 0:\n",
    "        return True\n",
    "    else:\n",
    "        return False\n",
    "    \n",
    "print(is_local_road(heathrow_bbox))\n",
    "print(is_local_road(luton_bbox))\n",
    "print(is_local_road(lake_bbox))\n",
    "print(is_local_road(field_bbox))\n",
    "print(is_local_road(forest_bbox))"
   ]
  },
  {
   "cell_type": "markdown",
   "id": "872e43ef-d341-46a6-8381-b51bddee1c95",
   "metadata": {},
   "source": [
    "## Railway"
   ]
  },
  {
   "cell_type": "code",
   "execution_count": 11,
   "id": "25fb9f5d-87d9-4c38-90b7-c5627d8c9426",
   "metadata": {},
   "outputs": [
    {
     "name": "stdout",
     "output_type": "stream",
     "text": [
      "True\n",
      "True\n",
      "False\n",
      "False\n",
      "False\n"
     ]
    }
   ],
   "source": [
    "def is_railway(bbox):\n",
    "    result = get_feature_type_in_bbox(bbox, 'Zoomstack_Rail')\n",
    "    if len(result['features']) > 0:\n",
    "        return True\n",
    "    else:\n",
    "        return False\n",
    "    \n",
    "print(is_railway(heathrow_bbox))\n",
    "print(is_railway(luton_bbox))\n",
    "print(is_railway(lake_bbox))\n",
    "print(is_railway(field_bbox))\n",
    "print(is_railway(forest_bbox))"
   ]
  },
  {
   "cell_type": "code",
   "execution_count": null,
   "id": "284092a3-a622-4bb3-a368-64efc0b9b4d7",
   "metadata": {},
   "outputs": [],
   "source": []
  },
  {
   "cell_type": "code",
   "execution_count": null,
   "id": "8b06c346-b8b0-47c7-804f-5b8dbe34d6fc",
   "metadata": {},
   "outputs": [],
   "source": []
  }
 ],
 "metadata": {
  "instance_type": "ml.t3.medium",
  "kernelspec": {
   "display_name": "Python 3 (Data Science)",
   "language": "python",
   "name": "python3__SAGEMAKER_INTERNAL__arn:aws:sagemaker:eu-west-2:712779665605:image/datascience-1.0"
  },
  "language_info": {
   "codemirror_mode": {
    "name": "ipython",
    "version": 3
   },
   "file_extension": ".py",
   "mimetype": "text/x-python",
   "name": "python",
   "nbconvert_exporter": "python",
   "pygments_lexer": "ipython3",
   "version": "3.7.10"
  }
 },
 "nbformat": 4,
 "nbformat_minor": 5
}
